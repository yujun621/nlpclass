{
 "cells": [
  {
   "cell_type": "code",
   "execution_count": 2,
   "metadata": {},
   "outputs": [
    {
     "name": "stdout",
     "output_type": "stream",
     "text": [
      "1 1\n",
      "2\n",
      "2 3\n",
      "5\n",
      "\n"
     ]
    }
   ],
   "source": [
    "def add(a,b):\n",
    "    if a > 0 and a < 10 and b > 0 and b < 10:\n",
    "        return a+b\n",
    "    else:\n",
    "        return \"error\"\n",
    "try:\n",
    "    while True:\n",
    "        temp = input()\n",
    "    if len(temp) < 1 :\n",
    "        break\n",
    "    input_list = [int(i) for i in temp.split(\" \")]    \n",
    "    if input_list[0] == 0 and input_list[1]==0:\n",
    "        break\n",
    "    print(add(input_list[0],input_list[1]))\n",
    "except EOFError:\n",
    "    pass"
   ]
  },
  {
   "cell_type": "code",
   "execution_count": null,
   "metadata": {},
   "outputs": [],
   "source": [
    "def add(a,b):\n",
    "    if a > 0 and a < 10 and b > 0 and b < 10:\n",
    "        return a+b\n",
    "    else:\n",
    "        return \"error\"\n",
    "try:\n",
    "    while True:\n",
    "        temp = input()\n",
    "        if len(temp) < 1 :\n",
    "            break\n",
    "        input_list = [int(i) for i in temp.split(\" \")]    \n",
    "        if input_list[0] == 0 and input_list[1]==0:\n",
    "            break\n",
    "        print(add(input_list[0],input_list[1]))\n",
    "except EOFError:\n",
    "    pass"
   ]
  },
  {
   "cell_type": "code",
   "execution_count": 8,
   "metadata": {},
   "outputs": [
    {
     "name": "stdout",
     "output_type": "stream",
     "text": [
      "5\n",
      "1 1\n",
      "Case #1: 2\n",
      "2 3\n",
      "Case #2: 5\n",
      "3 4\n",
      "Case #3: 7\n",
      "9 8\n",
      "Case #4: 17\n",
      "5 2\n",
      "Case #5: 7\n"
     ]
    }
   ],
   "source": [
    "#백준10953\n",
    "\n",
    "def add(A,B):\n",
    "    if (A>0 and A<10) and (B>0 and B < 10):\n",
    "        return A+B\n",
    "    else:\n",
    "        return \"error\"\n",
    "    \n",
    "case_number = int(input())\n",
    "\n",
    "for idx in range(case_number):\n",
    "    temp = input().split(\" \")\n",
    "    number = [int(i) for i in temp]\n",
    "    print(\"Case #{1}: {0}\".format(add(number[0],number[1]),idx+1))\n",
    "    \n"
   ]
  },
  {
   "cell_type": "code",
   "execution_count": 3,
   "metadata": {},
   "outputs": [
    {
     "name": "stdout",
     "output_type": "stream",
     "text": [
      "5\n",
      "1 1\n",
      "Case #1: 1 + 1 = 2\n",
      "2 3\n",
      "Case #2: 2 + 3 = 5\n",
      "3 4\n",
      "Case #3: 3 + 4 = 7\n",
      "9 8\n",
      "Case #4: 9 + 8 = 17\n",
      "5 2\n",
      "Case #5: 5 + 2 = 7\n"
     ]
    }
   ],
   "source": [
    "#Case #x: A + B = C\n",
    "\n",
    "#백준11022\n",
    "\n",
    "def add(A,B):\n",
    "    if (A>0 and A<10) and (B>0 and B < 10):\n",
    "        return A+B\n",
    "    else:\n",
    "        return \"error\"\n",
    "    \n",
    "case_number = int(input())\n",
    "\n",
    "for idx in range(case_number):\n",
    "    temp = input().split(\" \")\n",
    "    number = [int(i) for i in temp]\n",
    "    print(\"Case #{0}: {1} + {2} = {3}\".format(idx+1,number[0],number[1],add(number[0],number[1])))   "
   ]
  },
  {
   "cell_type": "code",
   "execution_count": null,
   "metadata": {},
   "outputs": [
    {
     "name": "stdout",
     "output_type": "stream",
     "text": [
      "\n",
      "\n",
      "\n",
      "\n",
      "\n",
      "\n",
      "\n",
      "\n",
      "$\n",
      "$\n",
      "$\n",
      "$\n",
      "$\n",
      "$\n",
      "a\n",
      "a\n"
     ]
    }
   ],
   "source": [
    "try:\n",
    "    while True:\n",
    "        string = input()\n",
    "        print(string)\n",
    "except EOFError:\n",
    "    pass"
   ]
  },
  {
   "cell_type": "code",
   "execution_count": 2,
   "metadata": {},
   "outputs": [
    {
     "name": "stdout",
     "output_type": "stream",
     "text": [
      "5\n",
      "54321\n",
      "15\n"
     ]
    }
   ],
   "source": [
    "#백준 11720\n",
    "case_num = int(input())\n",
    "string = input()\n",
    "sum_ = 0\n",
    "for i in range(len(string)):\n",
    "    sum_+=int(string[i])\n",
    "print(sum_)"
   ]
  },
  {
   "cell_type": "code",
   "execution_count": 5,
   "metadata": {},
   "outputs": [
    {
     "name": "stdout",
     "output_type": "stream",
     "text": [
      "123456789123456789123456789\n",
      "1234567891\n",
      "2345678912\n",
      "3456789\n"
     ]
    }
   ],
   "source": [
    "#백준11721\n",
    "string = input()\n",
    "while len(string) >= 10:\n",
    "    print(string[0:10])\n",
    "    string = string[10:]\n",
    "print(string)"
   ]
  },
  {
   "cell_type": "code",
   "execution_count": 6,
   "metadata": {},
   "outputs": [],
   "source": [
    "stack_list = list()"
   ]
  },
  {
   "cell_type": "code",
   "execution_count": 10,
   "metadata": {},
   "outputs": [
    {
     "data": {
      "text/plain": [
       "0"
      ]
     },
     "execution_count": 10,
     "metadata": {},
     "output_type": "execute_result"
    }
   ],
   "source": [
    "len(stack_list)"
   ]
  },
  {
   "cell_type": "code",
   "execution_count": 4,
   "metadata": {},
   "outputs": [],
   "source": [
    "#백준 10828 \n",
    "\n",
    "class Stack:\n",
    "    def __init__(self):\n",
    "        self.__stack_list = list()\n",
    "        self.__stack_top = -1\n",
    "    def push(self, input_value):\n",
    "        self.__stack_list.append(input_value)\n",
    "        self.__stack_top += 1\n",
    "    def pop(self):\n",
    "        if self.__stack_top == -1:\n",
    "            return -1\n",
    "        else:\n",
    "            self.__stack_top -= 1\n",
    "            return self.__stack_list.pop()\n",
    "    def size(self):\n",
    "        return (self.__stack_top+1)\n",
    "    def empty(self):\n",
    "        if self.__stack_top == -1:\n",
    "            return 1\n",
    "        else:\n",
    "            return 0\n",
    "    def top(self):\n",
    "        if self.__stack_top == -1:\n",
    "            return -1\n",
    "        else:\n",
    "            return self.__stack_list[self.__stack_top]\n",
    "        \n",
    "temp_stack = Stack()\n",
    "\n",
    "command_num = int(input())\n",
    "for i in range(command_num):\n",
    "    command = input()\n",
    "    stack_command = command.split(\" \")\n",
    "    if stack_command[0] == \"push\":\n",
    "        temp_stack.push(stack_command[1])\n",
    "    elif stack_command[0] == \"top\":\n",
    "        print(temp_stack.top())\n",
    "    elif stack_command[0] == \"size\":\n",
    "        print(temp_stack.size())\n",
    "    elif stack_command[0] == \"pop\":\n",
    "        print(temp_stack.pop())\n",
    "    elif stack_command[0] == \"empty\":\n",
    "        print(temp_stack.empty())"
   ]
  },
  {
   "cell_type": "code",
   "execution_count": null,
   "metadata": {},
   "outputs": [],
   "source": [
    "a"
   ]
  },
  {
   "cell_type": "code",
   "execution_count": 5,
   "metadata": {},
   "outputs": [
    {
     "name": "stdout",
     "output_type": "stream",
     "text": [
      "14\n",
      "push 1\n",
      "push 2\n",
      "top\n",
      "2\n",
      "size\n",
      "2\n",
      "empty\n",
      "0\n",
      "pop\n",
      "2\n",
      "pop\n",
      "1\n",
      "pop\n",
      "-1\n",
      "size\n",
      "0\n",
      "empty\n",
      "1\n",
      "pop\n",
      "-1\n",
      "push\n"
     ]
    },
    {
     "ename": "IndexError",
     "evalue": "list index out of range",
     "output_type": "error",
     "traceback": [
      "\u001b[1;31m---------------------------------------------------------------------------\u001b[0m",
      "\u001b[1;31mIndexError\u001b[0m                                Traceback (most recent call last)",
      "\u001b[1;32m<ipython-input-5-024a9b74278a>\u001b[0m in \u001b[0;36m<module>\u001b[1;34m\u001b[0m\n\u001b[0;32m      6\u001b[0m     \u001b[0mstack_command\u001b[0m \u001b[1;33m=\u001b[0m \u001b[0mcommand\u001b[0m\u001b[1;33m.\u001b[0m\u001b[0msplit\u001b[0m\u001b[1;33m(\u001b[0m\u001b[1;34m\" \"\u001b[0m\u001b[1;33m)\u001b[0m\u001b[1;33m\u001b[0m\u001b[1;33m\u001b[0m\u001b[0m\n\u001b[0;32m      7\u001b[0m     \u001b[1;32mif\u001b[0m \u001b[0mstack_command\u001b[0m\u001b[1;33m[\u001b[0m\u001b[1;36m0\u001b[0m\u001b[1;33m]\u001b[0m \u001b[1;33m==\u001b[0m \u001b[1;34m\"push\"\u001b[0m\u001b[1;33m:\u001b[0m\u001b[1;33m\u001b[0m\u001b[1;33m\u001b[0m\u001b[0m\n\u001b[1;32m----> 8\u001b[1;33m         \u001b[0mtemp_stack\u001b[0m\u001b[1;33m.\u001b[0m\u001b[0mpush\u001b[0m\u001b[1;33m(\u001b[0m\u001b[0mstack_command\u001b[0m\u001b[1;33m[\u001b[0m\u001b[1;36m1\u001b[0m\u001b[1;33m]\u001b[0m\u001b[1;33m)\u001b[0m\u001b[1;33m\u001b[0m\u001b[1;33m\u001b[0m\u001b[0m\n\u001b[0m\u001b[0;32m      9\u001b[0m     \u001b[1;32melif\u001b[0m \u001b[0mstack_command\u001b[0m\u001b[1;33m[\u001b[0m\u001b[1;36m0\u001b[0m\u001b[1;33m]\u001b[0m \u001b[1;33m==\u001b[0m \u001b[1;34m\"top\"\u001b[0m\u001b[1;33m:\u001b[0m\u001b[1;33m\u001b[0m\u001b[1;33m\u001b[0m\u001b[0m\n\u001b[0;32m     10\u001b[0m         \u001b[0mprint\u001b[0m\u001b[1;33m(\u001b[0m\u001b[0mtemp_stack\u001b[0m\u001b[1;33m.\u001b[0m\u001b[0mtop\u001b[0m\u001b[1;33m(\u001b[0m\u001b[1;33m)\u001b[0m\u001b[1;33m)\u001b[0m\u001b[1;33m\u001b[0m\u001b[1;33m\u001b[0m\u001b[0m\n",
      "\u001b[1;31mIndexError\u001b[0m: list index out of range"
     ]
    }
   ],
   "source": [
    "temp_stack = Stack()\n",
    "\n",
    "command_num = int(input())\n",
    "for i in range(command_num):\n",
    "    command = input()\n",
    "    stack_command = command.split(\" \")\n",
    "    if stack_command[0] == \"push\":\n",
    "        temp_stack.push(stack_command[1])\n",
    "    elif stack_command[0] == \"top\":\n",
    "        print(temp_stack.top())\n",
    "    elif stack_command[0] == \"size\":\n",
    "        print(temp_stack.size())\n",
    "    elif stack_command[0] == \"pop\":\n",
    "        print(temp_stack.pop())\n",
    "    elif stack_command[0] == \"empty\":\n",
    "        print(temp_stack.empty())"
   ]
  },
  {
   "cell_type": "code",
   "execution_count": 8,
   "metadata": {},
   "outputs": [
    {
     "name": "stdout",
     "output_type": "stream",
     "text": [
      "(())()()())))\n",
      "NO\n"
     ]
    }
   ],
   "source": [
    "#백준 9012\n",
    "input_num = int(input())\n",
    "for i in range(input_num):\n",
    "    input_string = input()\n",
    "    check_state = 0 # )는 -1 (는 +1\n",
    "    for i in range(len(input_string)):\n",
    "        if input_string[i] == \"(\":\n",
    "            check_state += 1\n",
    "        elif input_string[i] == \")\":\n",
    "            check_state -= 1\n",
    "        else:\n",
    "            print(\"error\")\n",
    "            break\n",
    "        if check_state < 0:\n",
    "            break\n",
    "    if check_state == 0:\n",
    "        print(\"YES\")\n",
    "    else:\n",
    "        print(\"NO\")"
   ]
  },
  {
   "cell_type": "code",
   "execution_count": null,
   "metadata": {},
   "outputs": [],
   "source": []
  }
 ],
 "metadata": {
  "kernelspec": {
   "display_name": "Python 3",
   "language": "python",
   "name": "python3"
  },
  "language_info": {
   "codemirror_mode": {
    "name": "ipython",
    "version": 3
   },
   "file_extension": ".py",
   "mimetype": "text/x-python",
   "name": "python",
   "nbconvert_exporter": "python",
   "pygments_lexer": "ipython3",
   "version": "3.7.3"
  }
 },
 "nbformat": 4,
 "nbformat_minor": 2
}
