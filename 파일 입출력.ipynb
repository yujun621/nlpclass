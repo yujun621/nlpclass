{
 "cells": [
  {
   "cell_type": "markdown",
   "metadata": {},
   "source": [
    "# 메모\n",
    "\"문자열 {0},{1} 문자열\".format(값,값)\n",
    "\n",
    "print(\"I like {0}, {1} !!\".format(\"apple\", \"banana\"))\n",
    "print(\"Number {0}, {2}, {1} !!\".format(1,2,3))\n",
    "print(\"Number {}, {}, {} !!\".format(1,2,3))"
   ]
  },
  {
   "cell_type": "markdown",
   "metadata": {},
   "source": [
    "# 파일 입출력"
   ]
  },
  {
   "cell_type": "code",
   "execution_count": 1,
   "metadata": {},
   "outputs": [],
   "source": [
    "#파일에 문자열 쓰기\n",
    "file = open(\".\\\\save\\\\file.txt\",\"w\") #파일 쓰기 모드,(W)\n",
    "file.write(\"First File \\n\") #문자열 저장\n",
    "file.write(\"Second Line\") #문자열 저장\n",
    "file.close() #파일 객체 닫기"
   ]
  },
  {
   "cell_type": "code",
   "execution_count": 3,
   "metadata": {},
   "outputs": [
    {
     "name": "stdout",
     "output_type": "stream",
     "text": [
      "First File \n",
      "Second Line\n"
     ]
    }
   ],
   "source": [
    "#파일에 문자열 읽기\n",
    "file = open(\".\\\\save\\\\file.txt\",\"r\") #파일 읽기 모드,(r)\n",
    "text = file.read() #파일에서 내용 읽기\n",
    "\n",
    "print(text)\n",
    "file.close()"
   ]
  },
  {
   "cell_type": "markdown",
   "metadata": {},
   "source": [
    "### with\n",
    "자동으로 파일객체 닫기"
   ]
  },
  {
   "cell_type": "code",
   "execution_count": 4,
   "metadata": {},
   "outputs": [
    {
     "name": "stdout",
     "output_type": "stream",
     "text": [
      "First File \n",
      "Second Line\n"
     ]
    }
   ],
   "source": [
    "with open(\".\\\\save\\\\file.txt\",\"r\") as file:\n",
    "    text = file.read()\n",
    "\n",
    "print(text)"
   ]
  },
  {
   "cell_type": "markdown",
   "metadata": {},
   "source": [
    "### 한줄씩 읽기"
   ]
  },
  {
   "cell_type": "code",
   "execution_count": 8,
   "metadata": {},
   "outputs": [
    {
     "name": "stdout",
     "output_type": "stream",
     "text": [
      "First File \n",
      "Second Line"
     ]
    }
   ],
   "source": [
    "with open(\".\\\\save\\\\file.txt\",\"r\") as file:\n",
    "    line = file.readline()\n",
    "    print(line, end=\"\")\n",
    "    while line:\n",
    "        line = file.readline()\n",
    "        print(line, end=\"\")"
   ]
  },
  {
   "cell_type": "code",
   "execution_count": 11,
   "metadata": {},
   "outputs": [
    {
     "name": "stdout",
     "output_type": "stream",
     "text": [
      "['First File \\n', 'Second Line']\n"
     ]
    }
   ],
   "source": [
    "with open(\".\\\\save\\\\file.txt\",\"r\") as file:\n",
    "    text = None\n",
    "    lines = file.readlines()\n",
    "    print(lines)"
   ]
  },
  {
   "cell_type": "markdown",
   "metadata": {},
   "source": [
    "### 리스트를 파일에 쓰기"
   ]
  },
  {
   "cell_type": "code",
   "execution_count": 16,
   "metadata": {},
   "outputs": [],
   "source": [
    "text = ['First File \\n', 'Second Line']\n",
    "with open(\".\\\\save\\\\file.txt\",\"w\") as file:\n",
    "    file.writelines(text)"
   ]
  },
  {
   "cell_type": "markdown",
   "metadata": {},
   "source": [
    "### 연습문제 1\n",
    "14-1-12.txt 텍스트파일을 리스트로 읽어 단어 길이가 5보다 큰 단어만 나열하세요."
   ]
  },
  {
   "cell_type": "code",
   "execution_count": 26,
   "metadata": {},
   "outputs": [
    {
     "name": "stdout",
     "output_type": "stream",
     "text": [
      "information,fantastic,activity,homeroom,importance,gossip,dictionary,artist,useful,website,communicate,"
     ]
    }
   ],
   "source": [
    "with open(\".\\\\save\\\\14-1-12.txt\",\"r\") as file:\n",
    "    line = file.readline().strip(\"\\n\")\n",
    "    if len(line) > 5:\n",
    "        print(line, end=\",\")\n",
    "    while line:\n",
    "        line = file.readline().strip(\"\\n\")\n",
    "        if len(line) > 5:\n",
    "            print(line, end=\",\")"
   ]
  },
  {
   "cell_type": "code",
   "execution_count": 30,
   "metadata": {},
   "outputs": [
    {
     "name": "stdout",
     "output_type": "stream",
     "text": [
      "['information', 'fantastic', 'activity', 'such', 'homeroom', 'importance', 'gossip', 'dictionary', 'artist', 'grade', 'useful', 'allow', 'website', 'rule', 'communicate']\n"
     ]
    }
   ],
   "source": [
    "with open(\".\\\\save\\\\14-1-12.txt\",\"r\") as file:\n",
    "    text = None\n",
    "    lines = file.read().splitlines()\n",
    "    print(lines)"
   ]
  },
  {
   "cell_type": "markdown",
   "metadata": {},
   "source": [
    "### 연습문제 2\n",
    "가위바위보 게임 업그레이드\n",
    "\n",
    "이전에 만든 가위바위보 게임을 총 게임횟수와 승률을 게임을 다시 실행하도 유지되도록 수정하세요\n",
    "\n",
    "심화 이름을 입력받아 이름별로 게임횟수와 승률을 저장해주세요\n"
   ]
  },
  {
   "cell_type": "code",
   "execution_count": 51,
   "metadata": {},
   "outputs": [
    {
     "name": "stdout",
     "output_type": "stream",
     "text": [
      "입력해주세요:(가위:1, 바위:2, 보:3, 종료: 이외의 숫자 또는 문자)1\n",
      "유저: 가위 , 컴퓨터: 바위\n",
      "입력해주세요:(가위:1, 바위:2, 보:3, 종료: 이외의 숫자 또는 문자)5\n",
      "게임종료( 전체: 4 승리: 3 비김: 0 패배: 1 )\n"
     ]
    }
   ],
   "source": [
    "import random #random 모듈\n",
    "\n",
    "user_input = 3\n",
    "\n",
    "with open(\".\\\\save\\\\game_save.txt\",\"r\") as file: \n",
    "    line = file.readline().strip(\"\\n\") # 불러오기\n",
    "    \n",
    "game_result_list = [int(i) for i in line.split(\",\")]\n",
    "\n",
    "state = (\"가위\",\"바위\",\"보\")\n",
    "while True:\n",
    "    temp_input = input(\"입력해주세요:(가위:1, 바위:2, 보:3, 종료: 이외의 숫자 또는 문자)\")\n",
    "    if not temp_input.isdigit():\n",
    "        break\n",
    "    else:\n",
    "        user_input = int(temp_input)\n",
    "        if user_input > 3 or user_input <= 0:\n",
    "            break\n",
    "    \n",
    "    computer_int = random.randint(1,3)\n",
    "    \n",
    "    if user_input == computer_int:\n",
    "        game_result_list[1]+=1\n",
    "    elif user_input == 3 and computer_int==1:\n",
    "        game_result_list[2]+=1\n",
    "    elif computer_int == 3 and user_input==1:\n",
    "        game_result_list[0]+=1\n",
    "    elif user_input < computer_int:\n",
    "        game_result_list[2]+=1\n",
    "    else:\n",
    "        game_result_list[0]+=1\n",
    "    game_result_list[3]+=1\n",
    "        \n",
    "    print(\"유저:\",state[user_input-1],\", 컴퓨터:\",state[computer_int-1])\n",
    "    \n",
    "game_result_write = map(str, game_result_list)\n",
    "with open(\".\\\\save\\\\game_save.txt\",\"w\") as file:\n",
    "    file.write(\",\".join(game_result_write))  # 저장하기\n",
    "    \n",
    "print(\"게임종료(\",\"전체:\",game_result_list[3],\"승리:\",game_result_list[0],\"비김:\",game_result_list[1],\"패배:\",game_result_list[2],\")\")"
   ]
  },
  {
   "cell_type": "markdown",
   "metadata": {},
   "source": [
    "### 성적관리 프로그램\n",
    "\n",
    "성적관리 프로그램 개발\n",
    "\n",
    "메뉴를 선택해주세요 1 - 입력, 2 - 조회, 3 - 삭제, 0 - 종료) : 1\n",
    "이름 : 이진범\n",
    "수학 : 30\n",
    "과학 : 40\n",
    "영어 : 50\n",
    "\n",
    "메뉴를 선택해주세요 1 - 입력, 2 - 조회, 3 - 삭제, 0 - 종료) : 2\n",
    "[0] 이름 : 이민호, 수학 : 40, 과학 : 50, 영어 : 30\n",
    "[1] 이름 : 이진범, 수학 : 30, 과학 : 40, 영어 : 50\n",
    "\n",
    "메뉴를 선택해주세요 1 - 입력, 2 - 조회, 3 - 삭제, 0 - 종료) : 3\n",
    "[0] 이름 : 이민호, 수학 : 40, 과학 : 50, 영어 : 30\n",
    "[1] 이름 : 이진범, 수학 : 30, 과학 : 40, 영어 : 50\n",
    "삭제할 번호를 입력해주세요 : 0\n",
    "삭제가 완료되었습니다.\n",
    "\n",
    "메뉴를 선택해주세요 1 - 입력, 2 - 조회, 3 - 삭제, 0 - 종료) : 0\n",
    "종료되었습니다\n",
    "\n",
    "\n",
    "\n",
    "다음과 같이 동작하는 프로그램을 개발하세요\n",
    "프로그램 종료후 다시 접속할때 이전이 입력됬던 값을 파일에 저장해놨다 불러와주세요\n",
    "\n",
    "심화 수정기능개발"
   ]
  },
  {
   "cell_type": "code",
   "execution_count": 41,
   "metadata": {},
   "outputs": [
    {
     "data": {
      "text/plain": [
       "'0,0,0,0'"
      ]
     },
     "execution_count": 41,
     "metadata": {},
     "output_type": "execute_result"
    }
   ],
   "source": [
    "#전체 리스트 포멧\n",
    "# n * 4 리스트 n은 입력한 수 만큼\n",
    "\n",
    "#기능: 수정 기능 - n 입력시 해당 라인 수정\n",
    "\n",
    "#학생 포멧\n",
    "#[이름, 수학, 과학, 영어] \n",
    "\n",
    "#----------------------------------------------------\n",
    "#with open(\".\\\\save\\\\student_save.txt\",\"r\") as file: \n",
    "#    line = file.readline().strip(\"\\n\") # 불러오기\n",
    "#    \n",
    "#student_result_list = [int(i) for i in line.split(\",\")]\n",
    "#==========================================================\n",
    "\n",
    "with open(\".\\\\save\\\\student_save.txt\",\"r\") as file: \n",
    "    line = file.readline().strip(\"\\n\") # 불러오기    \n",
    "    list_1.append(line)\n",
    "    while line:\n",
    "        list_1.append(line).strip(\"\\n\")\n",
    "    \n",
    "list_1 = list() #전체 성적 관리\n",
    "list_2 = list() #학생 한 명당 성적 라인\n",
    "\n",
    "list_1.append(list_2) #이러한 형식으로 입력을 받음\n",
    "\n",
    "while True:\n",
    "    select_var = input(\"메뉴를 선택해주세요 1 - 입력, 2 - 조회, 3 - 삭제, 4 - 수정, 0 - 종료) :\")\n",
    "    if not select_var.isdigit(): # 숫자가 아닌 경우 continue\n",
    "        continue\n",
    "    else:\n",
    "        select_var = int(select_var)\n",
    "        if select_var< 0 or select_var > 4:\n",
    "            continue\n",
    "        elif select_var == 1:#입력\n",
    "            name_input = input(\"이름을 입력하세요.\")\n",
    "            while True:\n",
    "                math_input = input(\"수학 점수를 입력하세요.\")\n",
    "                science_input = input(\"과학 점수를 입력하세요.\")\n",
    "                english_input = input(\"영어 점수를 입력하세요.\")\n",
    "                if math_input.isdigit() and science_input.isdigit() and english_input.isdigit():\n",
    "                    math_input = float(math_input)\n",
    "                    science_input = float(science_input)\n",
    "                    english_input = float(english_input)\n",
    "                    break\n",
    "                else:\n",
    "                    print(\"점수를 잘못 입력하셨습니다.\")\n",
    "        \n",
    "        elif select_var == 2:#조회\n",
    "            \n",
    "        elif select_var == 3:#삭제\n",
    "            \n",
    "        elif select_var == 4:#수정\n",
    "            \n",
    "        elif select_var == 0:#종료\n",
    "            break\n",
    "        else: # 잘못 입력\n",
    "            print(\"error\")\n",
    "            continue\n",
    "            "
   ]
  },
  {
   "cell_type": "code",
   "execution_count": 52,
   "metadata": {},
   "outputs": [],
   "source": [
    "game_result_list = ['0',0,0,0]\n",
    "game_result_write = map(str, game_result_list)\n",
    "with open(\".\\\\save\\\\student_save.txt\",\"w\") as file:\n",
    "    file.write(\",\".join(game_result_write))  # 저장하기"
   ]
  },
  {
   "cell_type": "code",
   "execution_count": 53,
   "metadata": {},
   "outputs": [
    {
     "data": {
      "text/plain": [
       "<map at 0x5fcb320>"
      ]
     },
     "execution_count": 53,
     "metadata": {},
     "output_type": "execute_result"
    }
   ],
   "source": [
    "game_result_write"
   ]
  },
  {
   "cell_type": "code",
   "execution_count": 54,
   "metadata": {},
   "outputs": [
    {
     "data": {
      "text/plain": [
       "'0,0,0,0'"
      ]
     },
     "execution_count": 54,
     "metadata": {},
     "output_type": "execute_result"
    }
   ],
   "source": [
    "with open(\".\\\\save\\\\student_save.txt\",\"r\") as file: \n",
    "    line = file.readline().strip(\"\\n\") # 불러오기    \n",
    "line"
   ]
  },
  {
   "cell_type": "code",
   "execution_count": null,
   "metadata": {},
   "outputs": [],
   "source": []
  }
 ],
 "metadata": {
  "kernelspec": {
   "display_name": "Python 3",
   "language": "python",
   "name": "python3"
  },
  "language_info": {
   "codemirror_mode": {
    "name": "ipython",
    "version": 3
   },
   "file_extension": ".py",
   "mimetype": "text/x-python",
   "name": "python",
   "nbconvert_exporter": "python",
   "pygments_lexer": "ipython3",
   "version": "3.7.3"
  }
 },
 "nbformat": 4,
 "nbformat_minor": 2
}
