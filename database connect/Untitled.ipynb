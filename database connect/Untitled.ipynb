{
 "cells": [
  {
   "cell_type": "code",
   "execution_count": 1,
   "metadata": {},
   "outputs": [],
   "source": [
    "import MySQLdb"
   ]
  },
  {
   "cell_type": "code",
   "execution_count": 2,
   "metadata": {},
   "outputs": [],
   "source": [
    "db = MySQLdb.connect(host=\"localhost\",  # host      # 127.0.0.1\n",
    "                     user=\"root\",       # username  # root\n",
    "                     passwd=\"1234\",     # password  # 1234\n",
    "                     db=\"naver_movies\")         # DB NAME"
   ]
  },
  {
   "cell_type": "code",
   "execution_count": 3,
   "metadata": {},
   "outputs": [],
   "source": [
    "cur = db.cursor()"
   ]
  },
  {
   "cell_type": "code",
   "execution_count": 4,
   "metadata": {},
   "outputs": [
    {
     "data": {
      "text/plain": [
       "<_mysql.connection open to 'localhost' at 46d2168>"
      ]
     },
     "execution_count": 4,
     "metadata": {},
     "output_type": "execute_result"
    }
   ],
   "source": [
    "db"
   ]
  },
  {
   "cell_type": "code",
   "execution_count": 5,
   "metadata": {},
   "outputs": [
    {
     "data": {
      "text/plain": [
       "<MySQLdb.cursors.Cursor at 0x5b02e80>"
      ]
     },
     "execution_count": 5,
     "metadata": {},
     "output_type": "execute_result"
    }
   ],
   "source": [
    "cur"
   ]
  },
  {
   "cell_type": "code",
   "execution_count": 7,
   "metadata": {},
   "outputs": [
    {
     "name": "stderr",
     "output_type": "stream",
     "text": [
      "C:\\ProgramData\\Anaconda3\\lib\\site-packages\\ipykernel_launcher.py:12: Warning: (1050, \"Table 'naver_movie' already exists\")\n",
      "  if sys.path[0] == '':\n"
     ]
    },
    {
     "data": {
      "text/plain": [
       "0"
      ]
     },
     "execution_count": 7,
     "metadata": {},
     "output_type": "execute_result"
    }
   ],
   "source": [
    "# IF(조건, 참값, 거짓값)\n",
    "query = \"\"\"\n",
    "        CREATE TABLE IF NOT EXISTS naver_movie\n",
    "            (code    INTEGER      NOT NULL      PRIMARY KEY,\n",
    "             url     VARCHAR(255) NOT NULL,\n",
    "             created_at    DATETIME DEFAULT CURRENT_TIMESTAMP,\n",
    "             title   VARCHAR(100) NOT NULL,\n",
    "             story   TEXT,\n",
    "             opened  DATETIME)\n",
    "             ENGINE INNODB;\n",
    "        \"\"\"\n",
    "cur.execute(query)"
   ]
  },
  {
   "cell_type": "code",
   "execution_count": 8,
   "metadata": {},
   "outputs": [
    {
     "data": {
      "text/plain": [
       "0"
      ]
     },
     "execution_count": 8,
     "metadata": {},
     "output_type": "execute_result"
    }
   ],
   "source": [
    "query = \"\"\"\n",
    "        CREATE TABLE IF NOT EXISTS movie_comment(\n",
    "            star    INTEGER    NOT NULL,\n",
    "            comment TEXT       NOT NULL,\n",
    "            movie_code INTEGER,\n",
    "            author  VARCHAR(100),\n",
    "            commented_at DATETIME,\n",
    "            created_at DATETIME DEFAULT CURRENT_TIMESTAMP,\n",
    "            PRIMARY KEY (author, commented_at),\n",
    "            FOREIGN KEY(movie_code)\n",
    "            REFERENCES naver_movie(code) on delete cascade)\n",
    "            ENGINE INNODB;\n",
    "            ;\n",
    "\"\"\"\n",
    "cur.execute(query)"
   ]
  },
  {
   "cell_type": "code",
   "execution_count": 9,
   "metadata": {},
   "outputs": [],
   "source": [
    "import requests\n",
    "from urllib import parse\n",
    "from bs4 import BeautifulSoup\n",
    "import datetime\n",
    "import math"
   ]
  },
  {
   "cell_type": "code",
   "execution_count": null,
   "metadata": {},
   "outputs": [],
   "source": []
  },
  {
   "cell_type": "code",
   "execution_count": 10,
   "metadata": {},
   "outputs": [],
   "source": [
    "def get_movie_list(start_page, end_page):\n",
    "    today = datetime.datetime.now()\n",
    "    \n",
    "    movie_list = []\n",
    "    for page in range(start_page, end_page+1):\n",
    "        movie_list_url = 'https://movie.naver.com/movie/sdb/rank/rmovie.nhn'\n",
    "        params = {\n",
    "            'sel':'pnt',\n",
    "            'date':today.strftime('%Y%m%d'),\n",
    "            'page':page\n",
    "        }\n",
    "        resp = requests.get(movie_list_url)\n",
    "        resp.encoding = 'utf-8'\n",
    "    \n",
    "        soup = BeautifulSoup(resp.content)\n",
    "        # list_ranking = soup.find(class_='list_ranking').find_all('tr')\n",
    "        list_ranking = soup.select('.list_ranking>tbody>tr')\n",
    "    \n",
    "        for movie_tr in list_ranking:\n",
    "            all_td = movie_tr.find_all('td')\n",
    "            try:\n",
    "                img = all_td[0].img['alt']\n",
    "                link = all_td[1].find('a')['href']\n",
    "                title = all_td[1].find('a').text\n",
    "                \n",
    "                code = parse.parse_qs(parse.urlsplit(link).query)['code'][0]\n",
    "            except TypeError:\n",
    "                pass\n",
    "\n",
    "            else:\n",
    "                movie_list.append({\n",
    "                    'img':img,\n",
    "                    'link':link,\n",
    "                    'title':title,\n",
    "                    'code':code\n",
    "                })\n",
    "                \n",
    "    return movie_list"
   ]
  },
  {
   "cell_type": "code",
   "execution_count": 16,
   "metadata": {},
   "outputs": [],
   "source": [
    "def get_movie_detail(code):\n",
    "    base_url = 'https://movie.naver.com/movie/bi/mi/basic.nhn'\n",
    "    params = {\n",
    "        'code':code\n",
    "    }\n",
    "    resp = requests.get(base_url, params)\n",
    "    resp.encoding ='utf-8'\n",
    "    soup = BeautifulSoup(resp.content)\n",
    "    \n",
    "    opend = soup.find('dt', text='개요()').find_next_sibling('dd').find_all('span')[-1].text.strip()\n",
    "    opend = ''.join(opend.split('\\n'))[:10]\n",
    "\n",
    "    story = soup.find('div', class_='story_area')\n",
    "    print(story)\n",
    "    return {\n",
    "        'opend':opend,\n",
    "        'story':story\n",
    "    }\n",
    "    \n",
    "    \n",
    "def get_movie_comment(code, last_comment='15788558'):\n",
    "    base_url = '/movie/bi/mi/pointWriteFormList.nhn'\n",
    "    page = 1\n",
    "    comment_list = []\n",
    "    \n",
    "    while True:\n",
    "        params={\n",
    "            'code':171539,\n",
    "            'type':'after',\n",
    "            'order':'newest',\n",
    "            'page':page\n",
    "        }\n",
    "        resp = requests.get(base_url, params)\n",
    "        resp.encoding = 'utf-8'\n",
    "        soup = BeautifulSoup(resp.content)\n",
    "        \n",
    "        comments = soup.find('div', class_='score_result').find_all('li')\n",
    "        for comment in comments:\n",
    "            star = comment.find('div', class_='star_score').text\n",
    "            reple = comment.find('div', class_='score_reple').find('p').text\n",
    "            \n",
    "            dd = comment.find('div', class_='score_reple').find('dl').find_all('dd')\n",
    "            user = dd[0]\n",
    "            created_at = dd[1]\n",
    "            \n",
    "            comment_id = comment.find('div', class_='btn_area').find_all('span')[-1]['class'][0].split('_')[1]\n",
    "            \n",
    "            if int(comment_id) <= int(last_comment):\n",
    "                return comment_list\n",
    "            \n",
    "            comment_list.append({\n",
    "                'star':star,\n",
    "                'reple':reple,\n",
    "                'user': user,\n",
    "                'created_at': created_at,\n",
    "                'comment_id': comment_id\n",
    "            })\n",
    "            \n",
    "        \n",
    "        page += 1"
   ]
  },
  {
   "cell_type": "code",
   "execution_count": 13,
   "metadata": {},
   "outputs": [
    {
     "data": {
      "text/plain": [
       "2"
      ]
     },
     "execution_count": 13,
     "metadata": {},
     "output_type": "execute_result"
    }
   ],
   "source": [
    "# movie_list\n",
    "\n",
    "# 한 화면에 50페이지\n",
    "PAGE_SIZE = 50\n",
    "MOVIE_LENGTH = 100\n",
    "pages = math.ceil(MOVIE_LENGTH/PAGE_SIZE)\n",
    "pages"
   ]
  },
  {
   "cell_type": "code",
   "execution_count": 14,
   "metadata": {},
   "outputs": [],
   "source": [
    "movie_list = get_movie_list(1, pages)"
   ]
  },
  {
   "cell_type": "code",
   "execution_count": 25,
   "metadata": {},
   "outputs": [
    {
     "data": {
      "text/plain": [
       "98"
      ]
     },
     "execution_count": 25,
     "metadata": {},
     "output_type": "execute_result"
    }
   ],
   "source": [
    "len(movie_list)"
   ]
  },
  {
   "cell_type": "code",
   "execution_count": 19,
   "metadata": {},
   "outputs": [
    {
     "name": "stdout",
     "output_type": "stream",
     "text": [
      "<div class=\"story_area\">\n",
      "<div class=\"title_area\">\n",
      "<h4 class=\"h_story\"><strong class=\"blind\">줄거리</strong></h4>\n",
      "</div>\n",
      "<h5 class=\"h_tx_story\">언제 어디서든 바른 생활! 완벽한 천재 뮤지션 ‘돈 셜리’<br/>\r\n",
      "원칙보다 반칙! 다혈질 운전사 ‘토니’<br/>\r\n",
      "취향도, 성격도 완벽히 다른 두 남자의 특별한 우정이 시작된다!</h5>\n",
      "<p class=\"con_tx\">1962년 미국, 입담과 주먹만 믿고 살아가던 토니 발레롱가(비고 모텐슨)는 교양과 우아함 그 자체인\r",
      "<br/> 천재 피아니스트 돈 셜리(마허샬라 알리) 박사의 운전기사 면접을 보게 된다.\r",
      "<br/> \r",
      "<br/> 백악관에도 초청되는 등 미국 전역에서 콘서트 요청을 받으며 명성을 떨치고 있는 돈 셜리는\r",
      "<br/> 위험하기로 소문난 미국 남부 투어 공연을 떠나기로 결심하고,\r",
      "<br/> 투어 기간 동안 자신의 보디가드 겸 운전기사로 토니를 고용한다.\r",
      "<br/> \r",
      "<br/> 거친 인생을 살아온 토니 발레롱가와 교양과 기품을 지키며 살아온 돈 셜리 박사.\r",
      "<br/> 생각, 행동, 말투, 취향까지 달라도 너무 다른 두 사람은\r",
      "<br/> 그들을 위한 여행안내서 ‘그린북’에 의존해 특별한 남부 투어를 시작하는데…</p>\n",
      "<button class=\"story_more\" id=\"toggleMakingnoteButton\" onclick=\"storyAndNote.toggleMakingnote();\" type=\"button\"><em class=\"blind\">제작노트 보기</em></button><!-- N=a:mai.story -->\n",
      "</div>\n"
     ]
    }
   ],
   "source": [
    "movie_list[]"
   ]
  },
  {
   "cell_type": "code",
   "execution_count": 24,
   "metadata": {},
   "outputs": [
    {
     "name": "stdout",
     "output_type": "stream",
     "text": [
      "\n",
      "\n",
      "줄거리\n",
      "\n",
      "언제 어디서든 바른 생활! 완벽한 천재 뮤지션 ‘돈 셜리’\r\n",
      "원칙보다 반칙! 다혈질 운전사 ‘토니’\r\n",
      "취향도, 성격도 완벽히 다른 두 남자의 특별한 우정이 시작된다!\n",
      "1962년 미국, 입담과 주먹만 믿고 살아가던 토니 발레롱가(비고 모텐슨)는 교양과 우아함 그 자체인\r",
      " 천재 피아니스트 돈 셜리(마허샬라 알리) 박사의 운전기사 면접을 보게 된다.\r",
      " \r",
      " 백악관에도 초청되는 등 미국 전역에서 콘서트 요청을 받으며 명성을 떨치고 있는 돈 셜리는\r",
      " 위험하기로 소문난 미국 남부 투어 공연을 떠나기로 결심하고,\r",
      " 투어 기간 동안 자신의 보디가드 겸 운전기사로 토니를 고용한다.\r",
      " \r",
      " 거친 인생을 살아온 토니 발레롱가와 교양과 기품을 지키며 살아온 돈 셜리 박사.\r",
      " 생각, 행동, 말투, 취향까지 달라도 너무 다른 두 사람은\r",
      " 그들을 위한 여행안내서 ‘그린북’에 의존해 특별한 남부 투어를 시작하는데…\n",
      "제작노트 보기\n",
      "\n"
     ]
    }
   ],
   "source": [
    "print(a['story'].text)"
   ]
  },
  {
   "cell_type": "code",
   "execution_count": null,
   "metadata": {},
   "outputs": [],
   "source": []
  }
 ],
 "metadata": {
  "kernelspec": {
   "display_name": "Python 3",
   "language": "python",
   "name": "python3"
  },
  "language_info": {
   "codemirror_mode": {
    "name": "ipython",
    "version": 3
   },
   "file_extension": ".py",
   "mimetype": "text/x-python",
   "name": "python",
   "nbconvert_exporter": "python",
   "pygments_lexer": "ipython3",
   "version": "3.7.3"
  }
 },
 "nbformat": 4,
 "nbformat_minor": 2
}
