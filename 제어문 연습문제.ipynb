{
 "cells": [
  {
   "cell_type": "markdown",
   "metadata": {},
   "source": [
    "### 연습문제 1\n",
    "사용자로부터 점수를 3개 입력받아\n",
    "모든 점수가 65점보다 클 경우 합격 아닐경우 불합격을 출력하세요.\n",
    "단, 0~100이 아닌 숫자가 입력된 경우 \"잘못된 점수가 입력되었습니다\"를 출력하세요."
   ]
  },
  {
   "cell_type": "code",
   "execution_count": 5,
   "metadata": {},
   "outputs": [
    {
     "name": "stdout",
     "output_type": "stream",
     "text": [
      "점수를 입력하세요.70\n",
      "점수를 입력하세요.80\n",
      "점수를 입력하세요.90\n",
      "합격\n"
     ]
    }
   ],
   "source": [
    "count = 0\n",
    "state = True\n",
    "while(count < 3):\n",
    "    input_number = float(input(\"점수를 입력하세요.\"))\n",
    "    if input_number < 0 or input_number > 100:\n",
    "        print(\"잘못된 점수가 입력되었습니다.\")\n",
    "    elif input_number>65:  \n",
    "        count += 1\n",
    "    else:\n",
    "        state = False\n",
    "        count += 1\n",
    "        \n",
    "if state:\n",
    "    print(\"합격\")\n",
    "else:\n",
    "    print(\"불합격\")"
   ]
  },
  {
   "cell_type": "code",
   "execution_count": null,
   "metadata": {},
   "outputs": [],
   "source": []
  },
  {
   "cell_type": "code",
   "execution_count": null,
   "metadata": {},
   "outputs": [],
   "source": []
  }
 ],
 "metadata": {
  "kernelspec": {
   "display_name": "Python 3",
   "language": "python",
   "name": "python3"
  },
  "language_info": {
   "codemirror_mode": {
    "name": "ipython",
    "version": 3
   },
   "file_extension": ".py",
   "mimetype": "text/x-python",
   "name": "python",
   "nbconvert_exporter": "python",
   "pygments_lexer": "ipython3",
   "version": "3.7.3"
  }
 },
 "nbformat": 4,
 "nbformat_minor": 2
}
