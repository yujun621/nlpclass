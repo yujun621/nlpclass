{
 "cells": [
  {
   "cell_type": "markdown",
   "metadata": {},
   "source": [
    "### 연습문제 1\n",
    "사용자로부터 점수를 3개 입력받아\n",
    "모든 점수가 65점보다 클 경우 합격 아닐경우 불합격을 출력하세요.\n",
    "단, 0~100이 아닌 숫자가 입력된 경우 \"잘못된 점수가 입력되었습니다\"를 출력하세요."
   ]
  },
  {
   "cell_type": "code",
   "execution_count": null,
   "metadata": {},
   "outputs": [],
   "source": [
    "count = 0\n",
    "state = True\n",
    "while(count < 3):\n",
    "    input_number = float(input(\"점수를 입력하세요.\"))\n",
    "    if input_number < 0 or input_number > 100:\n",
    "        print(\"잘못된 점수가 입력되었습니다.\")\n",
    "    elif input_number>65:  \n",
    "        count += 1\n",
    "    else:\n",
    "        state = False\n",
    "        count += 1\n",
    "        \n",
    "if state:\n",
    "    print(\"합격\")\n",
    "else:\n",
    "    print(\"불합격\")"
   ]
  },
  {
   "cell_type": "markdown",
   "metadata": {},
   "source": [
    "### 연습문제 2\n",
    "사용자로부터 정수를 하나 입력받아 입력한 정수가 홀수인지 짝수인지 판별하여라.(**0은 짝수라 하자.)\n",
    "\n",
    "만약 0이 입력받으면 \"0은 애매합니다\"를 출력하세요."
   ]
  },
  {
   "cell_type": "code",
   "execution_count": null,
   "metadata": {},
   "outputs": [],
   "source": [
    "input_number = int(input(\"정수를 입력해주세요\"))\n",
    "\n",
    "if input_number==0:\n",
    "    print(\"0은 애매합니다.\")\n",
    "elif input_number%2==0:\n",
    "    print(\"짝수입니다.\")\n",
    "else:\n",
    "    print(\"홀수입니다.\")"
   ]
  },
  {
   "cell_type": "markdown",
   "metadata": {},
   "source": [
    "### 반복문 연습문제1\n",
    "(1) 사용자로부터 정수를 입력받아, 해당 정수만큼 \"안녕\"을 출력하세요.\n",
    "\n",
    "(2) 사용자로부터 정수를 입력받아, 입력된 정수 만큼 별 찍기\n",
    "\n",
    "(3) 사용자로부터 정수를 입력받아, 입력된 정수 만큼 별 찍기(역순)"
   ]
  },
  {
   "cell_type": "code",
   "execution_count": null,
   "metadata": {},
   "outputs": [],
   "source": [
    "input_range = int(input(\"정수를 입력하세요.\"))\n",
    "for i in range(input_range):\n",
    "    print(\"안녕\")"
   ]
  },
  {
   "cell_type": "code",
   "execution_count": null,
   "metadata": {},
   "outputs": [],
   "source": [
    "input_star_number = int(input(\"정수를 입력해주세요:\"))\n",
    "for i in range(input_star_number):\n",
    "    str =\"\"\n",
    "    for j in range(i+1):\n",
    "        str += \"*\"\n",
    "    print(str)"
   ]
  },
  {
   "cell_type": "code",
   "execution_count": null,
   "metadata": {},
   "outputs": [],
   "source": [
    "input_star_number = int(input(\"정수를 입력해주세요:\"))\n",
    "for i in range(input_star_number):\n",
    "    print(\"*\"*(input_star_number-(i)))"
   ]
  },
  {
   "cell_type": "code",
   "execution_count": null,
   "metadata": {},
   "outputs": [],
   "source": [
    "a = ['a','b','c','d','e','f','g']\n",
    "for idx, val in enumerate(a):\n",
    "    print(idx, val, sep=\",\")"
   ]
  },
  {
   "cell_type": "markdown",
   "metadata": {},
   "source": [
    "### 연습문제 2\n",
    "(1) x = [3,6,9,20,-7,5]의 값의 모든 요소에 10을 곱한뒤 출력하세요.\n",
    "심화: 출력과 리스트 x의 값에도 모두 10을 곱해주세요."
   ]
  },
  {
   "cell_type": "code",
   "execution_count": null,
   "metadata": {},
   "outputs": [],
   "source": [
    "x = [3,6,9,20,-7,5]\n",
    "for i, v in enumerate(x):\n",
    "    print(v*10)\n",
    "    x[i]=x[i]*10\n",
    "    \n",
    "print(x)"
   ]
  },
  {
   "cell_type": "markdown",
   "metadata": {},
   "source": [
    "(2) y = {\"math\":70, \"science\":80, \"english\":20} 의 값의 모든요소에 10을 더한뒤 출력하세요.\n",
    "심화: 출력과 딕셔너리 y의 값에도 모두 10을 더해주세요"
   ]
  },
  {
   "cell_type": "code",
   "execution_count": null,
   "metadata": {},
   "outputs": [],
   "source": [
    "y = {\"math\":70, \"science\":80, \"english\":20}\n",
    "for i in y.keys():\n",
    "    print(y[i]+10)\n",
    "    y[i]=y[i]+10\n",
    "y"
   ]
  },
  {
   "cell_type": "markdown",
   "metadata": {},
   "source": [
    "(3) 숫자를 입력받고 입력받은 정수의 구구단을 출력하세요"
   ]
  },
  {
   "cell_type": "markdown",
   "metadata": {},
   "source": [
    "'''1) 아래의 학습코드를 가지고 a 리스트가 [[1,2],[3,4],[5,6]] 와 같이 만들어지도록 수정하세요\n",
    ">>> a = []\n",
    ">>> for i in range(3):\n",
    ">>>     line = []\n",
    ">>>     for j in range(2):\n",
    ">>>        line.append(0)\n",
    ">>>     a.append(line)\n",
    ">>> print(a)\n",
    "'''\n"
   ]
  },
  {
   "cell_type": "code",
   "execution_count": null,
   "metadata": {
    "scrolled": true
   },
   "outputs": [],
   "source": [
    "a = []\n",
    "for i in range(3):\n",
    "    line = []\n",
    "    for j in range(2):\n",
    "        line.append(sum)\n",
    "    a.append(line)\n",
    "print(a)"
   ]
  },
  {
   "cell_type": "code",
   "execution_count": null,
   "metadata": {
    "scrolled": true
   },
   "outputs": [],
   "source": [
    "input_99_number = int(input(\"정수를 입력해주세요.\"))\n",
    "for i in range(1,10):\n",
    "    print(input_99_number,\"*\",i,\"=\",input_99_number*(i))\n",
    "    "
   ]
  },
  {
   "cell_type": "markdown",
   "metadata": {},
   "source": [
    "### 연습문제 3\n",
    "(1) word = [\"school\", \"game\", \"piano\", \"science\", \"hotel\", \"mountian\"]\n",
    "중 글자수가 6글자 이상인 문자를 모아 새로운 리스트를 생성하세요.\n",
    "\n",
    "(2) 구구단을 1단부터 9단까지 출력하세요."
   ]
  },
  {
   "cell_type": "code",
   "execution_count": null,
   "metadata": {},
   "outputs": [],
   "source": [
    "word = [\"school\", \"game\", \"piano\", \"science\", \"hotel\", \"mountian\"]\n",
    "new_list=list()\n",
    "for i in word:\n",
    "    if len(i)>=6:\n",
    "        new_list.append(i)\n",
    "new_list"
   ]
  },
  {
   "cell_type": "code",
   "execution_count": null,
   "metadata": {},
   "outputs": [],
   "source": [
    "for i in range(1,10):\n",
    "    for j in range(1,10):\n",
    "        print(i,\"*\",j,\"=\",i*j)\n",
    "    print(\"-\"*50)"
   ]
  },
  {
   "cell_type": "markdown",
   "metadata": {},
   "source": [
    "### 연습문제 4\n",
    "1-100 까지 숫자 중\n",
    "3과 5의 공배수일 경우 \"3과 5의 공배수\"\n",
    "나머지 숫자 중 3의 배수일 경우 \"3의 배수\"\n",
    "나머지 숫자중 5의 배수일 경우 \"5의 배수\"\n",
    "모두 해당되지 않을 경우 그냥 숫자를 출력하세요\n",
    "\n",
    "심화:1-입력한숫자까지의 숫자중"
   ]
  },
  {
   "cell_type": "code",
   "execution_count": 8,
   "metadata": {},
   "outputs": [
    {
     "name": "stdout",
     "output_type": "stream",
     "text": [
      "숫자를 입력하세요:500\n",
      "500 는 5의 배수\n"
     ]
    }
   ],
   "source": [
    "input_number = int(input(\"숫자를 입력하세요:\"))\n",
    "\n",
    "if input_number % 15 == 0:\n",
    "    print(input_number,\"는 3과 5의 공배수\")\n",
    "else:\n",
    "    if input_number % 3 == 0:\n",
    "        print(input_number,\"는 3의 배수\")\n",
    "    elif input_number % 5 == 0:\n",
    "        print(input_number,\"는 5의 배수\")\n",
    "    else:\n",
    "        print(input_number)"
   ]
  },
  {
   "cell_type": "code",
   "execution_count": null,
   "metadata": {},
   "outputs": [],
   "source": [
    "input_number = int(input(\"숫자를 입력하세요:\"))\n",
    "for i in range(input_number+1):\n",
    "    if i % 15 == 0:\n",
    "        print(i,\"는 3과 5의 공배수\")\n",
    "    else:\n",
    "        if i % 3 == 0:\n",
    "            print(i,\"는 3의 배수\")\n",
    "        elif i % 5 ==0:\n",
    "            print(i,\"는 5의 배수\")\n",
    "        else:\n",
    "            print(i)"
   ]
  },
  {
   "cell_type": "code",
   "execution_count": null,
   "metadata": {},
   "outputs": [],
   "source": [
    "print(1,2,3, sep=\"oooo\")"
   ]
  },
  {
   "cell_type": "markdown",
   "metadata": {},
   "source": [
    "### 연습문제 5\n",
    "사용자로부터 숫자를 계속 입력바다가 s or S를 입력하면 합계 출력"
   ]
  },
  {
   "cell_type": "code",
   "execution_count": null,
   "metadata": {},
   "outputs": [],
   "source": [
    "input_number = 0\n",
    "sum = 0\n",
    "while not ((input_number == 's') or (input_number == 'S')):\n",
    "    input_number = float(input_number)\n",
    "    sum += input_number\n",
    "    input_number = input(\"값을 입력해주세요:\")\n",
    "print(\"합계는? \", sum)"
   ]
  },
  {
   "cell_type": "markdown",
   "metadata": {},
   "source": [
    "random 함수 사용하기"
   ]
  },
  {
   "cell_type": "code",
   "execution_count": null,
   "metadata": {},
   "outputs": [],
   "source": [
    "import random #random 모듈\n",
    "random.random()"
   ]
  },
  {
   "cell_type": "code",
   "execution_count": null,
   "metadata": {},
   "outputs": [],
   "source": [
    "random.randint(1,3)"
   ]
  },
  {
   "cell_type": "markdown",
   "metadata": {},
   "source": [
    "### 연습문제 6\n",
    "가위바위보 게임만들기"
   ]
  },
  {
   "cell_type": "code",
   "execution_count": 4,
   "metadata": {},
   "outputs": [
    {
     "name": "stdout",
     "output_type": "stream",
     "text": [
      "입력해주세요:(가위:1, 바위:2, 보:3, 종료: 이외의 숫자 또는 문자)1\n",
      "유저: 가위 , 컴퓨터: 바위\n",
      "입력해주세요:(가위:1, 바위:2, 보:3, 종료: 이외의 숫자 또는 문자)2\n",
      "유저: 바위 , 컴퓨터: 가위\n",
      "입력해주세요:(가위:1, 바위:2, 보:3, 종료: 이외의 숫자 또는 문자)3\n",
      "유저: 보 , 컴퓨터: 보\n",
      "입력해주세요:(가위:1, 바위:2, 보:3, 종료: 이외의 숫자 또는 문자)1\n",
      "유저: 가위 , 컴퓨터: 가위\n",
      "입력해주세요:(가위:1, 바위:2, 보:3, 종료: 이외의 숫자 또는 문자)2\n",
      "유저: 바위 , 컴퓨터: 가위\n",
      "입력해주세요:(가위:1, 바위:2, 보:3, 종료: 이외의 숫자 또는 문자)3\n",
      "유저: 보 , 컴퓨터: 가위\n",
      "입력해주세요:(가위:1, 바위:2, 보:3, 종료: 이외의 숫자 또는 문자)1\n",
      "유저: 가위 , 컴퓨터: 바위\n",
      "입력해주세요:(가위:1, 바위:2, 보:3, 종료: 이외의 숫자 또는 문자)2\n",
      "유저: 바위 , 컴퓨터: 바위\n",
      "입력해주세요:(가위:1, 바위:2, 보:3, 종료: 이외의 숫자 또는 문자)2\n",
      "유저: 바위 , 컴퓨터: 가위\n",
      "입력해주세요:(가위:1, 바위:2, 보:3, 종료: 이외의 숫자 또는 문자)2\n",
      "유저: 바위 , 컴퓨터: 바위\n",
      "입력해주세요:(가위:1, 바위:2, 보:3, 종료: 이외의 숫자 또는 문자)2\n",
      "유저: 바위 , 컴퓨터: 보\n",
      "입력해주세요:(가위:1, 바위:2, 보:3, 종료: 이외의 숫자 또는 문자)2\n",
      "유저: 바위 , 컴퓨터: 보\n",
      "입력해주세요:(가위:1, 바위:2, 보:3, 종료: 이외의 숫자 또는 문자)3\n",
      "유저: 보 , 컴퓨터: 바위\n",
      "입력해주세요:(가위:1, 바위:2, 보:3, 종료: 이외의 숫자 또는 문자)1\n",
      "유저: 가위 , 컴퓨터: 가위\n",
      "입력해주세요:(가위:1, 바위:2, 보:3, 종료: 이외의 숫자 또는 문자)2\n",
      "유저: 바위 , 컴퓨터: 가위\n",
      "입력해주세요:(가위:1, 바위:2, 보:3, 종료: 이외의 숫자 또는 문자)3\n",
      "유저: 보 , 컴퓨터: 가위\n",
      "입력해주세요:(가위:1, 바위:2, 보:3, 종료: 이외의 숫자 또는 문자)1\n",
      "유저: 가위 , 컴퓨터: 보\n",
      "입력해주세요:(가위:1, 바위:2, 보:3, 종료: 이외의 숫자 또는 문자)2\n",
      "유저: 바위 , 컴퓨터: 바위\n",
      "입력해주세요:(가위:1, 바위:2, 보:3, 종료: 이외의 숫자 또는 문자)3\n",
      "유저: 보 , 컴퓨터: 가위\n",
      "입력해주세요:(가위:1, 바위:2, 보:3, 종료: 이외의 숫자 또는 문자)1\n",
      "유저: 가위 , 컴퓨터: 보\n",
      "입력해주세요:(가위:1, 바위:2, 보:3, 종료: 이외의 숫자 또는 문자)2\n",
      "유저: 바위 , 컴퓨터: 보\n",
      "입력해주세요:(가위:1, 바위:2, 보:3, 종료: 이외의 숫자 또는 문자)3\n",
      "유저: 보 , 컴퓨터: 바위\n",
      "입력해주세요:(가위:1, 바위:2, 보:3, 종료: 이외의 숫자 또는 문자)1\n",
      "유저: 가위 , 컴퓨터: 가위\n",
      "입력해주세요:(가위:1, 바위:2, 보:3, 종료: 이외의 숫자 또는 문자)2\n",
      "유저: 바위 , 컴퓨터: 가위\n",
      "입력해주세요:(가위:1, 바위:2, 보:3, 종료: 이외의 숫자 또는 문자)3\n",
      "유저: 보 , 컴퓨터: 가위\n",
      "입력해주세요:(가위:1, 바위:2, 보:3, 종료: 이외의 숫자 또는 문자)1\n",
      "유저: 가위 , 컴퓨터: 바위\n",
      "입력해주세요:(가위:1, 바위:2, 보:3, 종료: 이외의 숫자 또는 문자)2\n",
      "유저: 바위 , 컴퓨터: 보\n",
      "입력해주세요:(가위:1, 바위:2, 보:3, 종료: 이외의 숫자 또는 문자)3\n",
      "유저: 보 , 컴퓨터: 바위\n",
      "입력해주세요:(가위:1, 바위:2, 보:3, 종료: 이외의 숫자 또는 문자)1\n",
      "유저: 가위 , 컴퓨터: 가위\n",
      "입력해주세요:(가위:1, 바위:2, 보:3, 종료: 이외의 숫자 또는 문자)2\n",
      "유저: 바위 , 컴퓨터: 가위\n",
      "입력해주세요:(가위:1, 바위:2, 보:3, 종료: 이외의 숫자 또는 문자)3\n",
      "유저: 보 , 컴퓨터: 보\n",
      "입력해주세요:(가위:1, 바위:2, 보:3, 종료: 이외의 숫자 또는 문자)1\n",
      "유저: 가위 , 컴퓨터: 보\n",
      "입력해주세요:(가위:1, 바위:2, 보:3, 종료: 이외의 숫자 또는 문자)\n",
      "게임종료( 전체: 32 승리: 12 비김: 9 패배: 11 )\n"
     ]
    }
   ],
   "source": [
    "import random #random 모듈\n",
    "\n",
    "user_input = 3\n",
    "game_result_list=[0,0,0,0] # 승리, 비김, 패배, 전체\n",
    "state = (\"가위\",\"바위\",\"보\")\n",
    "while not (user_input > 3 or user_input <= 0):\n",
    "    temp_input = input(\"입력해주세요:(가위:1, 바위:2, 보:3, 종료: 이외의 숫자 또는 문자)\")\n",
    "    if not temp_input.isdigit():\n",
    "        break\n",
    "    else:\n",
    "        user_input = int(temp_input)\n",
    "        if user_input > 3 or user_input <= 0:\n",
    "            break\n",
    "    \n",
    "    computer_int = random.randint(1,3)\n",
    "    \n",
    "    if user_input == computer_int:\n",
    "        game_result_list[1]+=1\n",
    "    elif user_input == 3 and computer_int==1:\n",
    "        game_result_list[2]+=1\n",
    "    elif computer_int == 3 and user_input==1:\n",
    "        game_result_list[0]+=1\n",
    "    elif user_input < computer_int:\n",
    "        game_result_list[2]+=1\n",
    "    else:\n",
    "        game_result_list[0]+=1\n",
    "    game_result_list[3]+=1\n",
    "        \n",
    "    print(\"유저:\",state[user_input-1],\", 컴퓨터:\",state[computer_int-1])\n",
    "   \n",
    "            \n",
    "print(\"게임종료(\",\"전체:\",game_result_list[3],\"승리:\",game_result_list[0],\"비김:\",game_result_list[1],\"패배:\",game_result_list[2],\")\")"
   ]
  },
  {
   "cell_type": "markdown",
   "metadata": {},
   "source": [
    "### 연습문제 7\n",
    "randint함수를 사용하여 정수(1~1000)로 이루어진 길이가 100개인 리스트 a를 만들고 가장 큰 수를 구하는 코드를 작성하시오.\n",
    "\n",
    "예) a = [32, 45, 2, 5, 76] 일때, 출력결과는 76이 나와야 함.\n",
    "\n",
    "### 연습문데 8\n",
    "randint함수를 사용하여 정수(1~1000)로 이루어진 길이가 100개인 리스트 a를 만들고 모든 요소의 합계를 구하는 코드를 작성하시오."
   ]
  },
  {
   "cell_type": "code",
   "execution_count": 20,
   "metadata": {},
   "outputs": [
    {
     "name": "stdout",
     "output_type": "stream",
     "text": [
      "982\n"
     ]
    },
    {
     "data": {
      "text/plain": [
       "46871"
      ]
     },
     "execution_count": 20,
     "metadata": {},
     "output_type": "execute_result"
    }
   ],
   "source": [
    "test_list=list()\n",
    "for i in range(100):\n",
    "    test_list.append(random.randint(1,1000))\n",
    "\n",
    "test_list.sort(reverse=True)\n",
    "print(test_list[0])\n",
    "\n",
    "sum(test_list)"
   ]
  },
  {
   "cell_type": "code",
   "execution_count": 27,
   "metadata": {},
   "outputs": [
    {
     "name": "stdout",
     "output_type": "stream",
     "text": [
      "[0, 1, 2, 3, 4, 5, 6, 7, 8, 9]\n",
      "[5, 6, 7, 8, 9, 10, 11, 12, 13, 14]\n",
      "[0, 3, 6, 9, 12, 15, 18, 21, 24, 27]\n",
      "[0, 2, 4, 6, 8]\n",
      "[1, 3, 5, 7, 9]\n",
      "[2, 4, 6, 8, 10, 12, 14, 16, 18, 3, 6, 9, 12, 15, 18, 21, 24, 27, 4, 8, 12, 16, 20, 24, 28, 32, 36, 5, 10, 15, 20, 25, 30, 35, 40, 45, 6, 12, 18, 24, 30, 36, 42, 48, 54, 7, 14, 21, 28, 35, 42, 49, 56, 63, 8, 16, 24, 32, 40, 48, 56, 64, 72, 9, 18, 27, 36, 45, 54, 63, 72, 81]\n"
     ]
    }
   ],
   "source": [
    "a = [i for i in range(10)]\n",
    "print(a)\n",
    "a = [i+5 for i in range(10)]\n",
    "print(a)\n",
    "a = [i*3 for i in range(10)]\n",
    "print(a)\n",
    "a = [i for i in range(10) if i % 2 ==0]\n",
    "print(a)\n",
    "a = [i for i in range(10) if i % 2 ==1]\n",
    "print(a)\n",
    "a = [i * j for j in range(2, 10) for i in range(1,10)]\n",
    "print(a)"
   ]
  },
  {
   "cell_type": "markdown",
   "metadata": {},
   "source": [
    "#### 리스트 컴프리핸션\n",
    "리스트를 딕셔너리로 변경"
   ]
  },
  {
   "cell_type": "code",
   "execution_count": 29,
   "metadata": {},
   "outputs": [
    {
     "name": "stdout",
     "output_type": "stream",
     "text": [
      "{'name': 'tom', 'age': 20, 'address': 'incheon'}\n"
     ]
    }
   ],
   "source": [
    "keys = [\"name\", \"age\", \"address\"]\n",
    "users = [\"tom\", 20, \"incheon\"]\n",
    "dicdic = {keys[i]:users[i] for i in range(0,3)}\n",
    "print(dicdic)"
   ]
  },
  {
   "cell_type": "markdown",
   "metadata": {},
   "source": [
    "### ZIP\n",
    "zip(리스트1, 리스트2)\n",
    "zip(iterable)은 동일한 개수로 이루어진 자료형을 묶어 주는 역할을 하는 함수"
   ]
  },
  {
   "cell_type": "code",
   "execution_count": null,
   "metadata": {},
   "outputs": [],
   "source": []
  }
 ],
 "metadata": {
  "kernelspec": {
   "display_name": "Python 3",
   "language": "python",
   "name": "python3"
  },
  "language_info": {
   "codemirror_mode": {
    "name": "ipython",
    "version": 3
   },
   "file_extension": ".py",
   "mimetype": "text/x-python",
   "name": "python",
   "nbconvert_exporter": "python",
   "pygments_lexer": "ipython3",
   "version": "3.7.3"
  }
 },
 "nbformat": 4,
 "nbformat_minor": 2
}
