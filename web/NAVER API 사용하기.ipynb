{
 "cells": [
  {
   "cell_type": "code",
   "execution_count": 1,
   "metadata": {},
   "outputs": [],
   "source": [
    "import requests"
   ]
  },
  {
   "cell_type": "code",
   "execution_count": 2,
   "metadata": {},
   "outputs": [],
   "source": [
    "AUTH_URL=\"https://nid.naver.com/oauth2.0/authorize\"\n",
    "CLIENT_ID = 'TLqTb1NaG0h7W2hfXj3h'\n",
    "CLIENT_SECRET = 'ARcCyPMHAL'\n",
    "redirect_uri = 'http://127.0.0.1:8080'\n",
    "\n",
    "#state_token = 200\n",
    "\n",
    "\n",
    "params ={\n",
    "    'client_id': CLIENT_ID,\n",
    "    'response_type': 'code',\n",
    "    'redirect_uri': redirect_uri,\n",
    "    'state': 'abcde12345'\n",
    "}\n",
    "#client_id={클라이언트 아이디}\n",
    "#response_type=code\n",
    "#redirect_uri={개발자 센터에 등록한 콜백 URL(URL 인코딩)}\n",
    "#state={상태 토큰}"
   ]
  },
  {
   "cell_type": "code",
   "execution_count": 3,
   "metadata": {},
   "outputs": [],
   "source": [
    "resp = requests.get(AUTH_URL,params)"
   ]
  },
  {
   "cell_type": "code",
   "execution_count": 4,
   "metadata": {},
   "outputs": [
    {
     "data": {
      "text/plain": [
       "b'<!DOCTYPE html>\\n<html lang=\"ko\">\\n<head>\\n\\t<meta charset=\"UTF-8\">\\n\\t<meta http-equiv=\"X-UA-Compatible\" content=\"IE=edge\">\\n\\t<meta name=\"viewport\" content=\"width=device-width, initial-scale=1.0, maximum-scale=1.0, minimum-scale=1.0, user-scalable=no\">\\n\\t<title>\\xeb\\x84\\xa4\\xec\\x9d\\xb4\\xeb\\xb2\\x84 : \\xeb\\xa1\\x9c\\xea\\xb7\\xb8\\xec\\x9d\\xb8</title>\\n\\t<link rel=\"stylesheet\" type=\"text/css\" href=\"/login/css/global/desktop/w_20190509.css?dt=20190509\">\\n</head>\\n<body class=\"popup \">\\n\\n<div id=\"wrap\">\\n    <div id=\"u_skip\">\\n        <a href=\"#content\" onclick=\"document.getElementById(\\'content\\').tabIndex=-1;document.getElementById(\\'content\\').focus();return false;\"><span>\\xeb\\xb3\\xb8\\xeb\\xac\\xb8\\xec\\x9c\\xbc\\xeb\\xa1\\x9c \\xeb\\xb0\\x94\\xeb\\xa1\\x9c\\xea\\xb0\\x80\\xea\\xb8\\xb0</span></a>\\n    </div>\\n\\t<!-- header -->\\n\\t<div id=\"header\">\\n\\t\\t<h1><a href=\"http://www.naver.com\" class=\"sp h_logo\" onclick=\"nclks(\\'log.naver\\',this,event)\"><span class=\"blind\">NAVER</span></a></h1>\\n\\t\\t<div class=\"lang\">\\n\\t\\t\\t<select id=\"locale_switch\" name=\"locale_switch\" title=\"\\xec\\x96\\xb8\\xec\\x96\\xb4\\xec\\x84\\xa0\\xed\\x83\\x9d\" class=\"sel\" onchange=\"switchlocale();nclks_select(this.value,\\'\\',{\\'ko_KR\\':\\'log.lankr\\',\\'en_US\\':\\'log.lanen\\',\\'zh-Hans_CN\\':\\'log.lancn\\',\\'zh-Hant_TW\\':\\'log.lantw\\'},this,event);\">\\n\\t\\t\\t\\t<option value=\"ko_KR\" >\\xed\\x95\\x9c\\xea\\xb5\\xad\\xec\\x96\\xb4</option>\\n\\t\\t\\t\\t<option value=\"en_US\" >English</option>\\n\\t\\t\\t\\t<option value=\"zh-Hans_CN\" >\\xe4\\xb8\\xad\\xe6\\x96\\x87(\\xe7\\xae\\x80\\xe4\\xbd\\x93)</option>\\n\\t\\t\\t\\t<option value=\"zh-Hant_TW\" >\\xe4\\xb8\\xad\\xe6\\x96\\x87(\\xe5\\x8f\\xb0\\xe7\\x81\\xa3)</option>\\n\\t\\t\\t</select>\\n\\t\\t</div>\\n\\t</div>\\n\\t<!-- //header -->\\n\\t<!-- container -->\\n\\t<div id=\"container\">\\n\\t\\t<!-- content -->\\n\\t\\t<div id=\"content\">\\n\\t\\t\\t<div class=\"title\">\\n\\t\\t\\t\\t<p>\\xeb\\x84\\xa4\\xec\\x9d\\xb4\\xeb\\xb2\\x84 \\xeb\\xa1\\x9c\\xea\\xb7\\xb8\\xec\\x9d\\xb8\\xec\\x9c\\xbc\\xeb\\xa1\\x9c <em class=\"sevice\">\\xea\\xb5\\x90\\xec\\x9c\\xa1\\xec\\x9a\\xa9 \\xeb\\xb8\\x94\\xeb\\xa1\\x9c\\xea\\xb7\\xb8</em> \\xec\\x84\\x9c\\xeb\\xb9\\x84\\xec\\x8a\\xa4\\xeb\\xa5\\xbc \\xec\\x9d\\xb4\\xec\\x9a\\xa9\\xed\\x95\\x98\\xec\\x8b\\xa4 \\xec\\x88\\x98 \\xec\\x9e\\x88\\xec\\x8a\\xb5\\xeb\\x8b\\x88\\xeb\\x8b\\xa4.</p>\\n\\t\\t\\t</div>\\n\\t\\t\\t<form id=\"frmNIDLogin\" name=\"frmNIDLogin\" target=\"_top\" AUTOCOMPLETE=\"off\" action=\"https://nid.naver.com/nidlogin.login\" method=\"POST\" onsubmit=\"return confirmSplitSubmit();\">\\n\\t\\t\\t<input type=\"hidden\" id=\"localechange\" name=\"localechange\" value=\"\">\\n\\t\\t\\t\\t<input type=\"hidden\" name=\"logintp\" id=\"logintp\" value=\"oauth2\">\\n<input type=\"hidden\" name=\"encpw\" id=\"encpw\" value=\"\">\\n<input type=\"hidden\" name=\"enctp\" id=\"enctp\" value=\"1\">\\n<input type=\"hidden\" name=\"svctype\" id=\"svctype\" value=\"64\">\\n<input type=\"hidden\" name=\"smart_LEVEL\" id=\"smart_LEVEL\" value=\"1\">\\n<input type=\"hidden\" name=\"bvsd\" id=\"bvsd\" value=\"\">\\n<input type=\"hidden\" name=\"encnm\" id=\"encnm\" value=\"\">\\n<input type=\"hidden\" name=\"locale\" id=\"locale\" value=\"ko_KR\">\\n<input type=\"hidden\" name=\"client_id\" id=\"client_id\" value=\"TLqTb1NaG0h7W2hfXj3h\">\\n<input type=\"hidden\" name=\"url\" id=\"url\" value=\"https://nid.naver.com/oauth2.0/authorize?response_type=code&state=abcde12345&client_id=TLqTb1NaG0h7W2hfXj3h&redirect_uri=http%3A%2F%2F127.0.0.1%3A8080&locale=ko_KR&inapp_view=&oauth_os=\">\\n\\n\\t\\t\\t\\t<fieldset class=\"login_form\">\\n\\t\\t\\t\\t\\t<legend class=\"blind\">\\xeb\\xa1\\x9c\\xea\\xb7\\xb8\\xec\\x9d\\xb8</legend>\\n\\t\\t\\t\\t\\t<div class=\"id_area\">\\n\\t\\t\\t\\t\\t\\t<div class=\"input_row\" id=\"id_area\">\\n\\t\\t\\t\\t\\t\\t\\t<span class=\"input_box\">\\n\\t\\t\\t\\t\\t\\t\\t\\t<label for=\"id\" id=\"label_id_area\" class=\"lbl\">\\xec\\x95\\x84\\xec\\x9d\\xb4\\xeb\\x94\\x94</label>\\n\\t\\t\\t\\t\\t\\t\\t\\t<input type=\"text\" id=\"id\" name=\"id\" accesskey=\"L\" placeholder=\"\\xec\\x95\\x84\\xec\\x9d\\xb4\\xeb\\x94\\x94\" class=\"int\" maxlength=\"41\" value=\"\">\\n\\t\\t\\t\\t\\t\\t\\t</span>\\n\\t\\t\\t\\t\\t\\t\\t<button type=\"button\" disabled=\"\" title=\"delete\" id=\"id_clear\" class=\"wrg\">\\xec\\x82\\xad\\xec\\xa0\\x9c</button>\\n\\t\\t\\t\\t\\t\\t</div>\\n\\t\\t\\t\\t\\t\\t<div class=\"error\" id=\"err_empty_id\" style=\"display:none\" aria-live=\"assertive\"></div>\\n\\t\\t\\t\\t\\t</div>\\n\\t\\t\\t\\t\\t<div class=\"pw_area\">\\n\\t\\t\\t\\t\\t\\t<div class=\"input_row\" id=\"pw_area\">\\n\\t\\t\\t\\t\\t\\t\\t<span class=\"input_box\">\\n\\t\\t\\t\\t\\t\\t\\t\\t<label for=\"pw\" id=\"label_pw_area\"  class=\"lbl\">\\xeb\\xb9\\x84\\xeb\\xb0\\x80\\xeb\\xb2\\x88\\xed\\x98\\xb8</label>\\n\\t\\t\\t\\t\\t\\t\\t\\t<input type=\"password\" id=\"pw\" name=\"pw\" placeholder=\"\\xeb\\xb9\\x84\\xeb\\xb0\\x80\\xeb\\xb2\\x88\\xed\\x98\\xb8\" class=\"int\" maxlength=\"16\" onkeypress=\"capslockevt(event);getKeysv2();\" onkeyup=\"checkShiftUp(event);\" onkeydown=\"checkShiftDown(event);\">\\n\\t\\t\\t\\t\\t\\t\\t</span>\\n\\t\\t\\t\\t\\t\\t\\t<button type=\"button\" disabled=\"\" title=\"delete\" id=\"pw_clear\" class=\"wrg\">\\xec\\x82\\xad\\xec\\xa0\\x9c</button>\\n\\t\\t\\t\\t\\t\\t\\t<div class=\"ly_v2\" id=\"err_capslock\" style=\"display:none;\">\\n\\t\\t\\t\\t\\t\\t\\t\\t<div class=\"ly_box\">\\n\\t\\t\\t\\t\\t\\t\\t\\t\\t<p><strong>Caps Lock</strong>\\xec\\x9d\\xb4 \\xec\\xbc\\x9c\\xec\\xa0\\xb8 \\xec\\x9e\\x88\\xec\\x8a\\xb5\\xeb\\x8b\\x88\\xeb\\x8b\\xa4.</p>\\n\\t\\t\\t\\t\\t\\t\\t\\t</div>\\n\\t\\t\\t\\t\\t\\t\\t\\t<span class=\"sp ly_point\"></span>\\n\\t\\t\\t\\t\\t\\t\\t</div>\\n\\t\\t\\t\\t\\t\\t</div>\\n\\t\\t\\t\\t\\t\\t<div class=\"error\" id=\"err_empty_pw\" style=\"display:none\" aria-live=\"assertive\"></div>\\n\\t\\t\\t\\t\\t</div>\\n\\t\\t\\t\\t\\t<input type=\"submit\" title=\"\\xeb\\xa1\\x9c\\xea\\xb7\\xb8\\xec\\x9d\\xb8\" alt=\"\\xeb\\xa1\\x9c\\xea\\xb7\\xb8\\xec\\x9d\\xb8\" value=\"\\xeb\\xa1\\x9c\\xea\\xb7\\xb8\\xec\\x9d\\xb8\" class=\"btn_global\" onclick=\"nclks(\\'log.login\\',this,event)\">\\n\\t\\t\\t\\t\\t<div class=\"check_info\">\\n\\t\\t\\t\\t\\t\\t<div class=\"login_check\">\\n\\t\\t\\t\\t\\t\\t\\t<span class=\"login_check_box\">\\n\\t\\t\\t\\t\\t\\t\\t\\t<input type=\"checkbox\" id=\"login_chk\" name=\"nvlong\" class=\"\"  value=\"off\" onchange=\"savedLong(this);nclks_chk(\\'login_chk\\', \\'log.keepon\\', \\'log.keepoff\\',this,event)\" />\\n\\t\\t\\t\\t\\t\\t\\t\\t<label for=\"login_chk\" id=\"label_login_chk\" class=\"sp \">\\xeb\\xa1\\x9c\\xea\\xb7\\xb8\\xec\\x9d\\xb8 \\xec\\x83\\x81\\xed\\x83\\x9c \\xec\\x9c\\xa0\\xec\\xa7\\x80</label>\\n\\t\\t\\t\\t\\t\\t\\t</span>\\n\\t\\t\\t\\t\\t\\t\\t<div class=\"ly_v2\" id=\"persist_usage\"  style=\"display:none;\">\\n\\t\\t\\t\\t\\t\\t\\t\\t<div class=\"ly_box\">\\n\\t\\t\\t\\t\\t\\t\\t\\t\\t<p>\\xea\\xb0\\x9c\\xec\\x9d\\xb8\\xec\\xa0\\x95\\xeb\\xb3\\xb4 \\xeb\\xb3\\xb4\\xed\\x98\\xb8\\xeb\\xa5\\xbc \\xec\\x9c\\x84\\xed\\x95\\xb4 <strong>\\xea\\xb0\\x9c\\xec\\x9d\\xb8 PC\\xec\\x97\\x90\\xec\\x84\\x9c\\xeb\\xa7\\x8c \\xec\\x82\\xac\\xec\\x9a\\xa9\\xed\\x95\\x98\\xec\\x84\\xb8\\xec\\x9a\\x94.</strong>&nbsp;&nbsp; &nbsp;&nbsp;<a href=\"https://help.naver.com/support/contents/contents.nhn?serviceNo=532&categoryNo=1523\" target=\"_blank\" class=\"sp btn_check_help\">\\xeb\\x8f\\x84\\xec\\x9b\\x80\\xeb\\xa7\\x90\\xeb\\xb3\\xb4\\xea\\xb8\\xb0</a></p>\\n\\t\\t\\t\\t\\t\\t\\t\\t</div>\\n\\t\\t\\t\\t\\t\\t\\t\\t<span class=\"sp ly_point\"></span>\\n\\t\\t\\t\\t\\t\\t\\t</div>\\n\\t\\t\\t\\t\\t\\t</div>\\n\\t\\t\\t\\t\\t\\t<div class=\"pc_check\">\\n\\t\\t\\t\\t\\t\\t\\t<span class=\"ip_check\">\\n\\t\\t\\t\\t\\t\\t\\t\\t<a href=\"/login/ext/help_ip3.html\" target=\"_blank\" onclick=\"window.open(this.href, \\'IPGUIDE\\', \\'titlebar=1, resizable=1, scrollbars=yes, width=537, height=750\\'); return false;\" title=\"\" >IP\\xeb\\xb3\\xb4\\xec\\x95\\x88</a>\\n\\t\\t\\t\\t\\t\\t\\t\\t<span class=\"ip_ch\">\\n\\t\\t\\t\\t\\t\\t\\t\\t\\t<input type=\"checkbox\" id=\"ip_on\" value=\"off\" onchange=\"ipCheck(this,event);nclks_chk(\\'ip_on\\', \\'log.iponset\\', \\'log.ipoffset\\',this,event)\" class=\"\"/>\\n\\t\\t\\t\\t\\t\\t\\t\\t\\t<label for=\"ip_on\" id=\"label_ip_on\" class=\"sp \"><span class=\"blind\">on</span></label>\\n\\t\\t\\t\\t\\t\\t\\t\\t</span>\\n\\t\\t\\t\\t\\t\\t\\t</span>\\n\\t\\t\\t\\t\\t\\t\\t<span class=\"bar\">|</span>\\n\\t\\t\\t\\t\\t\\t\\t<div class=\"dis_di\">\\n\\t\\t\\t\\t\\t\\t\\t\\t<a href=\"#\" onclick=\"onetime(); nclks(\\'log.otn\\',this,event); return false;\" title=\"\\xec\\x9d\\xbc\\xed\\x9a\\x8c\\xec\\x9a\\xa9 \\xeb\\xa1\\x9c\\xea\\xb7\\xb8\\xec\\x9d\\xb8\">\\xec\\x9d\\xbc\\xed\\x9a\\x8c\\xec\\x9a\\xa9 \\xeb\\xa1\\x9c\\xea\\xb7\\xb8\\xec\\x9d\\xb8</a><a href=\"javascript:viewOnetime();\" onclick=\"nclks(\\'log.otnhelp\\',this,event)\" title=\"\\xeb\\x8f\\x84\\xec\\x9b\\x80\\xeb\\xa7\\x90\" class=\"btn_help_cover\"><span class=\"sp btn_help\"></span><span class=\"blind\">\\xeb\\x8f\\x84\\xec\\x9b\\x80\\xeb\\xa7\\x90</span></a>\\n\\t\\t\\t\\t\\t\\t\\t\\t<div class=\"ly\" id=\"onetime_usage\" style=\"display:none;\" onclick=\"javascript:viewOnetime()\">\\n\\t\\t\\t\\t\\t\\t\\t\\t\\t<div class=\"ly_box\">\\n\\t\\t\\t\\t\\t\\t\\t\\t\\t\\t<p>\\xeb\\x84\\xa4\\xec\\x9d\\xb4\\xeb\\xb2\\x84\\xec\\x95\\xb1\\xec\\x97\\x90\\xec\\x84\\x9c \\xec\\x83\\x9d\\xec\\x84\\xb1\\xeb\\x90\\x9c \\xec\\x9d\\xbc\\xed\\x9a\\x8c\\xec\\x9a\\xa9 \\xeb\\xa1\\x9c\\xea\\xb7\\xb8\\xec\\x9d\\xb8 \\xeb\\xb2\\x88\\xed\\x98\\xb8\\xeb\\xa5\\xbc \\xec\\x9e\\x85\\xeb\\xa0\\xa5\\xed\\x95\\x98\\xeb\\xa9\\xb4, \\xec\\x95\\xb1\\xec\\x97\\x90 \\xeb\\xa1\\x9c\\xea\\xb7\\xb8\\xec\\x9d\\xb8\\xeb\\x90\\x9c \\xea\\xb3\\x84\\xec\\xa0\\x95\\xec\\x9c\\xbc\\xeb\\xa1\\x9c PC\\xec\\x97\\x90\\xec\\x84\\x9c \\xeb\\xa1\\x9c\\xea\\xb7\\xb8\\xec\\x9d\\xb8\\xed\\x95\\xa0 \\xec\\x88\\x98 \\xec\\x9e\\x88\\xec\\x96\\xb4\\xec\\x9a\\x94. \\xec\\x95\\x84\\xec\\x9d\\xb4\\xeb\\x94\\x94/\\xeb\\xb9\\x84\\xeb\\xb0\\x80\\xeb\\xb2\\x88\\xed\\x98\\xb8\\xeb\\xa5\\xbc \\xec\\x9e\\x85\\xeb\\xa0\\xa5\\xed\\x95\\x98\\xec\\xa7\\x80 \\xec\\x95\\x8a\\xec\\x95\\x84 \\xea\\xb0\\x84\\xed\\x8e\\xb8\\xed\\x95\\x98\\xea\\xb3\\xa0 \\xeb\\x8d\\x94\\xec\\x9a\\xb1 \\xec\\x95\\x88\\xec\\xa0\\x84\\xed\\x95\\xa9\\xeb\\x8b\\x88\\xeb\\x8b\\xa4.</p>\\n\\t\\t\\t\\t\\t\\t\\t\\t\\t</div>\\n\\t\\t\\t\\t\\t\\t\\t\\t\\t<span class=\"sp ly_point\"></span>\\n\\t\\t\\t\\t\\t\\t\\t\\t</div>\\n\\t\\t\\t\\t\\t\\t\\t</div>\\n\\t\\t\\t\\t\\t\\t</div>\\n\\t\\t\\t\\t\\t</div>\\n\\t\\t\\t\\t</fieldset>\\n\\t\\t\\t</form>\\n\\t\\t\\t<div class=\"position_a\">\\n\\t\\t\\t\\t<div class=\"find_info\">\\n\\t\\t\\t\\t\\t<a target=\"_blank\" id=\"idinquiry\" href=\"https://nid.naver.com/user/help.nhn?todo=idinquiry\">\\xec\\x95\\x84\\xec\\x9d\\xb4\\xeb\\x94\\x94 \\xec\\xb0\\xbe\\xea\\xb8\\xb0</a> <span class=\"bar\" aria-hidden=\"true\">|</span> <a target=\"_blank\" id=\"pwinquiry\" href=\"https://nid.naver.com/nidreminder.form\">\\xeb\\xb9\\x84\\xeb\\xb0\\x80\\xeb\\xb2\\x88\\xed\\x98\\xb8 \\xec\\xb0\\xbe\\xea\\xb8\\xb0</a> <span class=\"bar\" aria-hidden=\"true\">|</span> <a target=\"_blank\" id=\"join\" href=\"https://nid.naver.com/user/join.html?lang=ko_KR\">\\xed\\x9a\\x8c\\xec\\x9b\\x90\\xea\\xb0\\x80\\xec\\x9e\\x85</a>\\n\\t\\t\\t\\t</div>\\n\\t\\t\\t</div>\\n\\t\\t\\t<div class=\"phishing_banner toolbar\" style=\"cursor:pointer;\" onClick=\"window.open(\\'https://tools.naver.com/service/toolbar/index.nhn\\',\\'_newtab\\');\">\\n\\t\\t\\t\\t<div class=\"sp\">\\n\\t\\t\\t\\t\\t<span class=\"blind\">\\n\\t\\t\\t\\t\\t\\t<strong>\\xec\\xa3\\xbc\\xec\\x86\\x8c\\xec\\xb0\\xbd\\xec\\x9d\\x98 URL\\xea\\xb3\\xbc \\xec\\x9e\\x90\\xeb\\xac\\xbc\\xec\\x87\\xa0\\xeb\\xa5\\xbc \\xed\\x99\\x95\\xec\\x9d\\xb8\\xed\\x95\\x98\\xec\\x84\\xb8\\xec\\x9a\\x94?</strong>\\n\\t\\t\\t\\t\\t\\t\\xec\\x9e\\x90\\xeb\\xac\\xbc\\xec\\x87\\xa0\\xea\\xb0\\x80 \\xec\\x97\\x86\\xec\\x9c\\xbc\\xeb\\xa9\\xb4 \\xeb\\x84\\xa4\\xec\\x9d\\xb4\\xeb\\xb2\\x84 \\xeb\\xa1\\x9c\\xea\\xb7\\xb8\\xec\\x9d\\xb8 \\xed\\x8e\\x98\\xec\\x9d\\xb4\\xec\\xa7\\x80\\xea\\xb0\\x80 \\xec\\x95\\x84\\xeb\\x8b\\x99\\xeb\\x8b\\x88\\xeb\\x8b\\xa4.\\n\\t\\t\\t\\t\\t\\t<em>\\xec\\xa3\\xbc\\xec\\x86\\x8c\\xed\\x91\\x9c\\xec\\x8b\\x9c\\xec\\xa4\\x84\\xec\\x9d\\x98 \\xec\\x9e\\x90\\xeb\\xac\\xbc\\xec\\x87\\xa0\\xec\\x99\\x80 URL</em>\\xec\\x9d\\x84 \\xed\\x99\\x95\\xec\\x9d\\xb8\\xed\\x95\\xb4 \\xec\\xa3\\xbc\\xec\\x84\\xb8\\xec\\x9a\\x94.\\n\\t\\t\\t\\t\\t</span>\\n\\t\\t\\t\\t</div>\\n\\t\\t\\t</div>\\n\\t\\t</div>\\n\\t\\t<!-- //content -->\\n\\t</div>\\n\\t<!-- //container -->\\n\\t<!-- footer -->\\n\\t<div id=\"footer\">\\n\\t\\t<ul>\\n\\t\\t<li><a target=\"_blank\" href=\"http://www.naver.com/rules/service.html\" onclick=\"nclks(\\'fot.agreement\\',this,event)\">\\xec\\x9d\\xb4\\xec\\x9a\\xa9\\xec\\x95\\xbd\\xea\\xb4\\x80</a></li>\\n\\t\\t<li><strong><a target=\"_blank\" href=\"http://www.naver.com/rules/privacy.html\" onclick=\"nclks(\\'fot.privacy\\',this,event)\">\\xea\\xb0\\x9c\\xec\\x9d\\xb8\\xec\\xa0\\x95\\xeb\\xb3\\xb4\\xec\\xb2\\x98\\xeb\\xa6\\xac\\xeb\\xb0\\xa9\\xec\\xb9\\xa8</a></strong></li>\\n\\t\\t<li><a target=\"_blank\" href=\"http://www.naver.com/rules/disclaimer.html\" onclick=\"nclks(\\'fot.disclaimer\\',this,event)\">\\xec\\xb1\\x85\\xec\\x9e\\x84\\xec\\x9d\\x98 \\xed\\x95\\x9c\\xea\\xb3\\x84\\xec\\x99\\x80 \\xeb\\xb2\\x95\\xec\\xa0\\x81\\xea\\xb3\\xa0\\xec\\xa7\\x80</a></li>\\n\\t\\t<li><a target=\"_blank\" href=\"https://help.naver.com/support/service/main.nhn?serviceNo=532\" onclick=\"nclks(\\'fot.help\\',this,event)\">\\xed\\x9a\\x8c\\xec\\x9b\\x90\\xec\\xa0\\x95\\xeb\\xb3\\xb4 \\xea\\xb3\\xa0\\xea\\xb0\\x9d\\xec\\x84\\xbc\\xed\\x84\\xb0</a></li>\\n\\t\\t</ul>\\n\\t\\t<address><em><a target=\"_blank\" href=\"http://www.navercorp.com\" class=\"logo\" onclick=\"nclks(\\'fot.naver\\',this,event)\"><span class=\"blind\">naver</span></a></em><em class=\"copy\">Copyright</em> <em class=\"u_cri\">&copy;</em> <a target=\"_blank\" href=\"http://www.navercorp.com\" class=\"u_cra\"  onclick=\"nclks(\\'fot.navercorp\\',this,event)\">NAVER Corp.</a> <span class=\"all_r\">All Rights Reserved.</span></address>\\t\\n\\t</div>\\n\\t<!-- //footer -->\\n</div>\\n<script type=\"text/javascript\" src=\"https://nid.naver.com/login/js/common.all.js?141216\"> </script>\\n\\n<script type=\"text/javascript\">\\nvar session_keys = \"\";\\nvar pc_keyboard_close=\"<span class=\\\\\"sp\\\\\">PC \\xed\\x82\\xa4\\xeb\\xb3\\xb4\\xeb\\x93\\x9c \\xeb\\x8b\\xab\\xea\\xb8\\xb0</span>\";\\nvar pc_keyboard_open=\"<span class=\\\\\"sp\\\\\">PC \\xed\\x82\\xa4\\xeb\\xb3\\xb4\\xeb\\x93\\x9c \\xeb\\xb3\\xb4\\xea\\xb8\\xb0</span>\";\\nvar view_char=\"\\xed\\x95\\x9c\\xea\\xb8\\x80 \\xeb\\xb3\\xb4\\xea\\xb8\\xb0\";\\nvar view_symbol=\"\\xed\\x8a\\xb9\\xec\\x88\\x98\\xea\\xb8\\xb0\\xed\\x98\\xb8 \\xeb\\xb3\\xb4\\xea\\xb8\\xb0\";\\n\\naddInputEvent(\\'id\\', \\'id_area\\');\\naddInputEvent(\\'pw\\', \\'pw_area\\');\\n\\ninitSmartLevel();\\nvar login_chk = $(\\'login_chk\\');\\nif(login_chk.attachEvent) {\\n\\tlogin_chk.attachEvent(\"onchange\", function(){persist_usage();});\\n} else if (login_chk.addEventListener) {\\n\\tlogin_chk.addEventListener(\"change\", function(){persist_usage();}, false);\\n}\\nfunction isOldIE()\\n{\\n\\ttry{\\n\\t\\tvar agent = window.navigator.userAgent;\\n\\t\\tif(agent.indexOf(\"MSIE 8\")!= -1 || agent.indexOf(\"MSIE 7\")!= -1 ) {\\n\\t\\t\\tlogin_chk.attachEvent(\"onclick\", function(){msieblur(login_chk);});\\n\\t\\t}\\n\\t\\tif(agent.indexOf(\"MSIE \")!= -1 || agent.indexOf(\"rv:11.0\")!= -1){\\n\\t\\t\\t$(\"locale_switch\").style.backgroundImage=\"none\";\\n\\t\\t}\\n\\t}catch(e) {}\\n}\\nisOldIE();\\nfunction persist_usage()\\n{\\n\\tvar login_chk = $(\"login_chk\");\\n\\tif (login_chk.checked==true)\\n\\t{\\n\\t\\tshow(\"persist_usage\");\\n\\t\\thide(\\'onetime_usage\\');\\n\\t\\tview_onetimeusage = false;\\n\\t}\\n\\telse\\n\\t{\\n\\t\\thide(\"persist_usage\");\\n\\t}\\n}\\nvar view_onetimeusage = false;\\nfunction viewOnetime()\\n{\\n\\tif (view_onetimeusage)\\n\\t{\\n\\t\\thide(\\'onetime_usage\\');\\n\\t\\tview_onetimeusage = false;\\n\\t}\\n\\telse\\n\\t{\\n\\t\\thide(\"persist_usage\");\\n\\t\\tshow(\\'onetime_usage\\');\\n\\t\\tview_onetimeusage = true;\\n\\t}\\n}\\ntry{\\n\\tif (navigator.appVersion.toLowerCase().indexOf(\"win\") != -1) {\\n\\t\\t$(\\'id\\').style.imeMode = \"disabled\";\\n\\t\\tdocument.msCapsLockWarningOff = true;\\n\\t}\\n}catch(e) {}\\ntry{\\n\\tif ( $(\\'id\\').value.length == 0 )\\n\\t{\\n\\t\\t$(\\'id\\').focus();\\n\\t}\\n\\telse\\n\\t{\\n\\t\\t$(\\'pw\\').focus();\\n\\t}\\n\\tresizePopup(500,650);\\n}catch (e){}\\nfunction selectItemByValue(elmnt, value){\\n\\tisSet = false;\\n\\tfor(var i=0; i < elmnt.options.length; i++)\\n\\t{\\n\\t\\tif(elmnt.options[i].value === value) {\\n\\t\\t\\telmnt.selectedIndex = i;\\n\\t\\t\\tisSet = true;\\n\\t\\t\\tbreak;\\n\\t\\t}\\n\\t}\\n\\tif (!isSet)\\n\\t\\telmnt.selectedIndex=1;\\n}\\ntry {\\nselectItemByValue(locale_switch, \\'ko_KR\\');\\n}catch (e){}\\nvar id_error_msg=\"\\xec\\x95\\x84\\xec\\x9d\\xb4\\xeb\\x94\\x94\\xeb\\xa5\\xbc \\xec\\x9e\\x85\\xeb\\xa0\\xa5\\xed\\x95\\xb4\\xec\\xa3\\xbc\\xec\\x84\\xb8\\xec\\x9a\\x94.\";\\nvar pw_error_msg=\"\\xeb\\xb9\\x84\\xeb\\xb0\\x80\\xeb\\xb2\\x88\\xed\\x98\\xb8\\xeb\\xa5\\xbc \\xec\\x9e\\x85\\xeb\\xa0\\xa5\\xed\\x95\\xb4\\xec\\xa3\\xbc\\xec\\x84\\xb8\\xec\\x9a\\x94.\";\\nvar inSubmitProgress = false;\\nfunction confirmSplitSubmit()\\n{\\n        if (inSubmitProgress) {\\n                return false;\\n        }\\n        inSubmitProgress = true;\\n        var id = $(\"id\");\\n        var pw = $(\"pw\");\\n        var encpw = $(\"encpw\");\\n        \\n        if(id.value == \"\") {\\n                show(\"err_empty_id\");\\n                $(\"err_empty_id\").innerHTML=id_error_msg;\\n                hide(\"err_empty_pw\");\\n                $(\"err_empty_pw\").innerHTML=\"\";\\n                hide(\"err_common_pw1\");\\n                hide(\"err_common\");\\n                id.focus();\\n                inSubmitProgress = false;\\n                return false;\\n        } else if(pw.value == \"\") {\\n                show(\"err_empty_pw\");\\n                $(\"err_empty_pw\").innerHTML=pw_error_msg;\\n                hide(\"err_empty_id\");\\n                $(\"err_empty_id\").innerHTML=\"\";\\n                hide(\"err_common_pw1\");\\n                hide(\"err_common\");\\n                pw.focus();\\n                inSubmitProgress = false;\\n                return false;\\n        }\\n        try{\\n                $(\"ls\").value = localStorage.getItem(\"nid_t\");\\n        }catch(e){}\\n        return encryptIdPwSplit();\\n}\\nfunction encryptIdPwSplit() {\\n        var id = $(\"id\");\\n        var pw = $(\"pw\");\\n        var encpw = $(\"encpw\");\\n        var rsa = new RSAKey;\\n\\n        if (keySplit(session_keys)) {\\n                rsa.setPublic(evalue, nvalue);\\n                try{\\n                        encpw.value = rsa.encrypt(\\n                                getLenChar(sessionkey) + sessionkey +\\n                                getLenChar(id.value) + id.value +\\n                                getLenChar(pw.value) + pw.value);\\n                } catch(e) {\\n                        inSubmitProgress = false;\\n                        return false;\\n                }\\n                $(\\'enctp\\').value = 1;\\n\\n                setTimeout(function() {\\n                        $(\"id\").value = \"\";\\n                        $(\"pw\").value = \"\";\\n                        $(\"bvsd\").value = \"timeout\";\\n                        $(\\'frmNIDLogin\\').submit();\\n                }, 5000);\\n                try {\\n                        if (bvsd){\\n                                bvsd.f(function(a) {\\n                                        $(\"id\").value = \"\";\\n                                        $(\"pw\").value = \"\";\\n                                        $(\"bvsd\").value = a;\\n                                        $(\\'frmNIDLogin\\').submit();\\n                                });\\n                        }\\n                } catch (e) {\\n                        $(\"id\").value = \"\";\\n                        $(\"pw\").value = \"\";\\n                        $(\"bvsd\").value = \"error1|\"+e.name+\"|\"+e.message;;\\n                        $(\\'frmNIDLogin\\').submit();\\n                }\\n        }\\n        else\\n        {\\n                getKeyByRuntimeIncludeSplit();\\n        }\\n        inSubmitProgress = false;\\n        return false;\\n}\\nfunction getKeyByRuntimeIncludeSplit() {\\n        try {\\n                var keyjs  = document.createElement(\\'script\\');\\n                keyjs.type = \\'text/javascript\\';\\n                keyjs.src = \\'/login/ext/keys_js3.nhn\\';\\n                document.getElementsByTagName(\\'head\\')[0].appendChild(keyjs);\\n        } catch (e) {\\n        }\\n}\\n</script>\\n<script type=\"text/javascript\" src=\"/login/js/bvsd.1.3.4.min.js\"></script>\\n<script type=\"text/javascript\">\\nvar porperties = {\\n\\tkeyboard: [{\\n\\t\\tid: \"id\"\\n\\t}, {\\n\\t\\tid: \"pw\",\\n\\t\\tsecureMode: true\\n\\t}],\\n\\tmodeProperties: {\\n\\t\\tmode: 4\\n\\t}\\n};\\nbvsd = new sofa.Koop(porperties);\\ntry{\\n\\tvar nid_buk = localStorage.getItem(\"nid_buk\");\\n\\tif (nid_buk!=null && nid_buk.length>0)\\n\\t{\\n\\t\\tvar today = new Date();\\n\\t\\tvar expire = new Date(today.getTime() + 60 * 60 * 24 * 3650 * 1000);\\n\\t\\tvar curCookie = \"nid_buk=\" + escape(nid_buk) + \"; expires=\" + expire.toGMTString() + \"; path=/; domain=.nid.naver.com; Secure;\";\\n\\t\\tdocument.cookie = curCookie;\\n\\t}\\n\\telse\\n\\t{\\n\\t\\tnid_nnb = getCookie(\\'NNB\\');\\n\\t\\tif (nid_nnb!=null && nid_nnb.length>0)\\n\\t\\t{\\n\\t\\t\\tlocalStorage.setItem(\"nid_buk\", nid_nnb);\\n\\t\\t\\tvar today = new Date();\\n\\t\\t\\tvar expire = new Date(today.getTime() + 60 * 60 * 24 * 3650 * 1000);\\n\\t\\t\\tvar curCookie = \"nid_buk=\" + escape(nid_nnb) + \"; expires=\" + expire.toGMTString() + \"; path=/; domain=.nid.naver.com; Secure;\";\\n\\t\\t\\tdocument.cookie = curCookie;\\n\\t\\t}\\n\\t}\\n}catch(e){}\\n</script>\\n<script type=\"text/javascript\" src=\"https://nid.naver.com/login/js/lcs_nclicks.js?dt=20190122\"></script>\\n<script type=\"text/javascript\"> \\nlcs_do(); \\nvar g_ssc = \"nid.login_kr\";\\nvar ccsrv = \"cc.naver.com\";\\n</script>\\n<div id=\"nv_stat\" style=\"display:none;\">20</div>\\n</body>\\n</html>\\n'"
      ]
     },
     "execution_count": 4,
     "metadata": {},
     "output_type": "execute_result"
    }
   ],
   "source": [
    "resp.content"
   ]
  },
  {
   "cell_type": "code",
   "execution_count": 31,
   "metadata": {},
   "outputs": [
    {
     "data": {
      "text/plain": [
       "b'<!DOCTYPE html>\\n<html lang=\"ko\">\\n<head>\\n\\t<meta charset=\"UTF-8\">\\n\\t<meta http-equiv=\"X-UA-Compatible\" content=\"IE=edge\">\\n\\t<meta name=\"viewport\" content=\"width=device-width, initial-scale=1.0, maximum-scale=1.0, minimum-scale=1.0, user-scalable=no\">\\n\\t<title>\\xeb\\x84\\xa4\\xec\\x9d\\xb4\\xeb\\xb2\\x84 : \\xeb\\xa1\\x9c\\xea\\xb7\\xb8\\xec\\x9d\\xb8</title>\\n\\t<link rel=\"stylesheet\" type=\"text/css\" href=\"/login/css/global/desktop/w_20190509.css?dt=20190509\">\\n</head>\\n<body class=\"popup \">\\n\\n<div id=\"wrap\">\\n    <div id=\"u_skip\">\\n        <a href=\"#content\" onclick=\"document.getElementById(\\'content\\').tabIndex=-1;document.getElementById(\\'content\\').focus();return false;\"><span>\\xeb\\xb3\\xb8\\xeb\\xac\\xb8\\xec\\x9c\\xbc\\xeb\\xa1\\x9c \\xeb\\xb0\\x94\\xeb\\xa1\\x9c\\xea\\xb0\\x80\\xea\\xb8\\xb0</span></a>\\n    </div>\\n\\t<!-- header -->\\n\\t<div id=\"header\">\\n\\t\\t<h1><a href=\"http://www.naver.com\" class=\"sp h_logo\" onclick=\"nclks(\\'log.naver\\',this,event)\"><span class=\"blind\">NAVER</span></a></h1>\\n\\t\\t<div class=\"lang\">\\n\\t\\t\\t<select id=\"locale_switch\" name=\"locale_switch\" title=\"\\xec\\x96\\xb8\\xec\\x96\\xb4\\xec\\x84\\xa0\\xed\\x83\\x9d\" class=\"sel\" onchange=\"switchlocale();nclks_select(this.value,\\'\\',{\\'ko_KR\\':\\'log.lankr\\',\\'en_US\\':\\'log.lanen\\',\\'zh-Hans_CN\\':\\'log.lancn\\',\\'zh-Hant_TW\\':\\'log.lantw\\'},this,event);\">\\n\\t\\t\\t\\t<option value=\"ko_KR\" >\\xed\\x95\\x9c\\xea\\xb5\\xad\\xec\\x96\\xb4</option>\\n\\t\\t\\t\\t<option value=\"en_US\" >English</option>\\n\\t\\t\\t\\t<option value=\"zh-Hans_CN\" >\\xe4\\xb8\\xad\\xe6\\x96\\x87(\\xe7\\xae\\x80\\xe4\\xbd\\x93)</option>\\n\\t\\t\\t\\t<option value=\"zh-Hant_TW\" >\\xe4\\xb8\\xad\\xe6\\x96\\x87(\\xe5\\x8f\\xb0\\xe7\\x81\\xa3)</option>\\n\\t\\t\\t</select>\\n\\t\\t</div>\\n\\t</div>\\n\\t<!-- //header -->\\n\\t<!-- container -->\\n\\t<div id=\"container\">\\n\\t\\t<!-- content -->\\n\\t\\t<div id=\"content\">\\n\\t\\t\\t<div class=\"title\">\\n\\t\\t\\t\\t<p>\\xeb\\x84\\xa4\\xec\\x9d\\xb4\\xeb\\xb2\\x84 \\xeb\\xa1\\x9c\\xea\\xb7\\xb8\\xec\\x9d\\xb8\\xec\\x9c\\xbc\\xeb\\xa1\\x9c <em class=\"sevice\">\\xea\\xb5\\x90\\xec\\x9c\\xa1\\xec\\x9a\\xa9 \\xeb\\xb8\\x94\\xeb\\xa1\\x9c\\xea\\xb7\\xb8</em> \\xec\\x84\\x9c\\xeb\\xb9\\x84\\xec\\x8a\\xa4\\xeb\\xa5\\xbc \\xec\\x9d\\xb4\\xec\\x9a\\xa9\\xed\\x95\\x98\\xec\\x8b\\xa4 \\xec\\x88\\x98 \\xec\\x9e\\x88\\xec\\x8a\\xb5\\xeb\\x8b\\x88\\xeb\\x8b\\xa4.</p>\\n\\t\\t\\t</div>\\n\\t\\t\\t<form id=\"frmNIDLogin\" name=\"frmNIDLogin\" target=\"_top\" AUTOCOMPLETE=\"off\" action=\"https://nid.naver.com/nidlogin.login\" method=\"POST\" onsubmit=\"return confirmSplitSubmit();\">\\n\\t\\t\\t<input type=\"hidden\" id=\"localechange\" name=\"localechange\" value=\"\">\\n\\t\\t\\t\\t<input type=\"hidden\" name=\"logintp\" id=\"logintp\" value=\"oauth2\">\\n<input type=\"hidden\" name=\"encpw\" id=\"encpw\" value=\"\">\\n<input type=\"hidden\" name=\"enctp\" id=\"enctp\" value=\"1\">\\n<input type=\"hidden\" name=\"svctype\" id=\"svctype\" value=\"64\">\\n<input type=\"hidden\" name=\"smart_LEVEL\" id=\"smart_LEVEL\" value=\"1\">\\n<input type=\"hidden\" name=\"bvsd\" id=\"bvsd\" value=\"\">\\n<input type=\"hidden\" name=\"encnm\" id=\"encnm\" value=\"\">\\n<input type=\"hidden\" name=\"locale\" id=\"locale\" value=\"ko_KR\">\\n<input type=\"hidden\" name=\"client_id\" id=\"client_id\" value=\"TLqTb1NaG0h7W2hfXj3h\">\\n<input type=\"hidden\" name=\"url\" id=\"url\" value=\"https://nid.naver.com/oauth2.0/authorize?response_type=code&state=abcde12345&client_id=TLqTb1NaG0h7W2hfXj3h&redirect_uri=http%3A%2F%2F127.0.0.1%3A8080&locale=ko_KR&inapp_view=&oauth_os=\">\\n\\n\\t\\t\\t\\t<fieldset class=\"login_form\">\\n\\t\\t\\t\\t\\t<legend class=\"blind\">\\xeb\\xa1\\x9c\\xea\\xb7\\xb8\\xec\\x9d\\xb8</legend>\\n\\t\\t\\t\\t\\t<div class=\"id_area\">\\n\\t\\t\\t\\t\\t\\t<div class=\"input_row\" id=\"id_area\">\\n\\t\\t\\t\\t\\t\\t\\t<span class=\"input_box\">\\n\\t\\t\\t\\t\\t\\t\\t\\t<label for=\"id\" id=\"label_id_area\" class=\"lbl\">\\xec\\x95\\x84\\xec\\x9d\\xb4\\xeb\\x94\\x94</label>\\n\\t\\t\\t\\t\\t\\t\\t\\t<input type=\"text\" id=\"id\" name=\"id\" accesskey=\"L\" placeholder=\"\\xec\\x95\\x84\\xec\\x9d\\xb4\\xeb\\x94\\x94\" class=\"int\" maxlength=\"41\" value=\"\">\\n\\t\\t\\t\\t\\t\\t\\t</span>\\n\\t\\t\\t\\t\\t\\t\\t<button type=\"button\" disabled=\"\" title=\"delete\" id=\"id_clear\" class=\"wrg\">\\xec\\x82\\xad\\xec\\xa0\\x9c</button>\\n\\t\\t\\t\\t\\t\\t</div>\\n\\t\\t\\t\\t\\t\\t<div class=\"error\" id=\"err_empty_id\" style=\"display:none\" aria-live=\"assertive\"></div>\\n\\t\\t\\t\\t\\t</div>\\n\\t\\t\\t\\t\\t<div class=\"pw_area\">\\n\\t\\t\\t\\t\\t\\t<div class=\"input_row\" id=\"pw_area\">\\n\\t\\t\\t\\t\\t\\t\\t<span class=\"input_box\">\\n\\t\\t\\t\\t\\t\\t\\t\\t<label for=\"pw\" id=\"label_pw_area\"  class=\"lbl\">\\xeb\\xb9\\x84\\xeb\\xb0\\x80\\xeb\\xb2\\x88\\xed\\x98\\xb8</label>\\n\\t\\t\\t\\t\\t\\t\\t\\t<input type=\"password\" id=\"pw\" name=\"pw\" placeholder=\"\\xeb\\xb9\\x84\\xeb\\xb0\\x80\\xeb\\xb2\\x88\\xed\\x98\\xb8\" class=\"int\" maxlength=\"16\" onkeypress=\"capslockevt(event);getKeysv2();\" onkeyup=\"checkShiftUp(event);\" onkeydown=\"checkShiftDown(event);\">\\n\\t\\t\\t\\t\\t\\t\\t</span>\\n\\t\\t\\t\\t\\t\\t\\t<button type=\"button\" disabled=\"\" title=\"delete\" id=\"pw_clear\" class=\"wrg\">\\xec\\x82\\xad\\xec\\xa0\\x9c</button>\\n\\t\\t\\t\\t\\t\\t\\t<div class=\"ly_v2\" id=\"err_capslock\" style=\"display:none;\">\\n\\t\\t\\t\\t\\t\\t\\t\\t<div class=\"ly_box\">\\n\\t\\t\\t\\t\\t\\t\\t\\t\\t<p><strong>Caps Lock</strong>\\xec\\x9d\\xb4 \\xec\\xbc\\x9c\\xec\\xa0\\xb8 \\xec\\x9e\\x88\\xec\\x8a\\xb5\\xeb\\x8b\\x88\\xeb\\x8b\\xa4.</p>\\n\\t\\t\\t\\t\\t\\t\\t\\t</div>\\n\\t\\t\\t\\t\\t\\t\\t\\t<span class=\"sp ly_point\"></span>\\n\\t\\t\\t\\t\\t\\t\\t</div>\\n\\t\\t\\t\\t\\t\\t</div>\\n\\t\\t\\t\\t\\t\\t<div class=\"error\" id=\"err_empty_pw\" style=\"display:none\" aria-live=\"assertive\"></div>\\n\\t\\t\\t\\t\\t</div>\\n\\t\\t\\t\\t\\t<input type=\"submit\" title=\"\\xeb\\xa1\\x9c\\xea\\xb7\\xb8\\xec\\x9d\\xb8\" alt=\"\\xeb\\xa1\\x9c\\xea\\xb7\\xb8\\xec\\x9d\\xb8\" value=\"\\xeb\\xa1\\x9c\\xea\\xb7\\xb8\\xec\\x9d\\xb8\" class=\"btn_global\" onclick=\"nclks(\\'log.login\\',this,event)\">\\n\\t\\t\\t\\t\\t<div class=\"check_info\">\\n\\t\\t\\t\\t\\t\\t<div class=\"login_check\">\\n\\t\\t\\t\\t\\t\\t\\t<span class=\"login_check_box\">\\n\\t\\t\\t\\t\\t\\t\\t\\t<input type=\"checkbox\" id=\"login_chk\" name=\"nvlong\" class=\"\"  value=\"off\" onchange=\"savedLong(this);nclks_chk(\\'login_chk\\', \\'log.keepon\\', \\'log.keepoff\\',this,event)\" />\\n\\t\\t\\t\\t\\t\\t\\t\\t<label for=\"login_chk\" id=\"label_login_chk\" class=\"sp \">\\xeb\\xa1\\x9c\\xea\\xb7\\xb8\\xec\\x9d\\xb8 \\xec\\x83\\x81\\xed\\x83\\x9c \\xec\\x9c\\xa0\\xec\\xa7\\x80</label>\\n\\t\\t\\t\\t\\t\\t\\t</span>\\n\\t\\t\\t\\t\\t\\t\\t<div class=\"ly_v2\" id=\"persist_usage\"  style=\"display:none;\">\\n\\t\\t\\t\\t\\t\\t\\t\\t<div class=\"ly_box\">\\n\\t\\t\\t\\t\\t\\t\\t\\t\\t<p>\\xea\\xb0\\x9c\\xec\\x9d\\xb8\\xec\\xa0\\x95\\xeb\\xb3\\xb4 \\xeb\\xb3\\xb4\\xed\\x98\\xb8\\xeb\\xa5\\xbc \\xec\\x9c\\x84\\xed\\x95\\xb4 <strong>\\xea\\xb0\\x9c\\xec\\x9d\\xb8 PC\\xec\\x97\\x90\\xec\\x84\\x9c\\xeb\\xa7\\x8c \\xec\\x82\\xac\\xec\\x9a\\xa9\\xed\\x95\\x98\\xec\\x84\\xb8\\xec\\x9a\\x94.</strong>&nbsp;&nbsp; &nbsp;&nbsp;<a href=\"https://help.naver.com/support/contents/contents.nhn?serviceNo=532&categoryNo=1523\" target=\"_blank\" class=\"sp btn_check_help\">\\xeb\\x8f\\x84\\xec\\x9b\\x80\\xeb\\xa7\\x90\\xeb\\xb3\\xb4\\xea\\xb8\\xb0</a></p>\\n\\t\\t\\t\\t\\t\\t\\t\\t</div>\\n\\t\\t\\t\\t\\t\\t\\t\\t<span class=\"sp ly_point\"></span>\\n\\t\\t\\t\\t\\t\\t\\t</div>\\n\\t\\t\\t\\t\\t\\t</div>\\n\\t\\t\\t\\t\\t\\t<div class=\"pc_check\">\\n\\t\\t\\t\\t\\t\\t\\t<span class=\"ip_check\">\\n\\t\\t\\t\\t\\t\\t\\t\\t<a href=\"/login/ext/help_ip3.html\" target=\"_blank\" onclick=\"window.open(this.href, \\'IPGUIDE\\', \\'titlebar=1, resizable=1, scrollbars=yes, width=537, height=750\\'); return false;\" title=\"\" >IP\\xeb\\xb3\\xb4\\xec\\x95\\x88</a>\\n\\t\\t\\t\\t\\t\\t\\t\\t<span class=\"ip_ch\">\\n\\t\\t\\t\\t\\t\\t\\t\\t\\t<input type=\"checkbox\" id=\"ip_on\" value=\"off\" onchange=\"ipCheck(this,event);nclks_chk(\\'ip_on\\', \\'log.iponset\\', \\'log.ipoffset\\',this,event)\" class=\"\"/>\\n\\t\\t\\t\\t\\t\\t\\t\\t\\t<label for=\"ip_on\" id=\"label_ip_on\" class=\"sp \"><span class=\"blind\">on</span></label>\\n\\t\\t\\t\\t\\t\\t\\t\\t</span>\\n\\t\\t\\t\\t\\t\\t\\t</span>\\n\\t\\t\\t\\t\\t\\t\\t<span class=\"bar\">|</span>\\n\\t\\t\\t\\t\\t\\t\\t<div class=\"dis_di\">\\n\\t\\t\\t\\t\\t\\t\\t\\t<a href=\"#\" onclick=\"onetime(); nclks(\\'log.otn\\',this,event); return false;\" title=\"\\xec\\x9d\\xbc\\xed\\x9a\\x8c\\xec\\x9a\\xa9 \\xeb\\xa1\\x9c\\xea\\xb7\\xb8\\xec\\x9d\\xb8\">\\xec\\x9d\\xbc\\xed\\x9a\\x8c\\xec\\x9a\\xa9 \\xeb\\xa1\\x9c\\xea\\xb7\\xb8\\xec\\x9d\\xb8</a><a href=\"javascript:viewOnetime();\" onclick=\"nclks(\\'log.otnhelp\\',this,event)\" title=\"\\xeb\\x8f\\x84\\xec\\x9b\\x80\\xeb\\xa7\\x90\" class=\"btn_help_cover\"><span class=\"sp btn_help\"></span><span class=\"blind\">\\xeb\\x8f\\x84\\xec\\x9b\\x80\\xeb\\xa7\\x90</span></a>\\n\\t\\t\\t\\t\\t\\t\\t\\t<div class=\"ly\" id=\"onetime_usage\" style=\"display:none;\" onclick=\"javascript:viewOnetime()\">\\n\\t\\t\\t\\t\\t\\t\\t\\t\\t<div class=\"ly_box\">\\n\\t\\t\\t\\t\\t\\t\\t\\t\\t\\t<p>\\xeb\\x84\\xa4\\xec\\x9d\\xb4\\xeb\\xb2\\x84\\xec\\x95\\xb1\\xec\\x97\\x90\\xec\\x84\\x9c \\xec\\x83\\x9d\\xec\\x84\\xb1\\xeb\\x90\\x9c \\xec\\x9d\\xbc\\xed\\x9a\\x8c\\xec\\x9a\\xa9 \\xeb\\xa1\\x9c\\xea\\xb7\\xb8\\xec\\x9d\\xb8 \\xeb\\xb2\\x88\\xed\\x98\\xb8\\xeb\\xa5\\xbc \\xec\\x9e\\x85\\xeb\\xa0\\xa5\\xed\\x95\\x98\\xeb\\xa9\\xb4, \\xec\\x95\\xb1\\xec\\x97\\x90 \\xeb\\xa1\\x9c\\xea\\xb7\\xb8\\xec\\x9d\\xb8\\xeb\\x90\\x9c \\xea\\xb3\\x84\\xec\\xa0\\x95\\xec\\x9c\\xbc\\xeb\\xa1\\x9c PC\\xec\\x97\\x90\\xec\\x84\\x9c \\xeb\\xa1\\x9c\\xea\\xb7\\xb8\\xec\\x9d\\xb8\\xed\\x95\\xa0 \\xec\\x88\\x98 \\xec\\x9e\\x88\\xec\\x96\\xb4\\xec\\x9a\\x94. \\xec\\x95\\x84\\xec\\x9d\\xb4\\xeb\\x94\\x94/\\xeb\\xb9\\x84\\xeb\\xb0\\x80\\xeb\\xb2\\x88\\xed\\x98\\xb8\\xeb\\xa5\\xbc \\xec\\x9e\\x85\\xeb\\xa0\\xa5\\xed\\x95\\x98\\xec\\xa7\\x80 \\xec\\x95\\x8a\\xec\\x95\\x84 \\xea\\xb0\\x84\\xed\\x8e\\xb8\\xed\\x95\\x98\\xea\\xb3\\xa0 \\xeb\\x8d\\x94\\xec\\x9a\\xb1 \\xec\\x95\\x88\\xec\\xa0\\x84\\xed\\x95\\xa9\\xeb\\x8b\\x88\\xeb\\x8b\\xa4.</p>\\n\\t\\t\\t\\t\\t\\t\\t\\t\\t</div>\\n\\t\\t\\t\\t\\t\\t\\t\\t\\t<span class=\"sp ly_point\"></span>\\n\\t\\t\\t\\t\\t\\t\\t\\t</div>\\n\\t\\t\\t\\t\\t\\t\\t</div>\\n\\t\\t\\t\\t\\t\\t</div>\\n\\t\\t\\t\\t\\t</div>\\n\\t\\t\\t\\t</fieldset>\\n\\t\\t\\t</form>\\n\\t\\t\\t<div class=\"position_a\">\\n\\t\\t\\t\\t<div class=\"find_info\">\\n\\t\\t\\t\\t\\t<a target=\"_blank\" id=\"idinquiry\" href=\"https://nid.naver.com/user/help.nhn?todo=idinquiry\">\\xec\\x95\\x84\\xec\\x9d\\xb4\\xeb\\x94\\x94 \\xec\\xb0\\xbe\\xea\\xb8\\xb0</a> <span class=\"bar\" aria-hidden=\"true\">|</span> <a target=\"_blank\" id=\"pwinquiry\" href=\"https://nid.naver.com/nidreminder.form\">\\xeb\\xb9\\x84\\xeb\\xb0\\x80\\xeb\\xb2\\x88\\xed\\x98\\xb8 \\xec\\xb0\\xbe\\xea\\xb8\\xb0</a> <span class=\"bar\" aria-hidden=\"true\">|</span> <a target=\"_blank\" id=\"join\" href=\"https://nid.naver.com/user/join.html?lang=ko_KR\">\\xed\\x9a\\x8c\\xec\\x9b\\x90\\xea\\xb0\\x80\\xec\\x9e\\x85</a>\\n\\t\\t\\t\\t</div>\\n\\t\\t\\t</div>\\n\\t\\t\\t<div class=\"phishing_banner toolbar\" style=\"cursor:pointer;\" onClick=\"window.open(\\'https://tools.naver.com/service/toolbar/index.nhn\\',\\'_newtab\\');\">\\n\\t\\t\\t\\t<div class=\"sp\">\\n\\t\\t\\t\\t\\t<span class=\"blind\">\\n\\t\\t\\t\\t\\t\\t<strong>\\xec\\xa3\\xbc\\xec\\x86\\x8c\\xec\\xb0\\xbd\\xec\\x9d\\x98 URL\\xea\\xb3\\xbc \\xec\\x9e\\x90\\xeb\\xac\\xbc\\xec\\x87\\xa0\\xeb\\xa5\\xbc \\xed\\x99\\x95\\xec\\x9d\\xb8\\xed\\x95\\x98\\xec\\x84\\xb8\\xec\\x9a\\x94?</strong>\\n\\t\\t\\t\\t\\t\\t\\xec\\x9e\\x90\\xeb\\xac\\xbc\\xec\\x87\\xa0\\xea\\xb0\\x80 \\xec\\x97\\x86\\xec\\x9c\\xbc\\xeb\\xa9\\xb4 \\xeb\\x84\\xa4\\xec\\x9d\\xb4\\xeb\\xb2\\x84 \\xeb\\xa1\\x9c\\xea\\xb7\\xb8\\xec\\x9d\\xb8 \\xed\\x8e\\x98\\xec\\x9d\\xb4\\xec\\xa7\\x80\\xea\\xb0\\x80 \\xec\\x95\\x84\\xeb\\x8b\\x99\\xeb\\x8b\\x88\\xeb\\x8b\\xa4.\\n\\t\\t\\t\\t\\t\\t<em>\\xec\\xa3\\xbc\\xec\\x86\\x8c\\xed\\x91\\x9c\\xec\\x8b\\x9c\\xec\\xa4\\x84\\xec\\x9d\\x98 \\xec\\x9e\\x90\\xeb\\xac\\xbc\\xec\\x87\\xa0\\xec\\x99\\x80 URL</em>\\xec\\x9d\\x84 \\xed\\x99\\x95\\xec\\x9d\\xb8\\xed\\x95\\xb4 \\xec\\xa3\\xbc\\xec\\x84\\xb8\\xec\\x9a\\x94.\\n\\t\\t\\t\\t\\t</span>\\n\\t\\t\\t\\t</div>\\n\\t\\t\\t</div>\\n\\t\\t</div>\\n\\t\\t<!-- //content -->\\n\\t</div>\\n\\t<!-- //container -->\\n\\t<!-- footer -->\\n\\t<div id=\"footer\">\\n\\t\\t<ul>\\n\\t\\t<li><a target=\"_blank\" href=\"http://www.naver.com/rules/service.html\" onclick=\"nclks(\\'fot.agreement\\',this,event)\">\\xec\\x9d\\xb4\\xec\\x9a\\xa9\\xec\\x95\\xbd\\xea\\xb4\\x80</a></li>\\n\\t\\t<li><strong><a target=\"_blank\" href=\"http://www.naver.com/rules/privacy.html\" onclick=\"nclks(\\'fot.privacy\\',this,event)\">\\xea\\xb0\\x9c\\xec\\x9d\\xb8\\xec\\xa0\\x95\\xeb\\xb3\\xb4\\xec\\xb2\\x98\\xeb\\xa6\\xac\\xeb\\xb0\\xa9\\xec\\xb9\\xa8</a></strong></li>\\n\\t\\t<li><a target=\"_blank\" href=\"http://www.naver.com/rules/disclaimer.html\" onclick=\"nclks(\\'fot.disclaimer\\',this,event)\">\\xec\\xb1\\x85\\xec\\x9e\\x84\\xec\\x9d\\x98 \\xed\\x95\\x9c\\xea\\xb3\\x84\\xec\\x99\\x80 \\xeb\\xb2\\x95\\xec\\xa0\\x81\\xea\\xb3\\xa0\\xec\\xa7\\x80</a></li>\\n\\t\\t<li><a target=\"_blank\" href=\"https://help.naver.com/support/service/main.nhn?serviceNo=532\" onclick=\"nclks(\\'fot.help\\',this,event)\">\\xed\\x9a\\x8c\\xec\\x9b\\x90\\xec\\xa0\\x95\\xeb\\xb3\\xb4 \\xea\\xb3\\xa0\\xea\\xb0\\x9d\\xec\\x84\\xbc\\xed\\x84\\xb0</a></li>\\n\\t\\t</ul>\\n\\t\\t<address><em><a target=\"_blank\" href=\"http://www.navercorp.com\" class=\"logo\" onclick=\"nclks(\\'fot.naver\\',this,event)\"><span class=\"blind\">naver</span></a></em><em class=\"copy\">Copyright</em> <em class=\"u_cri\">&copy;</em> <a target=\"_blank\" href=\"http://www.navercorp.com\" class=\"u_cra\"  onclick=\"nclks(\\'fot.navercorp\\',this,event)\">NAVER Corp.</a> <span class=\"all_r\">All Rights Reserved.</span></address>\\t\\n\\t</div>\\n\\t<!-- //footer -->\\n</div>\\n<script type=\"text/javascript\" src=\"https://nid.naver.com/login/js/common.all.js?141216\"> </script>\\n\\n<script type=\"text/javascript\">\\nvar session_keys = \"\";\\nvar pc_keyboard_close=\"<span class=\\\\\"sp\\\\\">PC \\xed\\x82\\xa4\\xeb\\xb3\\xb4\\xeb\\x93\\x9c \\xeb\\x8b\\xab\\xea\\xb8\\xb0</span>\";\\nvar pc_keyboard_open=\"<span class=\\\\\"sp\\\\\">PC \\xed\\x82\\xa4\\xeb\\xb3\\xb4\\xeb\\x93\\x9c \\xeb\\xb3\\xb4\\xea\\xb8\\xb0</span>\";\\nvar view_char=\"\\xed\\x95\\x9c\\xea\\xb8\\x80 \\xeb\\xb3\\xb4\\xea\\xb8\\xb0\";\\nvar view_symbol=\"\\xed\\x8a\\xb9\\xec\\x88\\x98\\xea\\xb8\\xb0\\xed\\x98\\xb8 \\xeb\\xb3\\xb4\\xea\\xb8\\xb0\";\\n\\naddInputEvent(\\'id\\', \\'id_area\\');\\naddInputEvent(\\'pw\\', \\'pw_area\\');\\n\\ninitSmartLevel();\\nvar login_chk = $(\\'login_chk\\');\\nif(login_chk.attachEvent) {\\n\\tlogin_chk.attachEvent(\"onchange\", function(){persist_usage();});\\n} else if (login_chk.addEventListener) {\\n\\tlogin_chk.addEventListener(\"change\", function(){persist_usage();}, false);\\n}\\nfunction isOldIE()\\n{\\n\\ttry{\\n\\t\\tvar agent = window.navigator.userAgent;\\n\\t\\tif(agent.indexOf(\"MSIE 8\")!= -1 || agent.indexOf(\"MSIE 7\")!= -1 ) {\\n\\t\\t\\tlogin_chk.attachEvent(\"onclick\", function(){msieblur(login_chk);});\\n\\t\\t}\\n\\t\\tif(agent.indexOf(\"MSIE \")!= -1 || agent.indexOf(\"rv:11.0\")!= -1){\\n\\t\\t\\t$(\"locale_switch\").style.backgroundImage=\"none\";\\n\\t\\t}\\n\\t}catch(e) {}\\n}\\nisOldIE();\\nfunction persist_usage()\\n{\\n\\tvar login_chk = $(\"login_chk\");\\n\\tif (login_chk.checked==true)\\n\\t{\\n\\t\\tshow(\"persist_usage\");\\n\\t\\thide(\\'onetime_usage\\');\\n\\t\\tview_onetimeusage = false;\\n\\t}\\n\\telse\\n\\t{\\n\\t\\thide(\"persist_usage\");\\n\\t}\\n}\\nvar view_onetimeusage = false;\\nfunction viewOnetime()\\n{\\n\\tif (view_onetimeusage)\\n\\t{\\n\\t\\thide(\\'onetime_usage\\');\\n\\t\\tview_onetimeusage = false;\\n\\t}\\n\\telse\\n\\t{\\n\\t\\thide(\"persist_usage\");\\n\\t\\tshow(\\'onetime_usage\\');\\n\\t\\tview_onetimeusage = true;\\n\\t}\\n}\\ntry{\\n\\tif (navigator.appVersion.toLowerCase().indexOf(\"win\") != -1) {\\n\\t\\t$(\\'id\\').style.imeMode = \"disabled\";\\n\\t\\tdocument.msCapsLockWarningOff = true;\\n\\t}\\n}catch(e) {}\\ntry{\\n\\tif ( $(\\'id\\').value.length == 0 )\\n\\t{\\n\\t\\t$(\\'id\\').focus();\\n\\t}\\n\\telse\\n\\t{\\n\\t\\t$(\\'pw\\').focus();\\n\\t}\\n\\tresizePopup(500,650);\\n}catch (e){}\\nfunction selectItemByValue(elmnt, value){\\n\\tisSet = false;\\n\\tfor(var i=0; i < elmnt.options.length; i++)\\n\\t{\\n\\t\\tif(elmnt.options[i].value === value) {\\n\\t\\t\\telmnt.selectedIndex = i;\\n\\t\\t\\tisSet = true;\\n\\t\\t\\tbreak;\\n\\t\\t}\\n\\t}\\n\\tif (!isSet)\\n\\t\\telmnt.selectedIndex=1;\\n}\\ntry {\\nselectItemByValue(locale_switch, \\'ko_KR\\');\\n}catch (e){}\\nvar id_error_msg=\"\\xec\\x95\\x84\\xec\\x9d\\xb4\\xeb\\x94\\x94\\xeb\\xa5\\xbc \\xec\\x9e\\x85\\xeb\\xa0\\xa5\\xed\\x95\\xb4\\xec\\xa3\\xbc\\xec\\x84\\xb8\\xec\\x9a\\x94.\";\\nvar pw_error_msg=\"\\xeb\\xb9\\x84\\xeb\\xb0\\x80\\xeb\\xb2\\x88\\xed\\x98\\xb8\\xeb\\xa5\\xbc \\xec\\x9e\\x85\\xeb\\xa0\\xa5\\xed\\x95\\xb4\\xec\\xa3\\xbc\\xec\\x84\\xb8\\xec\\x9a\\x94.\";\\nvar inSubmitProgress = false;\\nfunction confirmSplitSubmit()\\n{\\n        if (inSubmitProgress) {\\n                return false;\\n        }\\n        inSubmitProgress = true;\\n        var id = $(\"id\");\\n        var pw = $(\"pw\");\\n        var encpw = $(\"encpw\");\\n        \\n        if(id.value == \"\") {\\n                show(\"err_empty_id\");\\n                $(\"err_empty_id\").innerHTML=id_error_msg;\\n                hide(\"err_empty_pw\");\\n                $(\"err_empty_pw\").innerHTML=\"\";\\n                hide(\"err_common_pw1\");\\n                hide(\"err_common\");\\n                id.focus();\\n                inSubmitProgress = false;\\n                return false;\\n        } else if(pw.value == \"\") {\\n                show(\"err_empty_pw\");\\n                $(\"err_empty_pw\").innerHTML=pw_error_msg;\\n                hide(\"err_empty_id\");\\n                $(\"err_empty_id\").innerHTML=\"\";\\n                hide(\"err_common_pw1\");\\n                hide(\"err_common\");\\n                pw.focus();\\n                inSubmitProgress = false;\\n                return false;\\n        }\\n        try{\\n                $(\"ls\").value = localStorage.getItem(\"nid_t\");\\n        }catch(e){}\\n        return encryptIdPwSplit();\\n}\\nfunction encryptIdPwSplit() {\\n        var id = $(\"id\");\\n        var pw = $(\"pw\");\\n        var encpw = $(\"encpw\");\\n        var rsa = new RSAKey;\\n\\n        if (keySplit(session_keys)) {\\n                rsa.setPublic(evalue, nvalue);\\n                try{\\n                        encpw.value = rsa.encrypt(\\n                                getLenChar(sessionkey) + sessionkey +\\n                                getLenChar(id.value) + id.value +\\n                                getLenChar(pw.value) + pw.value);\\n                } catch(e) {\\n                        inSubmitProgress = false;\\n                        return false;\\n                }\\n                $(\\'enctp\\').value = 1;\\n\\n                setTimeout(function() {\\n                        $(\"id\").value = \"\";\\n                        $(\"pw\").value = \"\";\\n                        $(\"bvsd\").value = \"timeout\";\\n                        $(\\'frmNIDLogin\\').submit();\\n                }, 5000);\\n                try {\\n                        if (bvsd){\\n                                bvsd.f(function(a) {\\n                                        $(\"id\").value = \"\";\\n                                        $(\"pw\").value = \"\";\\n                                        $(\"bvsd\").value = a;\\n                                        $(\\'frmNIDLogin\\').submit();\\n                                });\\n                        }\\n                } catch (e) {\\n                        $(\"id\").value = \"\";\\n                        $(\"pw\").value = \"\";\\n                        $(\"bvsd\").value = \"error1|\"+e.name+\"|\"+e.message;;\\n                        $(\\'frmNIDLogin\\').submit();\\n                }\\n        }\\n        else\\n        {\\n                getKeyByRuntimeIncludeSplit();\\n        }\\n        inSubmitProgress = false;\\n        return false;\\n}\\nfunction getKeyByRuntimeIncludeSplit() {\\n        try {\\n                var keyjs  = document.createElement(\\'script\\');\\n                keyjs.type = \\'text/javascript\\';\\n                keyjs.src = \\'/login/ext/keys_js3.nhn\\';\\n                document.getElementsByTagName(\\'head\\')[0].appendChild(keyjs);\\n        } catch (e) {\\n        }\\n}\\n</script>\\n<script type=\"text/javascript\" src=\"/login/js/bvsd.1.3.4.min.js\"></script>\\n<script type=\"text/javascript\">\\nvar porperties = {\\n\\tkeyboard: [{\\n\\t\\tid: \"id\"\\n\\t}, {\\n\\t\\tid: \"pw\",\\n\\t\\tsecureMode: true\\n\\t}],\\n\\tmodeProperties: {\\n\\t\\tmode: 4\\n\\t}\\n};\\nbvsd = new sofa.Koop(porperties);\\ntry{\\n\\tvar nid_buk = localStorage.getItem(\"nid_buk\");\\n\\tif (nid_buk!=null && nid_buk.length>0)\\n\\t{\\n\\t\\tvar today = new Date();\\n\\t\\tvar expire = new Date(today.getTime() + 60 * 60 * 24 * 3650 * 1000);\\n\\t\\tvar curCookie = \"nid_buk=\" + escape(nid_buk) + \"; expires=\" + expire.toGMTString() + \"; path=/; domain=.nid.naver.com; Secure;\";\\n\\t\\tdocument.cookie = curCookie;\\n\\t}\\n\\telse\\n\\t{\\n\\t\\tnid_nnb = getCookie(\\'NNB\\');\\n\\t\\tif (nid_nnb!=null && nid_nnb.length>0)\\n\\t\\t{\\n\\t\\t\\tlocalStorage.setItem(\"nid_buk\", nid_nnb);\\n\\t\\t\\tvar today = new Date();\\n\\t\\t\\tvar expire = new Date(today.getTime() + 60 * 60 * 24 * 3650 * 1000);\\n\\t\\t\\tvar curCookie = \"nid_buk=\" + escape(nid_nnb) + \"; expires=\" + expire.toGMTString() + \"; path=/; domain=.nid.naver.com; Secure;\";\\n\\t\\t\\tdocument.cookie = curCookie;\\n\\t\\t}\\n\\t}\\n}catch(e){}\\n</script>\\n<script type=\"text/javascript\" src=\"https://nid.naver.com/login/js/lcs_nclicks.js?dt=20190122\"></script>\\n<script type=\"text/javascript\"> \\nlcs_do(); \\nvar g_ssc = \"nid.login_kr\";\\nvar ccsrv = \"cc.naver.com\";\\n</script>\\n<div id=\"nv_stat\" style=\"display:none;\">20</div>\\n</body>\\n</html>\\n'"
      ]
     },
     "execution_count": 31,
     "metadata": {},
     "output_type": "execute_result"
    }
   ],
   "source": [
    "resp.content"
   ]
  },
  {
   "cell_type": "code",
   "execution_count": 33,
   "metadata": {},
   "outputs": [],
   "source": [
    "# code=7pc1JDrYPS7xdPjqj8\n",
    "# state=abcde12345"
   ]
  },
  {
   "cell_type": "code",
   "execution_count": 6,
   "metadata": {},
   "outputs": [],
   "source": [
    "\n",
    "TOKEN_URL = 'https://nid.naver.com/oauth2.0/token'\n",
    "\n",
    "\n",
    "params = {\n",
    "    'client_id':CLIENT_ID,\n",
    "    'client_secret':CLIENT_SECRET,\n",
    "    'grant_type':'authorization_code',\n",
    "    'state':'abcde12345',\n",
    "    'code':'7pc1JDrYPS7xdPjqj8',\n",
    "}\n",
    "#client_id={클라이언트 아이디}\n",
    "#client_secret={클라이언트 시크릿}\n",
    "#grant_type=authorization_code\n",
    "#state={상태 토큰}\n",
    "#code={인증 코드}"
   ]
  },
  {
   "cell_type": "code",
   "execution_count": 7,
   "metadata": {},
   "outputs": [],
   "source": [
    "resp2 = requests.get(TOKEN_URL,params)"
   ]
  },
  {
   "cell_type": "code",
   "execution_count": 8,
   "metadata": {},
   "outputs": [
    {
     "data": {
      "text/plain": [
       "'https://nid.naver.com/oauth2.0/token?client_id=TLqTb1NaG0h7W2hfXj3h&client_secret=ARcCyPMHAL&grant_type=authorization_code&state=abcde12345&code=7pc1JDrYPS7xdPjqj8'"
      ]
     },
     "execution_count": 8,
     "metadata": {},
     "output_type": "execute_result"
    }
   ],
   "source": [
    "resp2.url"
   ]
  },
  {
   "cell_type": "code",
   "execution_count": 9,
   "metadata": {},
   "outputs": [
    {
     "data": {
      "text/plain": [
       "b'{\"access_token\":\"AAAANt2VXdvApXCmKcBqZ8tFEbrbPv12zXqH91EVKgWI5tcHtWO5NHWO6ZEhJ0_Wd-jFDgGCJo5iwyHaJRZTzMj4l0s\",\"refresh_token\":\"ul9yM8visF0tLisxklBii6zGo8c65hpBNIP7RFv4jM1XnQFc8b7jDfOsq4is2ldmlLL1p7uBDV160OHWGQPJnHXdejRIQvzW7ZUotvm4VipMAMWZPGedVBErPWcis58aip1FhXI\",\"token_type\":\"bearer\",\"expires_in\":\"3600\"}'"
      ]
     },
     "execution_count": 9,
     "metadata": {},
     "output_type": "execute_result"
    }
   ],
   "source": [
    "resp2.content"
   ]
  },
  {
   "cell_type": "code",
   "execution_count": 11,
   "metadata": {},
   "outputs": [],
   "source": [
    "import json"
   ]
  },
  {
   "cell_type": "code",
   "execution_count": 12,
   "metadata": {},
   "outputs": [
    {
     "data": {
      "text/plain": [
       "{'access_token': 'AAAANt2VXdvApXCmKcBqZ8tFEbrbPv12zXqH91EVKgWI5tcHtWO5NHWO6ZEhJ0_Wd-jFDgGCJo5iwyHaJRZTzMj4l0s',\n",
       " 'refresh_token': 'ul9yM8visF0tLisxklBii6zGo8c65hpBNIP7RFv4jM1XnQFc8b7jDfOsq4is2ldmlLL1p7uBDV160OHWGQPJnHXdejRIQvzW7ZUotvm4VipMAMWZPGedVBErPWcis58aip1FhXI',\n",
       " 'token_type': 'bearer',\n",
       " 'expires_in': '3600'}"
      ]
     },
     "execution_count": 12,
     "metadata": {},
     "output_type": "execute_result"
    }
   ],
   "source": [
    "json_text = resp2.json()\n",
    "json_text"
   ]
  },
  {
   "cell_type": "code",
   "execution_count": 13,
   "metadata": {},
   "outputs": [],
   "source": [
    "access_token = json_text['access_token']\n",
    "refresh_token = json_text['refresh_token']\n",
    "token_type = json_text['token_type']\n",
    "expires_in = json_text['expires_in']"
   ]
  },
  {
   "cell_type": "code",
   "execution_count": 14,
   "metadata": {},
   "outputs": [
    {
     "name": "stdout",
     "output_type": "stream",
     "text": [
      "bearer AAAANt2VXdvApXCmKcBqZ8tFEbrbPv12zXqH91EVKgWI5tcHtWO5NHWO6ZEhJ0_Wd-jFDgGCJo5iwyHaJRZTzMj4l0s\n"
     ]
    }
   ],
   "source": [
    "PROFILE_URL = 'https://openapi.naver.com/v1/nid/me'\n",
    "headers = {\n",
    "    'Authorization':\"{} {}\".format(token_type,access_token)\n",
    "}\n",
    "print(\"{} {}\".format(token_type,access_token))"
   ]
  },
  {
   "cell_type": "code",
   "execution_count": 15,
   "metadata": {},
   "outputs": [
    {
     "data": {
      "text/plain": [
       "<Response [200]>"
      ]
     },
     "execution_count": 15,
     "metadata": {},
     "output_type": "execute_result"
    }
   ],
   "source": [
    "resp3 = requests.get(PROFILE_URL,headers = headers)\n",
    "resp3"
   ]
  },
  {
   "cell_type": "code",
   "execution_count": 16,
   "metadata": {},
   "outputs": [
    {
     "data": {
      "text/plain": [
       "b'{\"resultcode\":\"00\",\"message\":\"success\",\"response\":{\"id\":\"28033573\",\"email\":\"jmg621@naver.com\",\"name\":\"\\\\uc815\\\\uc720\\\\uc900\",\"birthday\":\"06-21\"}}'"
      ]
     },
     "execution_count": 16,
     "metadata": {},
     "output_type": "execute_result"
    }
   ],
   "source": [
    "resp3.content"
   ]
  },
  {
   "cell_type": "code",
   "execution_count": 17,
   "metadata": {},
   "outputs": [],
   "source": [
    "PROFILE_URL = 'https://openapi.naver.com/v1/nid/me'\n",
    "headers ={\n",
    "    'Authorization': '{} {}'.format(token_type,access_token)\n",
    "}"
   ]
  },
  {
   "cell_type": "code",
   "execution_count": 18,
   "metadata": {},
   "outputs": [],
   "source": [
    "cgr_list_url = 'https://openapi.naver.com/blog/listCategory.json'\n",
    "post_url = 'https://openapi.naver.com/blog/writePost.json'"
   ]
  },
  {
   "cell_type": "code",
   "execution_count": 19,
   "metadata": {},
   "outputs": [
    {
     "data": {
      "text/plain": [
       "<Response [200]>"
      ]
     },
     "execution_count": 19,
     "metadata": {},
     "output_type": "execute_result"
    }
   ],
   "source": [
    "resp4 = requests.get(cgr_list_url,headers = headers)\n",
    "resp4"
   ]
  },
  {
   "cell_type": "code",
   "execution_count": 21,
   "metadata": {},
   "outputs": [
    {
     "data": {
      "text/plain": [
       "{'message': {'@type': 'response',\n",
       "  '@service': 'korea.naverkoreaservice.community.blog',\n",
       "  '@version': '1.0.0',\n",
       "  'result': [{'name': '게시판',\n",
       "    'categoryNo': 1,\n",
       "    'isOpen': True,\n",
       "    'subCategories': []}]}}"
      ]
     },
     "execution_count": 21,
     "metadata": {},
     "output_type": "execute_result"
    }
   ],
   "source": [
    "resp4.json()"
   ]
  },
  {
   "cell_type": "code",
   "execution_count": 22,
   "metadata": {},
   "outputs": [],
   "source": [
    "title = \"신나는 REST API\"\n",
    "contents = \"신나는 Python 그리고 <b>신나는 Crawling</b>\""
   ]
  },
  {
   "cell_type": "code",
   "execution_count": 23,
   "metadata": {},
   "outputs": [],
   "source": [
    "data = {\n",
    "    'title':title,\n",
    "    'contents':contents\n",
    "}"
   ]
  },
  {
   "cell_type": "code",
   "execution_count": 26,
   "metadata": {},
   "outputs": [
    {
     "data": {
      "text/plain": [
       "<Response [200]>"
      ]
     },
     "execution_count": 26,
     "metadata": {},
     "output_type": "execute_result"
    }
   ],
   "source": [
    "resp5 = requests.post(post_url,headers = headers, data = data)\n",
    "resp5"
   ]
  },
  {
   "cell_type": "code",
   "execution_count": 27,
   "metadata": {},
   "outputs": [
    {
     "data": {
      "text/plain": [
       "{'message': {'@type': 'response',\n",
       "  '@service': 'korea.naverkoreaservice.community.blog',\n",
       "  '@version': '1.0.0',\n",
       "  'result': {'blogId': 'jmg621',\n",
       "   'logNo': 221560087545,\n",
       "   'postUrl': 'http://blog.naver.com/jmg621/221560087545'}}}"
      ]
     },
     "execution_count": 27,
     "metadata": {},
     "output_type": "execute_result"
    }
   ],
   "source": [
    "resp5.json()"
   ]
  },
  {
   "cell_type": "code",
   "execution_count": 32,
   "metadata": {},
   "outputs": [],
   "source": [
    "refresh_token_url = 'https://nid.naver.com/oauth2.0/token'\n",
    "params = {\n",
    "    'grant_type':'refresh_token',\n",
    "    'client_id':CLIENT_ID,\n",
    "    'client_secret':CLIENT_SECRET,\n",
    "    'refresh_token':refresh_token\n",
    "}"
   ]
  },
  {
   "cell_type": "code",
   "execution_count": 33,
   "metadata": {},
   "outputs": [
    {
     "data": {
      "text/plain": [
       "<Response [200]>"
      ]
     },
     "execution_count": 33,
     "metadata": {},
     "output_type": "execute_result"
    }
   ],
   "source": [
    "resp6 = requests.get(refresh_token_url,params)\n",
    "resp6"
   ]
  },
  {
   "cell_type": "code",
   "execution_count": 34,
   "metadata": {},
   "outputs": [
    {
     "data": {
      "text/plain": [
       "{'access_token': 'AAAANrGCUNaVQ4EuVur//7Mt8nQngZfhZDYbUwYv1KYouY7OwN4S2pTQKbgHsxtXqYHyv3CNqfuYI/xvVSvhykQkP9U=',\n",
       " 'refresh_token': 'ul9yM8visF0tLisxklBii6zGo8c65hpBNIP7RFv4jM1XnQFc8b7jDfOsq4is2ldmlLL1p7uBDV160OHWGQPJnHXdejRIQvzW7ZUotvm4VipMAMWZPGedVBErPWcis58aip1FhXI',\n",
       " 'token_type': 'bearer',\n",
       " 'expires_in': '3600'}"
      ]
     },
     "execution_count": 34,
     "metadata": {},
     "output_type": "execute_result"
    }
   ],
   "source": [
    "resp6.json()"
   ]
  },
  {
   "cell_type": "code",
   "execution_count": null,
   "metadata": {},
   "outputs": [],
   "source": [
    "# 네이버 블로그 API예제는 블로그 카테고리 조회와 블로그 글쓰기 및 multipart 이미지 첨부 예제로 구성되어 있습니다.\n",
    "# 네이버 블로그 Open API 예제 - 카테고리조회\n",
    "import os\n",
    "import sys\n",
    "import urllib.request\n",
    "token = \"YOUR_ACCESS_TOKEN\"\n",
    "header = \"Bearer \" + token # Bearer 다음에 공백 추가\n",
    "url = \"https://openapi.naver.com/blog/listCategory.json\"\n",
    "request = urllib.request.Request(url)\n",
    "request.add_header(\"Authorization\", header)\n",
    "response = urllib.request.urlopen(request)\n",
    "rescode = response.getcode()\n",
    "if(rescode==200):\n",
    "    response_body = response.read()\n",
    "    print(response_body.decode('utf-8'))\n",
    "else:\n",
    "    print(\"Error Code:\" + rescode)\n",
    "\n",
    "# 네이버 블로그 Open API 예제 - 글쓰기\n",
    "import os\n",
    "import sys\n",
    "import urllib.request\n",
    "token = \"YOUR_ACCESS_TOKEN\"\n",
    "header = \"Bearer \" + token # Bearer 다음에 공백 추가\n",
    "url = \"https://openapi.naver.com/blog/writePost.json\"\n",
    "title = urllib.parse.quote(\"네이버 블로그 api Test Python\")\n",
    "contents = urllib.parse.quote(\"네이버 블로그 api로 글을 블로그에 올려봅니다.\")\n",
    "data = \"title=\" + title + \"&contents=\" + contents\n",
    "request = urllib.request.Request(url, data=data.encode(\"utf-8\"))\n",
    "request.add_header(\"Authorization\", header)\n",
    "response = urllib.request.urlopen(request)\n",
    "rescode = response.getcode()\n",
    "if(rescode==200):\n",
    "    response_body = response.read()\n",
    "    print(response_body.decode('utf-8'))\n",
    "else:\n",
    "    print(\"Error Code:\" + rescode)\n",
    "\n",
    "#  Blog mulipart upload - python\n",
    "import os\n",
    "import sys\n",
    "import requests\n",
    "\n",
    "token = \"YOUR_ACCESS_TOKEN\"\n",
    "header = \"Bearer \" + token # Bearer 다음에 공백 추가\n",
    "url = \"https://openapi.naver.com/blog/writePost.json\"\n",
    "\n",
    "title = \"네이버 블로그 api Test Python\"\n",
    "contents = \"<font color='red'>python multi-part</font>로 첨부한 글입니다. <br> python 이미지 2개 첨부 <br> <img src='#0' /> <img src='#1' />\";\n",
    "data = {'title': title, 'contents': contents}\n",
    "files = [\n",
    "    ('image', ('YOUR_FILE_1', open('YOUR_FILE_1', 'rb'), 'image/jpeg', {'Expires': '0'})),\n",
    "    ('image', ('YOUR_FILE_2', open('YOUR_FILE_2', 'rb'), 'image/jpeg', {'Expires': '0'}))\n",
    "    ]\n",
    "\n",
    "headers = {'Authorization': header }\n",
    "response = requests.post(url, headers=headers, files=files, data=data)\n",
    "\n",
    "rescode = response.status_code\n",
    "if(rescode==200):\n",
    "    print (response.text)\n",
    "else:\n",
    "    print(\"Error Code:\" + rescode)\n",
    "\n"
   ]
  }
 ],
 "metadata": {
  "kernelspec": {
   "display_name": "Python 3",
   "language": "python",
   "name": "python3"
  },
  "language_info": {
   "codemirror_mode": {
    "name": "ipython",
    "version": 3
   },
   "file_extension": ".py",
   "mimetype": "text/x-python",
   "name": "python",
   "nbconvert_exporter": "python",
   "pygments_lexer": "ipython3",
   "version": "3.7.3"
  }
 },
 "nbformat": 4,
 "nbformat_minor": 2
}
