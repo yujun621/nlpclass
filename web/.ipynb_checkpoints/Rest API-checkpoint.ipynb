{
 "cells": [
  {
   "cell_type": "code",
   "execution_count": 2,
   "metadata": {},
   "outputs": [],
   "source": [
    "import requests\n",
    "from bs4 import BeautifulSoup\n",
    "import urllib"
   ]
  },
  {
   "cell_type": "code",
   "execution_count": null,
   "metadata": {},
   "outputs": [],
   "source": [
    "http://openapi.airkorea.or.kr/openapi/services/rest/ArpltnInforInqireSvc/getMsrstnAcctoRltmMesureDnsty?stationName=%EA%B0%95%EB%82%A8%EA%B5%AC&dataTerm=month&pageNo=1&numOfRows=10&ServiceKey=bjbvXiFrKL2osDOTsoRSDtpq1MJaPI%2Bq14SC1k%2BvBt523tpa11k2g2NsRdaHF5Ey3633j%2BKqxI32h6N9NT29Ew%3D%3D&ver=1.3&_returnType=json"
   ]
  },
  {
   "cell_type": "code",
   "execution_count": 13,
   "metadata": {},
   "outputs": [],
   "source": [
    "BASE_ENDPOINT = 'http://openapi.airkorea.or.kr/openapi/services/rest/ArpltnInforInqireSvc/'\n",
    "MY_API_KEY = 'bjbvXiFrKL2osDOTsoRSDtpq1MJaPI%2Bq14SC1k%2BvBt523tpa11k2g2NsRdaHF5Ey3633j%2BKqxI32h6N9NT29Ew%3D%3D'"
   ]
  },
  {
   "cell_type": "code",
   "execution_count": 20,
   "metadata": {},
   "outputs": [
    {
     "data": {
      "text/plain": [
       "'bjbvXiFrKL2osDOTsoRSDtpq1MJaPI+q14SC1k+vBt523tpa11k2g2NsRdaHF5Ey3633j+KqxI32h6N9NT29Ew=='"
      ]
     },
     "execution_count": 20,
     "metadata": {},
     "output_type": "execute_result"
    }
   ],
   "source": [
    "MY_API_KEY = urllib.parse.unquote(MY_API_KEY) # UTF-8로 인코딩된 것을 다시 decode\n",
    "MY_API_KEY"
   ]
  },
  {
   "cell_type": "markdown",
   "metadata": {},
   "source": [
    "### 1. 측정소별 시시간 측정정보 조회"
   ]
  },
  {
   "cell_type": "code",
   "execution_count": 10,
   "metadata": {},
   "outputs": [],
   "source": [
    "OPERATION_NAME = 'getMsrstnAcctoRltmMesureDnsty'"
   ]
  },
  {
   "cell_type": "code",
   "execution_count": 11,
   "metadata": {},
   "outputs": [
    {
     "data": {
      "text/plain": [
       "'http://openapi.airkorea.or.kr/openapi/services/rest/ArpltnInforInqireSvc/getMsrstnAcctoRltmMesureDnsty'"
      ]
     },
     "execution_count": 11,
     "metadata": {},
     "output_type": "execute_result"
    }
   ],
   "source": [
    "endpoint = urllib.parse.urljoin(BASE_ENDPOINT, OPERATION_NAME)\n",
    "endpoint"
   ]
  },
  {
   "cell_type": "code",
   "execution_count": 21,
   "metadata": {},
   "outputs": [],
   "source": [
    "params = {\n",
    "    'ServiceKey': MY_API_KEY,\n",
    "    'numOfRows': 10,\n",
    "    'pageNo':1,\n",
    "    'stationName':'강남구',\n",
    "    'dataTerm': 'daily',\n",
    "    'ver': '1.3'\n",
    "}"
   ]
  },
  {
   "cell_type": "code",
   "execution_count": 22,
   "metadata": {},
   "outputs": [
    {
     "data": {
      "text/plain": [
       "<Response [200]>"
      ]
     },
     "execution_count": 22,
     "metadata": {},
     "output_type": "execute_result"
    }
   ],
   "source": [
    "resp = requests.get(endpoint, params)\n",
    "resp"
   ]
  },
  {
   "cell_type": "code",
   "execution_count": 23,
   "metadata": {},
   "outputs": [],
   "source": [
    "soup = BeautifulSoup(resp.content)"
   ]
  },
  {
   "cell_type": "code",
   "execution_count": 24,
   "metadata": {},
   "outputs": [
    {
     "data": {
      "text/plain": [
       "<?xml version=\"1.0\" encoding=\"UTF-8\"?><html><body><response>\n",
       "<header>\n",
       "<resultcode>00</resultcode>\n",
       "<resultmsg>NORMAL SERVICE.</resultmsg>\n",
       "</header>\n",
       "<items>\n",
       "<item>\n",
       "<datatime>2019-06-10 10:00</datatime>\n",
       "<mangname>도시대기</mangname>\n",
       "<so2value>0.004</so2value>\n",
       "<covalue>0.3</covalue>\n",
       "<o3value>0.015</o3value>\n",
       "<no2value>0.016</no2value>\n",
       "<pm10value>7</pm10value>\n",
       "<pm10value24>8</pm10value24>\n",
       "<pm25value>3</pm25value>\n",
       "<pm25value24>4</pm25value24>\n",
       "<khaivalue>27</khaivalue>\n",
       "<khaigrade>1</khaigrade>\n",
       "<so2grade>1</so2grade>\n",
       "<cograde>1</cograde>\n",
       "<o3grade>1</o3grade>\n",
       "<no2grade>1</no2grade>\n",
       "<pm10grade>1</pm10grade>\n",
       "<pm25grade>1</pm25grade>\n",
       "<pm10grade1h>1</pm10grade1h>\n",
       "<pm25grade1h>1</pm25grade1h>\n",
       "</item>\n",
       "<item>\n",
       "<datatime>2019-06-10 09:00</datatime>\n",
       "<mangname>도시대기</mangname>\n",
       "<so2value>0.004</so2value>\n",
       "<covalue>0.3</covalue>\n",
       "<o3value>0.010</o3value>\n",
       "<no2value>0.019</no2value>\n",
       "<pm10value>9</pm10value>\n",
       "<pm10value24>9</pm10value24>\n",
       "<pm25value>4</pm25value>\n",
       "<pm25value24>5</pm25value24>\n",
       "<khaivalue>32</khaivalue>\n",
       "<khaigrade>1</khaigrade>\n",
       "<so2grade>1</so2grade>\n",
       "<cograde>1</cograde>\n",
       "<o3grade>1</o3grade>\n",
       "<no2grade>1</no2grade>\n",
       "<pm10grade>1</pm10grade>\n",
       "<pm25grade>1</pm25grade>\n",
       "<pm10grade1h>1</pm10grade1h>\n",
       "<pm25grade1h>1</pm25grade1h>\n",
       "</item>\n",
       "<item>\n",
       "<datatime>2019-06-10 08:00</datatime>\n",
       "<mangname>도시대기</mangname>\n",
       "<so2value>0.003</so2value>\n",
       "<covalue>0.3</covalue>\n",
       "<o3value>0.012</o3value>\n",
       "<no2value>0.020</no2value>\n",
       "<pm10value>7</pm10value>\n",
       "<pm10value24>9</pm10value24>\n",
       "<pm25value>3</pm25value>\n",
       "<pm25value24>5</pm25value24>\n",
       "<khaivalue>33</khaivalue>\n",
       "<khaigrade>1</khaigrade>\n",
       "<so2grade>1</so2grade>\n",
       "<cograde>1</cograde>\n",
       "<o3grade>1</o3grade>\n",
       "<no2grade>1</no2grade>\n",
       "<pm10grade>1</pm10grade>\n",
       "<pm25grade>1</pm25grade>\n",
       "<pm10grade1h>1</pm10grade1h>\n",
       "<pm25grade1h>1</pm25grade1h>\n",
       "</item>\n",
       "<item>\n",
       "<datatime>2019-06-10 07:00</datatime>\n",
       "<mangname>도시대기</mangname>\n",
       "<so2value>0.005</so2value>\n",
       "<covalue>0.2</covalue>\n",
       "<o3value>0.012</o3value>\n",
       "<no2value>0.017</no2value>\n",
       "<pm10value>9</pm10value>\n",
       "<pm10value24>10</pm10value24>\n",
       "<pm25value>5</pm25value>\n",
       "<pm25value24>6</pm25value24>\n",
       "<khaivalue>28</khaivalue>\n",
       "<khaigrade>1</khaigrade>\n",
       "<so2grade>1</so2grade>\n",
       "<cograde>1</cograde>\n",
       "<o3grade>1</o3grade>\n",
       "<no2grade>1</no2grade>\n",
       "<pm10grade>1</pm10grade>\n",
       "<pm25grade>1</pm25grade>\n",
       "<pm10grade1h>1</pm10grade1h>\n",
       "<pm25grade1h>1</pm25grade1h>\n",
       "</item>\n",
       "<item>\n",
       "<datatime>2019-06-10 06:00</datatime>\n",
       "<mangname>도시대기</mangname>\n",
       "<so2value>0.004</so2value>\n",
       "<covalue>0.2</covalue>\n",
       "<o3value>0.021</o3value>\n",
       "<no2value>0.009</no2value>\n",
       "<pm10value>7</pm10value>\n",
       "<pm10value24>10</pm10value24>\n",
       "<pm25value>4</pm25value>\n",
       "<pm25value24>7</pm25value24>\n",
       "<khaivalue>35</khaivalue>\n",
       "<khaigrade>1</khaigrade>\n",
       "<so2grade>1</so2grade>\n",
       "<cograde>1</cograde>\n",
       "<o3grade>1</o3grade>\n",
       "<no2grade>1</no2grade>\n",
       "<pm10grade>1</pm10grade>\n",
       "<pm25grade>1</pm25grade>\n",
       "<pm10grade1h>1</pm10grade1h>\n",
       "<pm25grade1h>1</pm25grade1h>\n",
       "</item>\n",
       "<item>\n",
       "<datatime>2019-06-10 05:00</datatime>\n",
       "<mangname>도시대기</mangname>\n",
       "<so2value>0.005</so2value>\n",
       "<covalue>0.2</covalue>\n",
       "<o3value>0.025</o3value>\n",
       "<no2value>0.007</no2value>\n",
       "<pm10value>9</pm10value>\n",
       "<pm10value24>12</pm10value24>\n",
       "<pm25value>4</pm25value>\n",
       "<pm25value24>8</pm25value24>\n",
       "<khaivalue>42</khaivalue>\n",
       "<khaigrade>1</khaigrade>\n",
       "<so2grade>1</so2grade>\n",
       "<cograde>1</cograde>\n",
       "<o3grade>1</o3grade>\n",
       "<no2grade>1</no2grade>\n",
       "<pm10grade>1</pm10grade>\n",
       "<pm25grade>1</pm25grade>\n",
       "<pm10grade1h>1</pm10grade1h>\n",
       "<pm25grade1h>1</pm25grade1h>\n",
       "</item>\n",
       "<item>\n",
       "<datatime>2019-06-10 04:00</datatime>\n",
       "<mangname>도시대기</mangname>\n",
       "<so2value>0.004</so2value>\n",
       "<covalue>0.2</covalue>\n",
       "<o3value>0.022</o3value>\n",
       "<no2value>0.006</no2value>\n",
       "<pm10value>7</pm10value>\n",
       "<pm10value24>13</pm10value24>\n",
       "<pm25value>5</pm25value>\n",
       "<pm25value24>9</pm25value24>\n",
       "<khaivalue>37</khaivalue>\n",
       "<khaigrade>1</khaigrade>\n",
       "<so2grade>1</so2grade>\n",
       "<cograde>1</cograde>\n",
       "<o3grade>1</o3grade>\n",
       "<no2grade>1</no2grade>\n",
       "<pm10grade>1</pm10grade>\n",
       "<pm25grade>1</pm25grade>\n",
       "<pm10grade1h>1</pm10grade1h>\n",
       "<pm25grade1h>1</pm25grade1h>\n",
       "</item>\n",
       "<item>\n",
       "<datatime>2019-06-10 03:00</datatime>\n",
       "<mangname>도시대기</mangname>\n",
       "<so2value>0.004</so2value>\n",
       "<covalue>0.2</covalue>\n",
       "<o3value>0.027</o3value>\n",
       "<no2value>0.006</no2value>\n",
       "<pm10value>9</pm10value>\n",
       "<pm10value24>15</pm10value24>\n",
       "<pm25value>6</pm25value>\n",
       "<pm25value24>10</pm25value24>\n",
       "<khaivalue>45</khaivalue>\n",
       "<khaigrade>1</khaigrade>\n",
       "<so2grade>1</so2grade>\n",
       "<cograde>1</cograde>\n",
       "<o3grade>1</o3grade>\n",
       "<no2grade>1</no2grade>\n",
       "<pm10grade>1</pm10grade>\n",
       "<pm25grade>1</pm25grade>\n",
       "<pm10grade1h>1</pm10grade1h>\n",
       "<pm25grade1h>1</pm25grade1h>\n",
       "</item>\n",
       "<item>\n",
       "<datatime>2019-06-10 02:00</datatime>\n",
       "<mangname>도시대기</mangname>\n",
       "<so2value>0.005</so2value>\n",
       "<covalue>0.2</covalue>\n",
       "<o3value>0.031</o3value>\n",
       "<no2value>0.007</no2value>\n",
       "<pm10value>10</pm10value>\n",
       "<pm10value24>16</pm10value24>\n",
       "<pm25value>6</pm25value>\n",
       "<pm25value24>11</pm25value24>\n",
       "<khaivalue>51</khaivalue>\n",
       "<khaigrade>2</khaigrade>\n",
       "<so2grade>1</so2grade>\n",
       "<cograde>1</cograde>\n",
       "<o3grade>2</o3grade>\n",
       "<no2grade>1</no2grade>\n",
       "<pm10grade>1</pm10grade>\n",
       "<pm25grade>1</pm25grade>\n",
       "<pm10grade1h>1</pm10grade1h>\n",
       "<pm25grade1h>1</pm25grade1h>\n",
       "</item>\n",
       "<item>\n",
       "<datatime>2019-06-10 01:00</datatime>\n",
       "<mangname>도시대기</mangname>\n",
       "<so2value>0.004</so2value>\n",
       "<covalue>0.2</covalue>\n",
       "<o3value>0.027</o3value>\n",
       "<no2value>0.007</no2value>\n",
       "<pm10value>13</pm10value>\n",
       "<pm10value24>18</pm10value24>\n",
       "<pm25value>7</pm25value>\n",
       "<pm25value24>12</pm25value24>\n",
       "<khaivalue>45</khaivalue>\n",
       "<khaigrade>1</khaigrade>\n",
       "<so2grade>1</so2grade>\n",
       "<cograde>1</cograde>\n",
       "<o3grade>1</o3grade>\n",
       "<no2grade>1</no2grade>\n",
       "<pm10grade>1</pm10grade>\n",
       "<pm25grade>1</pm25grade>\n",
       "<pm10grade1h>1</pm10grade1h>\n",
       "<pm25grade1h>1</pm25grade1h>\n",
       "</item>\n",
       "</items>\n",
       "<numofrows>10</numofrows>\n",
       "<pageno>1</pageno>\n",
       "<totalcount>23</totalcount>\n",
       "</response>\n",
       "</body></html>"
      ]
     },
     "execution_count": 24,
     "metadata": {},
     "output_type": "execute_result"
    }
   ],
   "source": [
    "soup"
   ]
  },
  {
   "cell_type": "code",
   "execution_count": 25,
   "metadata": {},
   "outputs": [
    {
     "data": {
      "text/plain": [
       "b'<?xml version=\"1.0\" encoding=\"UTF-8\"?>\\r\\n\\r\\n\\r\\n\\r\\n\\r\\n<response>\\r\\n\\t<header>\\r\\n\\t\\t<resultCode>00</resultCode>\\r\\n\\t\\t<resultMsg>NORMAL SERVICE.</resultMsg>\\r\\n\\t</header>\\r\\n\\t<body>\\r\\n\\t\\t<items>\\r\\n\\t\\t\\t\\r\\n\\t\\t\\t\\t<item>\\r\\n\\t\\t\\t\\t\\t<dataTime>2019-06-10 10:00</dataTime>\\r\\n\\t\\t\\t\\t\\t\\r\\n                        <mangName>\\xeb\\x8f\\x84\\xec\\x8b\\x9c\\xeb\\x8c\\x80\\xea\\xb8\\xb0</mangName>\\r\\n                    \\r\\n\\t\\t\\t\\t\\t<so2Value>0.004</so2Value>\\r\\n\\t\\t\\t\\t\\t<coValue>0.3</coValue>\\r\\n\\t\\t\\t\\t\\t<o3Value>0.015</o3Value>\\r\\n\\t\\t\\t\\t\\t<no2Value>0.016</no2Value>\\r\\n\\t\\t\\t\\t\\t<pm10Value>7</pm10Value>\\r\\n\\t\\t\\t\\t\\t\\r\\n                        <pm10Value24>8</pm10Value24>\\r\\n                    \\r\\n\\t\\t\\t\\t\\t\\r\\n                        <pm25Value>3</pm25Value>\\r\\n                    \\r\\n                    \\r\\n                        <pm25Value24>4</pm25Value24>\\r\\n                    \\r\\n\\t\\t\\t\\t\\t<khaiValue>27</khaiValue>\\r\\n\\t\\t\\t\\t\\t<khaiGrade>1</khaiGrade>\\r\\n\\t\\t\\t\\t\\t<so2Grade>1</so2Grade>\\r\\n\\t\\t\\t\\t\\t<coGrade>1</coGrade>\\r\\n\\t\\t\\t\\t\\t<o3Grade>1</o3Grade>\\r\\n\\t\\t\\t\\t\\t<no2Grade>1</no2Grade>\\r\\n\\t\\t\\t\\t\\t<pm10Grade>1</pm10Grade>\\r\\n\\t\\t\\t\\t\\t\\r\\n                        <pm25Grade>1</pm25Grade>\\r\\n                    \\r\\n                    \\r\\n                        <pm10Grade1h>1</pm10Grade1h>\\r\\n                        <pm25Grade1h>1</pm25Grade1h>\\r\\n                    \\r\\n\\t\\t\\t\\t</item>\\r\\n\\t\\t\\t\\r\\n\\t\\t\\t\\t<item>\\r\\n\\t\\t\\t\\t\\t<dataTime>2019-06-10 09:00</dataTime>\\r\\n\\t\\t\\t\\t\\t\\r\\n                        <mangName>\\xeb\\x8f\\x84\\xec\\x8b\\x9c\\xeb\\x8c\\x80\\xea\\xb8\\xb0</mangName>\\r\\n                    \\r\\n\\t\\t\\t\\t\\t<so2Value>0.004</so2Value>\\r\\n\\t\\t\\t\\t\\t<coValue>0.3</coValue>\\r\\n\\t\\t\\t\\t\\t<o3Value>0.010</o3Value>\\r\\n\\t\\t\\t\\t\\t<no2Value>0.019</no2Value>\\r\\n\\t\\t\\t\\t\\t<pm10Value>9</pm10Value>\\r\\n\\t\\t\\t\\t\\t\\r\\n                        <pm10Value24>9</pm10Value24>\\r\\n                    \\r\\n\\t\\t\\t\\t\\t\\r\\n                        <pm25Value>4</pm25Value>\\r\\n                    \\r\\n                    \\r\\n                        <pm25Value24>5</pm25Value24>\\r\\n                    \\r\\n\\t\\t\\t\\t\\t<khaiValue>32</khaiValue>\\r\\n\\t\\t\\t\\t\\t<khaiGrade>1</khaiGrade>\\r\\n\\t\\t\\t\\t\\t<so2Grade>1</so2Grade>\\r\\n\\t\\t\\t\\t\\t<coGrade>1</coGrade>\\r\\n\\t\\t\\t\\t\\t<o3Grade>1</o3Grade>\\r\\n\\t\\t\\t\\t\\t<no2Grade>1</no2Grade>\\r\\n\\t\\t\\t\\t\\t<pm10Grade>1</pm10Grade>\\r\\n\\t\\t\\t\\t\\t\\r\\n                        <pm25Grade>1</pm25Grade>\\r\\n                    \\r\\n                    \\r\\n                        <pm10Grade1h>1</pm10Grade1h>\\r\\n                        <pm25Grade1h>1</pm25Grade1h>\\r\\n                    \\r\\n\\t\\t\\t\\t</item>\\r\\n\\t\\t\\t\\r\\n\\t\\t\\t\\t<item>\\r\\n\\t\\t\\t\\t\\t<dataTime>2019-06-10 08:00</dataTime>\\r\\n\\t\\t\\t\\t\\t\\r\\n                        <mangName>\\xeb\\x8f\\x84\\xec\\x8b\\x9c\\xeb\\x8c\\x80\\xea\\xb8\\xb0</mangName>\\r\\n                    \\r\\n\\t\\t\\t\\t\\t<so2Value>0.003</so2Value>\\r\\n\\t\\t\\t\\t\\t<coValue>0.3</coValue>\\r\\n\\t\\t\\t\\t\\t<o3Value>0.012</o3Value>\\r\\n\\t\\t\\t\\t\\t<no2Value>0.020</no2Value>\\r\\n\\t\\t\\t\\t\\t<pm10Value>7</pm10Value>\\r\\n\\t\\t\\t\\t\\t\\r\\n                        <pm10Value24>9</pm10Value24>\\r\\n                    \\r\\n\\t\\t\\t\\t\\t\\r\\n                        <pm25Value>3</pm25Value>\\r\\n                    \\r\\n                    \\r\\n                        <pm25Value24>5</pm25Value24>\\r\\n                    \\r\\n\\t\\t\\t\\t\\t<khaiValue>33</khaiValue>\\r\\n\\t\\t\\t\\t\\t<khaiGrade>1</khaiGrade>\\r\\n\\t\\t\\t\\t\\t<so2Grade>1</so2Grade>\\r\\n\\t\\t\\t\\t\\t<coGrade>1</coGrade>\\r\\n\\t\\t\\t\\t\\t<o3Grade>1</o3Grade>\\r\\n\\t\\t\\t\\t\\t<no2Grade>1</no2Grade>\\r\\n\\t\\t\\t\\t\\t<pm10Grade>1</pm10Grade>\\r\\n\\t\\t\\t\\t\\t\\r\\n                        <pm25Grade>1</pm25Grade>\\r\\n                    \\r\\n                    \\r\\n                        <pm10Grade1h>1</pm10Grade1h>\\r\\n                        <pm25Grade1h>1</pm25Grade1h>\\r\\n                    \\r\\n\\t\\t\\t\\t</item>\\r\\n\\t\\t\\t\\r\\n\\t\\t\\t\\t<item>\\r\\n\\t\\t\\t\\t\\t<dataTime>2019-06-10 07:00</dataTime>\\r\\n\\t\\t\\t\\t\\t\\r\\n                        <mangName>\\xeb\\x8f\\x84\\xec\\x8b\\x9c\\xeb\\x8c\\x80\\xea\\xb8\\xb0</mangName>\\r\\n                    \\r\\n\\t\\t\\t\\t\\t<so2Value>0.005</so2Value>\\r\\n\\t\\t\\t\\t\\t<coValue>0.2</coValue>\\r\\n\\t\\t\\t\\t\\t<o3Value>0.012</o3Value>\\r\\n\\t\\t\\t\\t\\t<no2Value>0.017</no2Value>\\r\\n\\t\\t\\t\\t\\t<pm10Value>9</pm10Value>\\r\\n\\t\\t\\t\\t\\t\\r\\n                        <pm10Value24>10</pm10Value24>\\r\\n                    \\r\\n\\t\\t\\t\\t\\t\\r\\n                        <pm25Value>5</pm25Value>\\r\\n                    \\r\\n                    \\r\\n                        <pm25Value24>6</pm25Value24>\\r\\n                    \\r\\n\\t\\t\\t\\t\\t<khaiValue>28</khaiValue>\\r\\n\\t\\t\\t\\t\\t<khaiGrade>1</khaiGrade>\\r\\n\\t\\t\\t\\t\\t<so2Grade>1</so2Grade>\\r\\n\\t\\t\\t\\t\\t<coGrade>1</coGrade>\\r\\n\\t\\t\\t\\t\\t<o3Grade>1</o3Grade>\\r\\n\\t\\t\\t\\t\\t<no2Grade>1</no2Grade>\\r\\n\\t\\t\\t\\t\\t<pm10Grade>1</pm10Grade>\\r\\n\\t\\t\\t\\t\\t\\r\\n                        <pm25Grade>1</pm25Grade>\\r\\n                    \\r\\n                    \\r\\n                        <pm10Grade1h>1</pm10Grade1h>\\r\\n                        <pm25Grade1h>1</pm25Grade1h>\\r\\n                    \\r\\n\\t\\t\\t\\t</item>\\r\\n\\t\\t\\t\\r\\n\\t\\t\\t\\t<item>\\r\\n\\t\\t\\t\\t\\t<dataTime>2019-06-10 06:00</dataTime>\\r\\n\\t\\t\\t\\t\\t\\r\\n                        <mangName>\\xeb\\x8f\\x84\\xec\\x8b\\x9c\\xeb\\x8c\\x80\\xea\\xb8\\xb0</mangName>\\r\\n                    \\r\\n\\t\\t\\t\\t\\t<so2Value>0.004</so2Value>\\r\\n\\t\\t\\t\\t\\t<coValue>0.2</coValue>\\r\\n\\t\\t\\t\\t\\t<o3Value>0.021</o3Value>\\r\\n\\t\\t\\t\\t\\t<no2Value>0.009</no2Value>\\r\\n\\t\\t\\t\\t\\t<pm10Value>7</pm10Value>\\r\\n\\t\\t\\t\\t\\t\\r\\n                        <pm10Value24>10</pm10Value24>\\r\\n                    \\r\\n\\t\\t\\t\\t\\t\\r\\n                        <pm25Value>4</pm25Value>\\r\\n                    \\r\\n                    \\r\\n                        <pm25Value24>7</pm25Value24>\\r\\n                    \\r\\n\\t\\t\\t\\t\\t<khaiValue>35</khaiValue>\\r\\n\\t\\t\\t\\t\\t<khaiGrade>1</khaiGrade>\\r\\n\\t\\t\\t\\t\\t<so2Grade>1</so2Grade>\\r\\n\\t\\t\\t\\t\\t<coGrade>1</coGrade>\\r\\n\\t\\t\\t\\t\\t<o3Grade>1</o3Grade>\\r\\n\\t\\t\\t\\t\\t<no2Grade>1</no2Grade>\\r\\n\\t\\t\\t\\t\\t<pm10Grade>1</pm10Grade>\\r\\n\\t\\t\\t\\t\\t\\r\\n                        <pm25Grade>1</pm25Grade>\\r\\n                    \\r\\n                    \\r\\n                        <pm10Grade1h>1</pm10Grade1h>\\r\\n                        <pm25Grade1h>1</pm25Grade1h>\\r\\n                    \\r\\n\\t\\t\\t\\t</item>\\r\\n\\t\\t\\t\\r\\n\\t\\t\\t\\t<item>\\r\\n\\t\\t\\t\\t\\t<dataTime>2019-06-10 05:00</dataTime>\\r\\n\\t\\t\\t\\t\\t\\r\\n                        <mangName>\\xeb\\x8f\\x84\\xec\\x8b\\x9c\\xeb\\x8c\\x80\\xea\\xb8\\xb0</mangName>\\r\\n                    \\r\\n\\t\\t\\t\\t\\t<so2Value>0.005</so2Value>\\r\\n\\t\\t\\t\\t\\t<coValue>0.2</coValue>\\r\\n\\t\\t\\t\\t\\t<o3Value>0.025</o3Value>\\r\\n\\t\\t\\t\\t\\t<no2Value>0.007</no2Value>\\r\\n\\t\\t\\t\\t\\t<pm10Value>9</pm10Value>\\r\\n\\t\\t\\t\\t\\t\\r\\n                        <pm10Value24>12</pm10Value24>\\r\\n                    \\r\\n\\t\\t\\t\\t\\t\\r\\n                        <pm25Value>4</pm25Value>\\r\\n                    \\r\\n                    \\r\\n                        <pm25Value24>8</pm25Value24>\\r\\n                    \\r\\n\\t\\t\\t\\t\\t<khaiValue>42</khaiValue>\\r\\n\\t\\t\\t\\t\\t<khaiGrade>1</khaiGrade>\\r\\n\\t\\t\\t\\t\\t<so2Grade>1</so2Grade>\\r\\n\\t\\t\\t\\t\\t<coGrade>1</coGrade>\\r\\n\\t\\t\\t\\t\\t<o3Grade>1</o3Grade>\\r\\n\\t\\t\\t\\t\\t<no2Grade>1</no2Grade>\\r\\n\\t\\t\\t\\t\\t<pm10Grade>1</pm10Grade>\\r\\n\\t\\t\\t\\t\\t\\r\\n                        <pm25Grade>1</pm25Grade>\\r\\n                    \\r\\n                    \\r\\n                        <pm10Grade1h>1</pm10Grade1h>\\r\\n                        <pm25Grade1h>1</pm25Grade1h>\\r\\n                    \\r\\n\\t\\t\\t\\t</item>\\r\\n\\t\\t\\t\\r\\n\\t\\t\\t\\t<item>\\r\\n\\t\\t\\t\\t\\t<dataTime>2019-06-10 04:00</dataTime>\\r\\n\\t\\t\\t\\t\\t\\r\\n                        <mangName>\\xeb\\x8f\\x84\\xec\\x8b\\x9c\\xeb\\x8c\\x80\\xea\\xb8\\xb0</mangName>\\r\\n                    \\r\\n\\t\\t\\t\\t\\t<so2Value>0.004</so2Value>\\r\\n\\t\\t\\t\\t\\t<coValue>0.2</coValue>\\r\\n\\t\\t\\t\\t\\t<o3Value>0.022</o3Value>\\r\\n\\t\\t\\t\\t\\t<no2Value>0.006</no2Value>\\r\\n\\t\\t\\t\\t\\t<pm10Value>7</pm10Value>\\r\\n\\t\\t\\t\\t\\t\\r\\n                        <pm10Value24>13</pm10Value24>\\r\\n                    \\r\\n\\t\\t\\t\\t\\t\\r\\n                        <pm25Value>5</pm25Value>\\r\\n                    \\r\\n                    \\r\\n                        <pm25Value24>9</pm25Value24>\\r\\n                    \\r\\n\\t\\t\\t\\t\\t<khaiValue>37</khaiValue>\\r\\n\\t\\t\\t\\t\\t<khaiGrade>1</khaiGrade>\\r\\n\\t\\t\\t\\t\\t<so2Grade>1</so2Grade>\\r\\n\\t\\t\\t\\t\\t<coGrade>1</coGrade>\\r\\n\\t\\t\\t\\t\\t<o3Grade>1</o3Grade>\\r\\n\\t\\t\\t\\t\\t<no2Grade>1</no2Grade>\\r\\n\\t\\t\\t\\t\\t<pm10Grade>1</pm10Grade>\\r\\n\\t\\t\\t\\t\\t\\r\\n                        <pm25Grade>1</pm25Grade>\\r\\n                    \\r\\n                    \\r\\n                        <pm10Grade1h>1</pm10Grade1h>\\r\\n                        <pm25Grade1h>1</pm25Grade1h>\\r\\n                    \\r\\n\\t\\t\\t\\t</item>\\r\\n\\t\\t\\t\\r\\n\\t\\t\\t\\t<item>\\r\\n\\t\\t\\t\\t\\t<dataTime>2019-06-10 03:00</dataTime>\\r\\n\\t\\t\\t\\t\\t\\r\\n                        <mangName>\\xeb\\x8f\\x84\\xec\\x8b\\x9c\\xeb\\x8c\\x80\\xea\\xb8\\xb0</mangName>\\r\\n                    \\r\\n\\t\\t\\t\\t\\t<so2Value>0.004</so2Value>\\r\\n\\t\\t\\t\\t\\t<coValue>0.2</coValue>\\r\\n\\t\\t\\t\\t\\t<o3Value>0.027</o3Value>\\r\\n\\t\\t\\t\\t\\t<no2Value>0.006</no2Value>\\r\\n\\t\\t\\t\\t\\t<pm10Value>9</pm10Value>\\r\\n\\t\\t\\t\\t\\t\\r\\n                        <pm10Value24>15</pm10Value24>\\r\\n                    \\r\\n\\t\\t\\t\\t\\t\\r\\n                        <pm25Value>6</pm25Value>\\r\\n                    \\r\\n                    \\r\\n                        <pm25Value24>10</pm25Value24>\\r\\n                    \\r\\n\\t\\t\\t\\t\\t<khaiValue>45</khaiValue>\\r\\n\\t\\t\\t\\t\\t<khaiGrade>1</khaiGrade>\\r\\n\\t\\t\\t\\t\\t<so2Grade>1</so2Grade>\\r\\n\\t\\t\\t\\t\\t<coGrade>1</coGrade>\\r\\n\\t\\t\\t\\t\\t<o3Grade>1</o3Grade>\\r\\n\\t\\t\\t\\t\\t<no2Grade>1</no2Grade>\\r\\n\\t\\t\\t\\t\\t<pm10Grade>1</pm10Grade>\\r\\n\\t\\t\\t\\t\\t\\r\\n                        <pm25Grade>1</pm25Grade>\\r\\n                    \\r\\n                    \\r\\n                        <pm10Grade1h>1</pm10Grade1h>\\r\\n                        <pm25Grade1h>1</pm25Grade1h>\\r\\n                    \\r\\n\\t\\t\\t\\t</item>\\r\\n\\t\\t\\t\\r\\n\\t\\t\\t\\t<item>\\r\\n\\t\\t\\t\\t\\t<dataTime>2019-06-10 02:00</dataTime>\\r\\n\\t\\t\\t\\t\\t\\r\\n                        <mangName>\\xeb\\x8f\\x84\\xec\\x8b\\x9c\\xeb\\x8c\\x80\\xea\\xb8\\xb0</mangName>\\r\\n                    \\r\\n\\t\\t\\t\\t\\t<so2Value>0.005</so2Value>\\r\\n\\t\\t\\t\\t\\t<coValue>0.2</coValue>\\r\\n\\t\\t\\t\\t\\t<o3Value>0.031</o3Value>\\r\\n\\t\\t\\t\\t\\t<no2Value>0.007</no2Value>\\r\\n\\t\\t\\t\\t\\t<pm10Value>10</pm10Value>\\r\\n\\t\\t\\t\\t\\t\\r\\n                        <pm10Value24>16</pm10Value24>\\r\\n                    \\r\\n\\t\\t\\t\\t\\t\\r\\n                        <pm25Value>6</pm25Value>\\r\\n                    \\r\\n                    \\r\\n                        <pm25Value24>11</pm25Value24>\\r\\n                    \\r\\n\\t\\t\\t\\t\\t<khaiValue>51</khaiValue>\\r\\n\\t\\t\\t\\t\\t<khaiGrade>2</khaiGrade>\\r\\n\\t\\t\\t\\t\\t<so2Grade>1</so2Grade>\\r\\n\\t\\t\\t\\t\\t<coGrade>1</coGrade>\\r\\n\\t\\t\\t\\t\\t<o3Grade>2</o3Grade>\\r\\n\\t\\t\\t\\t\\t<no2Grade>1</no2Grade>\\r\\n\\t\\t\\t\\t\\t<pm10Grade>1</pm10Grade>\\r\\n\\t\\t\\t\\t\\t\\r\\n                        <pm25Grade>1</pm25Grade>\\r\\n                    \\r\\n                    \\r\\n                        <pm10Grade1h>1</pm10Grade1h>\\r\\n                        <pm25Grade1h>1</pm25Grade1h>\\r\\n                    \\r\\n\\t\\t\\t\\t</item>\\r\\n\\t\\t\\t\\r\\n\\t\\t\\t\\t<item>\\r\\n\\t\\t\\t\\t\\t<dataTime>2019-06-10 01:00</dataTime>\\r\\n\\t\\t\\t\\t\\t\\r\\n                        <mangName>\\xeb\\x8f\\x84\\xec\\x8b\\x9c\\xeb\\x8c\\x80\\xea\\xb8\\xb0</mangName>\\r\\n                    \\r\\n\\t\\t\\t\\t\\t<so2Value>0.004</so2Value>\\r\\n\\t\\t\\t\\t\\t<coValue>0.2</coValue>\\r\\n\\t\\t\\t\\t\\t<o3Value>0.027</o3Value>\\r\\n\\t\\t\\t\\t\\t<no2Value>0.007</no2Value>\\r\\n\\t\\t\\t\\t\\t<pm10Value>13</pm10Value>\\r\\n\\t\\t\\t\\t\\t\\r\\n                        <pm10Value24>18</pm10Value24>\\r\\n                    \\r\\n\\t\\t\\t\\t\\t\\r\\n                        <pm25Value>7</pm25Value>\\r\\n                    \\r\\n                    \\r\\n                        <pm25Value24>12</pm25Value24>\\r\\n                    \\r\\n\\t\\t\\t\\t\\t<khaiValue>45</khaiValue>\\r\\n\\t\\t\\t\\t\\t<khaiGrade>1</khaiGrade>\\r\\n\\t\\t\\t\\t\\t<so2Grade>1</so2Grade>\\r\\n\\t\\t\\t\\t\\t<coGrade>1</coGrade>\\r\\n\\t\\t\\t\\t\\t<o3Grade>1</o3Grade>\\r\\n\\t\\t\\t\\t\\t<no2Grade>1</no2Grade>\\r\\n\\t\\t\\t\\t\\t<pm10Grade>1</pm10Grade>\\r\\n\\t\\t\\t\\t\\t\\r\\n                        <pm25Grade>1</pm25Grade>\\r\\n                    \\r\\n                    \\r\\n                        <pm10Grade1h>1</pm10Grade1h>\\r\\n                        <pm25Grade1h>1</pm25Grade1h>\\r\\n                    \\r\\n\\t\\t\\t\\t</item>\\r\\n\\t\\t\\t\\r\\n\\t\\t</items>\\r\\n\\t\\t\\t<numOfRows>10</numOfRows>\\r\\n\\t\\t\\t<pageNo>1</pageNo>\\r\\n\\t\\t\\t<totalCount>23</totalCount>\\r\\n\\t</body>\\r\\n</response>\\r\\n'"
      ]
     },
     "execution_count": 25,
     "metadata": {},
     "output_type": "execute_result"
    }
   ],
   "source": [
    "resp.content"
   ]
  },
  {
   "cell_type": "code",
   "execution_count": 26,
   "metadata": {},
   "outputs": [
    {
     "data": {
      "text/plain": [
       "'http://openapi.airkorea.or.kr/openapi/services/rest/ArpltnInforInqireSvc/getMsrstnAcctoRltmMesureDnsty?ServiceKey=bjbvXiFrKL2osDOTsoRSDtpq1MJaPI%2Bq14SC1k%2BvBt523tpa11k2g2NsRdaHF5Ey3633j%2BKqxI32h6N9NT29Ew%3D%3D&numOfRows=10&pageNo=1&stationName=%EA%B0%95%EB%82%A8%EA%B5%AC&dataTerm=daily&ver=1.3'"
      ]
     },
     "execution_count": 26,
     "metadata": {},
     "output_type": "execute_result"
    }
   ],
   "source": [
    "resp.request.url #특수문자르 인코딩하기 때문에 %253D%253D로 나옴.. UTF-8로 인코딩이 되어 있어서 2번 인코딩하는 격이 됨."
   ]
  },
  {
   "cell_type": "code",
   "execution_count": 27,
   "metadata": {},
   "outputs": [],
   "source": [
    "soup = BeautifulSoup(resp.content)"
   ]
  },
  {
   "cell_type": "code",
   "execution_count": 28,
   "metadata": {},
   "outputs": [
    {
     "data": {
      "text/plain": [
       "<?xml version=\"1.0\" encoding=\"UTF-8\"?><html><body><response>\n",
       "<header>\n",
       "<resultcode>00</resultcode>\n",
       "<resultmsg>NORMAL SERVICE.</resultmsg>\n",
       "</header>\n",
       "<items>\n",
       "<item>\n",
       "<datatime>2019-06-10 10:00</datatime>\n",
       "<mangname>도시대기</mangname>\n",
       "<so2value>0.004</so2value>\n",
       "<covalue>0.3</covalue>\n",
       "<o3value>0.015</o3value>\n",
       "<no2value>0.016</no2value>\n",
       "<pm10value>7</pm10value>\n",
       "<pm10value24>8</pm10value24>\n",
       "<pm25value>3</pm25value>\n",
       "<pm25value24>4</pm25value24>\n",
       "<khaivalue>27</khaivalue>\n",
       "<khaigrade>1</khaigrade>\n",
       "<so2grade>1</so2grade>\n",
       "<cograde>1</cograde>\n",
       "<o3grade>1</o3grade>\n",
       "<no2grade>1</no2grade>\n",
       "<pm10grade>1</pm10grade>\n",
       "<pm25grade>1</pm25grade>\n",
       "<pm10grade1h>1</pm10grade1h>\n",
       "<pm25grade1h>1</pm25grade1h>\n",
       "</item>\n",
       "<item>\n",
       "<datatime>2019-06-10 09:00</datatime>\n",
       "<mangname>도시대기</mangname>\n",
       "<so2value>0.004</so2value>\n",
       "<covalue>0.3</covalue>\n",
       "<o3value>0.010</o3value>\n",
       "<no2value>0.019</no2value>\n",
       "<pm10value>9</pm10value>\n",
       "<pm10value24>9</pm10value24>\n",
       "<pm25value>4</pm25value>\n",
       "<pm25value24>5</pm25value24>\n",
       "<khaivalue>32</khaivalue>\n",
       "<khaigrade>1</khaigrade>\n",
       "<so2grade>1</so2grade>\n",
       "<cograde>1</cograde>\n",
       "<o3grade>1</o3grade>\n",
       "<no2grade>1</no2grade>\n",
       "<pm10grade>1</pm10grade>\n",
       "<pm25grade>1</pm25grade>\n",
       "<pm10grade1h>1</pm10grade1h>\n",
       "<pm25grade1h>1</pm25grade1h>\n",
       "</item>\n",
       "<item>\n",
       "<datatime>2019-06-10 08:00</datatime>\n",
       "<mangname>도시대기</mangname>\n",
       "<so2value>0.003</so2value>\n",
       "<covalue>0.3</covalue>\n",
       "<o3value>0.012</o3value>\n",
       "<no2value>0.020</no2value>\n",
       "<pm10value>7</pm10value>\n",
       "<pm10value24>9</pm10value24>\n",
       "<pm25value>3</pm25value>\n",
       "<pm25value24>5</pm25value24>\n",
       "<khaivalue>33</khaivalue>\n",
       "<khaigrade>1</khaigrade>\n",
       "<so2grade>1</so2grade>\n",
       "<cograde>1</cograde>\n",
       "<o3grade>1</o3grade>\n",
       "<no2grade>1</no2grade>\n",
       "<pm10grade>1</pm10grade>\n",
       "<pm25grade>1</pm25grade>\n",
       "<pm10grade1h>1</pm10grade1h>\n",
       "<pm25grade1h>1</pm25grade1h>\n",
       "</item>\n",
       "<item>\n",
       "<datatime>2019-06-10 07:00</datatime>\n",
       "<mangname>도시대기</mangname>\n",
       "<so2value>0.005</so2value>\n",
       "<covalue>0.2</covalue>\n",
       "<o3value>0.012</o3value>\n",
       "<no2value>0.017</no2value>\n",
       "<pm10value>9</pm10value>\n",
       "<pm10value24>10</pm10value24>\n",
       "<pm25value>5</pm25value>\n",
       "<pm25value24>6</pm25value24>\n",
       "<khaivalue>28</khaivalue>\n",
       "<khaigrade>1</khaigrade>\n",
       "<so2grade>1</so2grade>\n",
       "<cograde>1</cograde>\n",
       "<o3grade>1</o3grade>\n",
       "<no2grade>1</no2grade>\n",
       "<pm10grade>1</pm10grade>\n",
       "<pm25grade>1</pm25grade>\n",
       "<pm10grade1h>1</pm10grade1h>\n",
       "<pm25grade1h>1</pm25grade1h>\n",
       "</item>\n",
       "<item>\n",
       "<datatime>2019-06-10 06:00</datatime>\n",
       "<mangname>도시대기</mangname>\n",
       "<so2value>0.004</so2value>\n",
       "<covalue>0.2</covalue>\n",
       "<o3value>0.021</o3value>\n",
       "<no2value>0.009</no2value>\n",
       "<pm10value>7</pm10value>\n",
       "<pm10value24>10</pm10value24>\n",
       "<pm25value>4</pm25value>\n",
       "<pm25value24>7</pm25value24>\n",
       "<khaivalue>35</khaivalue>\n",
       "<khaigrade>1</khaigrade>\n",
       "<so2grade>1</so2grade>\n",
       "<cograde>1</cograde>\n",
       "<o3grade>1</o3grade>\n",
       "<no2grade>1</no2grade>\n",
       "<pm10grade>1</pm10grade>\n",
       "<pm25grade>1</pm25grade>\n",
       "<pm10grade1h>1</pm10grade1h>\n",
       "<pm25grade1h>1</pm25grade1h>\n",
       "</item>\n",
       "<item>\n",
       "<datatime>2019-06-10 05:00</datatime>\n",
       "<mangname>도시대기</mangname>\n",
       "<so2value>0.005</so2value>\n",
       "<covalue>0.2</covalue>\n",
       "<o3value>0.025</o3value>\n",
       "<no2value>0.007</no2value>\n",
       "<pm10value>9</pm10value>\n",
       "<pm10value24>12</pm10value24>\n",
       "<pm25value>4</pm25value>\n",
       "<pm25value24>8</pm25value24>\n",
       "<khaivalue>42</khaivalue>\n",
       "<khaigrade>1</khaigrade>\n",
       "<so2grade>1</so2grade>\n",
       "<cograde>1</cograde>\n",
       "<o3grade>1</o3grade>\n",
       "<no2grade>1</no2grade>\n",
       "<pm10grade>1</pm10grade>\n",
       "<pm25grade>1</pm25grade>\n",
       "<pm10grade1h>1</pm10grade1h>\n",
       "<pm25grade1h>1</pm25grade1h>\n",
       "</item>\n",
       "<item>\n",
       "<datatime>2019-06-10 04:00</datatime>\n",
       "<mangname>도시대기</mangname>\n",
       "<so2value>0.004</so2value>\n",
       "<covalue>0.2</covalue>\n",
       "<o3value>0.022</o3value>\n",
       "<no2value>0.006</no2value>\n",
       "<pm10value>7</pm10value>\n",
       "<pm10value24>13</pm10value24>\n",
       "<pm25value>5</pm25value>\n",
       "<pm25value24>9</pm25value24>\n",
       "<khaivalue>37</khaivalue>\n",
       "<khaigrade>1</khaigrade>\n",
       "<so2grade>1</so2grade>\n",
       "<cograde>1</cograde>\n",
       "<o3grade>1</o3grade>\n",
       "<no2grade>1</no2grade>\n",
       "<pm10grade>1</pm10grade>\n",
       "<pm25grade>1</pm25grade>\n",
       "<pm10grade1h>1</pm10grade1h>\n",
       "<pm25grade1h>1</pm25grade1h>\n",
       "</item>\n",
       "<item>\n",
       "<datatime>2019-06-10 03:00</datatime>\n",
       "<mangname>도시대기</mangname>\n",
       "<so2value>0.004</so2value>\n",
       "<covalue>0.2</covalue>\n",
       "<o3value>0.027</o3value>\n",
       "<no2value>0.006</no2value>\n",
       "<pm10value>9</pm10value>\n",
       "<pm10value24>15</pm10value24>\n",
       "<pm25value>6</pm25value>\n",
       "<pm25value24>10</pm25value24>\n",
       "<khaivalue>45</khaivalue>\n",
       "<khaigrade>1</khaigrade>\n",
       "<so2grade>1</so2grade>\n",
       "<cograde>1</cograde>\n",
       "<o3grade>1</o3grade>\n",
       "<no2grade>1</no2grade>\n",
       "<pm10grade>1</pm10grade>\n",
       "<pm25grade>1</pm25grade>\n",
       "<pm10grade1h>1</pm10grade1h>\n",
       "<pm25grade1h>1</pm25grade1h>\n",
       "</item>\n",
       "<item>\n",
       "<datatime>2019-06-10 02:00</datatime>\n",
       "<mangname>도시대기</mangname>\n",
       "<so2value>0.005</so2value>\n",
       "<covalue>0.2</covalue>\n",
       "<o3value>0.031</o3value>\n",
       "<no2value>0.007</no2value>\n",
       "<pm10value>10</pm10value>\n",
       "<pm10value24>16</pm10value24>\n",
       "<pm25value>6</pm25value>\n",
       "<pm25value24>11</pm25value24>\n",
       "<khaivalue>51</khaivalue>\n",
       "<khaigrade>2</khaigrade>\n",
       "<so2grade>1</so2grade>\n",
       "<cograde>1</cograde>\n",
       "<o3grade>2</o3grade>\n",
       "<no2grade>1</no2grade>\n",
       "<pm10grade>1</pm10grade>\n",
       "<pm25grade>1</pm25grade>\n",
       "<pm10grade1h>1</pm10grade1h>\n",
       "<pm25grade1h>1</pm25grade1h>\n",
       "</item>\n",
       "<item>\n",
       "<datatime>2019-06-10 01:00</datatime>\n",
       "<mangname>도시대기</mangname>\n",
       "<so2value>0.004</so2value>\n",
       "<covalue>0.2</covalue>\n",
       "<o3value>0.027</o3value>\n",
       "<no2value>0.007</no2value>\n",
       "<pm10value>13</pm10value>\n",
       "<pm10value24>18</pm10value24>\n",
       "<pm25value>7</pm25value>\n",
       "<pm25value24>12</pm25value24>\n",
       "<khaivalue>45</khaivalue>\n",
       "<khaigrade>1</khaigrade>\n",
       "<so2grade>1</so2grade>\n",
       "<cograde>1</cograde>\n",
       "<o3grade>1</o3grade>\n",
       "<no2grade>1</no2grade>\n",
       "<pm10grade>1</pm10grade>\n",
       "<pm25grade>1</pm25grade>\n",
       "<pm10grade1h>1</pm10grade1h>\n",
       "<pm25grade1h>1</pm25grade1h>\n",
       "</item>\n",
       "</items>\n",
       "<numofrows>10</numofrows>\n",
       "<pageno>1</pageno>\n",
       "<totalcount>23</totalcount>\n",
       "</response>\n",
       "</body></html>"
      ]
     },
     "execution_count": 28,
     "metadata": {},
     "output_type": "execute_result"
    }
   ],
   "source": [
    "soup"
   ]
  },
  {
   "cell_type": "code",
   "execution_count": 30,
   "metadata": {},
   "outputs": [],
   "source": [
    "item_list=soup.find_all('item')"
   ]
  },
  {
   "cell_type": "code",
   "execution_count": 33,
   "metadata": {},
   "outputs": [
    {
     "data": {
      "text/plain": [
       "<item>\n",
       "<datatime>2019-06-10 09:00</datatime>\n",
       "<mangname>도시대기</mangname>\n",
       "<so2value>0.004</so2value>\n",
       "<covalue>0.3</covalue>\n",
       "<o3value>0.010</o3value>\n",
       "<no2value>0.019</no2value>\n",
       "<pm10value>9</pm10value>\n",
       "<pm10value24>9</pm10value24>\n",
       "<pm25value>4</pm25value>\n",
       "<pm25value24>5</pm25value24>\n",
       "<khaivalue>32</khaivalue>\n",
       "<khaigrade>1</khaigrade>\n",
       "<so2grade>1</so2grade>\n",
       "<cograde>1</cograde>\n",
       "<o3grade>1</o3grade>\n",
       "<no2grade>1</no2grade>\n",
       "<pm10grade>1</pm10grade>\n",
       "<pm25grade>1</pm25grade>\n",
       "<pm10grade1h>1</pm10grade1h>\n",
       "<pm25grade1h>1</pm25grade1h>\n",
       "</item>"
      ]
     },
     "execution_count": 33,
     "metadata": {},
     "output_type": "execute_result"
    }
   ],
   "source": [
    "item_list[1]"
   ]
  },
  {
   "cell_type": "markdown",
   "metadata": {},
   "source": [
    "### JSON으로\n",
    "(&_returnType=json)"
   ]
  },
  {
   "cell_type": "code",
   "execution_count": 35,
   "metadata": {},
   "outputs": [],
   "source": [
    "params = {\n",
    "    'ServiceKey': MY_API_KEY,\n",
    "    'numOfRows': 10,\n",
    "    'pageNo':1,\n",
    "    'stationName':'강남구',\n",
    "    'dataTerm': 'daily',\n",
    "    'ver': '1.3',\n",
    "    '_returnType':'json'\n",
    "}\n",
    "#params['_returnType'] =json"
   ]
  },
  {
   "cell_type": "code",
   "execution_count": 36,
   "metadata": {},
   "outputs": [
    {
     "data": {
      "text/plain": [
       "<Response [200]>"
      ]
     },
     "execution_count": 36,
     "metadata": {},
     "output_type": "execute_result"
    }
   ],
   "source": [
    "resp = requests.get(endpoint, params)\n",
    "resp"
   ]
  },
  {
   "cell_type": "code",
   "execution_count": 37,
   "metadata": {},
   "outputs": [
    {
     "data": {
      "text/plain": [
       "<html><body><p>{\"list\":[{\"_returnType\":\"json\",\"coGrade\":\"1\",\"coValue\":\"0.3\",\"dataTerm\":\"\",\"dataTime\":\"2019-06-10 10:00\",\"khaiGrade\":\"1\",\"khaiValue\":\"27\",\"mangName\":\"도시대기\",\"no2Grade\":\"1\",\"no2Value\":\"0.016\",\"numOfRows\":\"10\",\"o3Grade\":\"1\",\"o3Value\":\"0.015\",\"pageNo\":\"1\",\"pm10Grade\":\"1\",\"pm10Grade1h\":\"1\",\"pm10Value\":\"7\",\"pm10Value24\":\"8\",\"pm25Grade\":\"1\",\"pm25Grade1h\":\"1\",\"pm25Value\":\"3\",\"pm25Value24\":\"4\",\"resultCode\":\"\",\"resultMsg\":\"\",\"rnum\":0,\"serviceKey\":\"\",\"sidoName\":\"\",\"so2Grade\":\"1\",\"so2Value\":\"0.004\",\"stationCode\":\"\",\"stationName\":\"\",\"totalCount\":\"\",\"ver\":\"\"},{\"_returnType\":\"json\",\"coGrade\":\"1\",\"coValue\":\"0.3\",\"dataTerm\":\"\",\"dataTime\":\"2019-06-10 09:00\",\"khaiGrade\":\"1\",\"khaiValue\":\"32\",\"mangName\":\"도시대기\",\"no2Grade\":\"1\",\"no2Value\":\"0.019\",\"numOfRows\":\"10\",\"o3Grade\":\"1\",\"o3Value\":\"0.010\",\"pageNo\":\"1\",\"pm10Grade\":\"1\",\"pm10Grade1h\":\"1\",\"pm10Value\":\"9\",\"pm10Value24\":\"9\",\"pm25Grade\":\"1\",\"pm25Grade1h\":\"1\",\"pm25Value\":\"4\",\"pm25Value24\":\"5\",\"resultCode\":\"\",\"resultMsg\":\"\",\"rnum\":0,\"serviceKey\":\"\",\"sidoName\":\"\",\"so2Grade\":\"1\",\"so2Value\":\"0.004\",\"stationCode\":\"\",\"stationName\":\"\",\"totalCount\":\"\",\"ver\":\"\"},{\"_returnType\":\"json\",\"coGrade\":\"1\",\"coValue\":\"0.3\",\"dataTerm\":\"\",\"dataTime\":\"2019-06-10 08:00\",\"khaiGrade\":\"1\",\"khaiValue\":\"33\",\"mangName\":\"도시대기\",\"no2Grade\":\"1\",\"no2Value\":\"0.020\",\"numOfRows\":\"10\",\"o3Grade\":\"1\",\"o3Value\":\"0.012\",\"pageNo\":\"1\",\"pm10Grade\":\"1\",\"pm10Grade1h\":\"1\",\"pm10Value\":\"7\",\"pm10Value24\":\"9\",\"pm25Grade\":\"1\",\"pm25Grade1h\":\"1\",\"pm25Value\":\"3\",\"pm25Value24\":\"5\",\"resultCode\":\"\",\"resultMsg\":\"\",\"rnum\":0,\"serviceKey\":\"\",\"sidoName\":\"\",\"so2Grade\":\"1\",\"so2Value\":\"0.003\",\"stationCode\":\"\",\"stationName\":\"\",\"totalCount\":\"\",\"ver\":\"\"},{\"_returnType\":\"json\",\"coGrade\":\"1\",\"coValue\":\"0.2\",\"dataTerm\":\"\",\"dataTime\":\"2019-06-10 07:00\",\"khaiGrade\":\"1\",\"khaiValue\":\"28\",\"mangName\":\"도시대기\",\"no2Grade\":\"1\",\"no2Value\":\"0.017\",\"numOfRows\":\"10\",\"o3Grade\":\"1\",\"o3Value\":\"0.012\",\"pageNo\":\"1\",\"pm10Grade\":\"1\",\"pm10Grade1h\":\"1\",\"pm10Value\":\"9\",\"pm10Value24\":\"10\",\"pm25Grade\":\"1\",\"pm25Grade1h\":\"1\",\"pm25Value\":\"5\",\"pm25Value24\":\"6\",\"resultCode\":\"\",\"resultMsg\":\"\",\"rnum\":0,\"serviceKey\":\"\",\"sidoName\":\"\",\"so2Grade\":\"1\",\"so2Value\":\"0.005\",\"stationCode\":\"\",\"stationName\":\"\",\"totalCount\":\"\",\"ver\":\"\"},{\"_returnType\":\"json\",\"coGrade\":\"1\",\"coValue\":\"0.2\",\"dataTerm\":\"\",\"dataTime\":\"2019-06-10 06:00\",\"khaiGrade\":\"1\",\"khaiValue\":\"35\",\"mangName\":\"도시대기\",\"no2Grade\":\"1\",\"no2Value\":\"0.009\",\"numOfRows\":\"10\",\"o3Grade\":\"1\",\"o3Value\":\"0.021\",\"pageNo\":\"1\",\"pm10Grade\":\"1\",\"pm10Grade1h\":\"1\",\"pm10Value\":\"7\",\"pm10Value24\":\"10\",\"pm25Grade\":\"1\",\"pm25Grade1h\":\"1\",\"pm25Value\":\"4\",\"pm25Value24\":\"7\",\"resultCode\":\"\",\"resultMsg\":\"\",\"rnum\":0,\"serviceKey\":\"\",\"sidoName\":\"\",\"so2Grade\":\"1\",\"so2Value\":\"0.004\",\"stationCode\":\"\",\"stationName\":\"\",\"totalCount\":\"\",\"ver\":\"\"},{\"_returnType\":\"json\",\"coGrade\":\"1\",\"coValue\":\"0.2\",\"dataTerm\":\"\",\"dataTime\":\"2019-06-10 05:00\",\"khaiGrade\":\"1\",\"khaiValue\":\"42\",\"mangName\":\"도시대기\",\"no2Grade\":\"1\",\"no2Value\":\"0.007\",\"numOfRows\":\"10\",\"o3Grade\":\"1\",\"o3Value\":\"0.025\",\"pageNo\":\"1\",\"pm10Grade\":\"1\",\"pm10Grade1h\":\"1\",\"pm10Value\":\"9\",\"pm10Value24\":\"12\",\"pm25Grade\":\"1\",\"pm25Grade1h\":\"1\",\"pm25Value\":\"4\",\"pm25Value24\":\"8\",\"resultCode\":\"\",\"resultMsg\":\"\",\"rnum\":0,\"serviceKey\":\"\",\"sidoName\":\"\",\"so2Grade\":\"1\",\"so2Value\":\"0.005\",\"stationCode\":\"\",\"stationName\":\"\",\"totalCount\":\"\",\"ver\":\"\"},{\"_returnType\":\"json\",\"coGrade\":\"1\",\"coValue\":\"0.2\",\"dataTerm\":\"\",\"dataTime\":\"2019-06-10 04:00\",\"khaiGrade\":\"1\",\"khaiValue\":\"37\",\"mangName\":\"도시대기\",\"no2Grade\":\"1\",\"no2Value\":\"0.006\",\"numOfRows\":\"10\",\"o3Grade\":\"1\",\"o3Value\":\"0.022\",\"pageNo\":\"1\",\"pm10Grade\":\"1\",\"pm10Grade1h\":\"1\",\"pm10Value\":\"7\",\"pm10Value24\":\"13\",\"pm25Grade\":\"1\",\"pm25Grade1h\":\"1\",\"pm25Value\":\"5\",\"pm25Value24\":\"9\",\"resultCode\":\"\",\"resultMsg\":\"\",\"rnum\":0,\"serviceKey\":\"\",\"sidoName\":\"\",\"so2Grade\":\"1\",\"so2Value\":\"0.004\",\"stationCode\":\"\",\"stationName\":\"\",\"totalCount\":\"\",\"ver\":\"\"},{\"_returnType\":\"json\",\"coGrade\":\"1\",\"coValue\":\"0.2\",\"dataTerm\":\"\",\"dataTime\":\"2019-06-10 03:00\",\"khaiGrade\":\"1\",\"khaiValue\":\"45\",\"mangName\":\"도시대기\",\"no2Grade\":\"1\",\"no2Value\":\"0.006\",\"numOfRows\":\"10\",\"o3Grade\":\"1\",\"o3Value\":\"0.027\",\"pageNo\":\"1\",\"pm10Grade\":\"1\",\"pm10Grade1h\":\"1\",\"pm10Value\":\"9\",\"pm10Value24\":\"15\",\"pm25Grade\":\"1\",\"pm25Grade1h\":\"1\",\"pm25Value\":\"6\",\"pm25Value24\":\"10\",\"resultCode\":\"\",\"resultMsg\":\"\",\"rnum\":0,\"serviceKey\":\"\",\"sidoName\":\"\",\"so2Grade\":\"1\",\"so2Value\":\"0.004\",\"stationCode\":\"\",\"stationName\":\"\",\"totalCount\":\"\",\"ver\":\"\"},{\"_returnType\":\"json\",\"coGrade\":\"1\",\"coValue\":\"0.2\",\"dataTerm\":\"\",\"dataTime\":\"2019-06-10 02:00\",\"khaiGrade\":\"2\",\"khaiValue\":\"51\",\"mangName\":\"도시대기\",\"no2Grade\":\"1\",\"no2Value\":\"0.007\",\"numOfRows\":\"10\",\"o3Grade\":\"2\",\"o3Value\":\"0.031\",\"pageNo\":\"1\",\"pm10Grade\":\"1\",\"pm10Grade1h\":\"1\",\"pm10Value\":\"10\",\"pm10Value24\":\"16\",\"pm25Grade\":\"1\",\"pm25Grade1h\":\"1\",\"pm25Value\":\"6\",\"pm25Value24\":\"11\",\"resultCode\":\"\",\"resultMsg\":\"\",\"rnum\":0,\"serviceKey\":\"\",\"sidoName\":\"\",\"so2Grade\":\"1\",\"so2Value\":\"0.005\",\"stationCode\":\"\",\"stationName\":\"\",\"totalCount\":\"\",\"ver\":\"\"},{\"_returnType\":\"json\",\"coGrade\":\"1\",\"coValue\":\"0.2\",\"dataTerm\":\"\",\"dataTime\":\"2019-06-10 01:00\",\"khaiGrade\":\"1\",\"khaiValue\":\"45\",\"mangName\":\"도시대기\",\"no2Grade\":\"1\",\"no2Value\":\"0.007\",\"numOfRows\":\"10\",\"o3Grade\":\"1\",\"o3Value\":\"0.027\",\"pageNo\":\"1\",\"pm10Grade\":\"1\",\"pm10Grade1h\":\"1\",\"pm10Value\":\"13\",\"pm10Value24\":\"18\",\"pm25Grade\":\"1\",\"pm25Grade1h\":\"1\",\"pm25Value\":\"7\",\"pm25Value24\":\"12\",\"resultCode\":\"\",\"resultMsg\":\"\",\"rnum\":0,\"serviceKey\":\"\",\"sidoName\":\"\",\"so2Grade\":\"1\",\"so2Value\":\"0.004\",\"stationCode\":\"\",\"stationName\":\"\",\"totalCount\":\"\",\"ver\":\"\"}],\"parm\":{\"_returnType\":\"json\",\"coGrade\":\"\",\"coValue\":\"\",\"dataTerm\":\"DAILY\",\"dataTime\":\"\",\"khaiGrade\":\"\",\"khaiValue\":\"\",\"mangName\":\"\",\"no2Grade\":\"\",\"no2Value\":\"\",\"numOfRows\":\"10\",\"o3Grade\":\"\",\"o3Value\":\"\",\"pageNo\":\"1\",\"pm10Grade\":\"\",\"pm10Grade1h\":\"\",\"pm10Value\":\"\",\"pm10Value24\":\"\",\"pm25Grade\":\"\",\"pm25Grade1h\":\"\",\"pm25Value\":\"\",\"pm25Value24\":\"\",\"resultCode\":\"\",\"resultMsg\":\"\",\"rnum\":0,\"serviceKey\":\"bjbvXiFrKL2osDOTsoRSDtpq1MJaPI+q14SC1k+vBt523tpa11k2g2NsRdaHF5Ey3633j+KqxI32h6N9NT29Ew==\",\"sidoName\":\"\",\"so2Grade\":\"\",\"so2Value\":\"\",\"stationCode\":\"\",\"stationName\":\"강남구\",\"totalCount\":\"\",\"ver\":\"1.3\"},\"ArpltnInforInqireSvcVo\":{\"_returnType\":\"json\",\"coGrade\":\"\",\"coValue\":\"\",\"dataTerm\":\"DAILY\",\"dataTime\":\"\",\"khaiGrade\":\"\",\"khaiValue\":\"\",\"mangName\":\"\",\"no2Grade\":\"\",\"no2Value\":\"\",\"numOfRows\":\"10\",\"o3Grade\":\"\",\"o3Value\":\"\",\"pageNo\":\"1\",\"pm10Grade\":\"\",\"pm10Grade1h\":\"\",\"pm10Value\":\"\",\"pm10Value24\":\"\",\"pm25Grade\":\"\",\"pm25Grade1h\":\"\",\"pm25Value\":\"\",\"pm25Value24\":\"\",\"resultCode\":\"\",\"resultMsg\":\"\",\"rnum\":0,\"serviceKey\":\"bjbvXiFrKL2osDOTsoRSDtpq1MJaPI+q14SC1k+vBt523tpa11k2g2NsRdaHF5Ey3633j+KqxI32h6N9NT29Ew==\",\"sidoName\":\"\",\"so2Grade\":\"\",\"so2Value\":\"\",\"stationCode\":\"\",\"stationName\":\"강남구\",\"totalCount\":\"\",\"ver\":\"1.3\"},\"totalCount\":23}</p></body></html>"
      ]
     },
     "execution_count": 37,
     "metadata": {},
     "output_type": "execute_result"
    }
   ],
   "source": [
    "soup = BeautifulSoup(resp.content)\n",
    "soup"
   ]
  },
  {
   "cell_type": "code",
   "execution_count": null,
   "metadata": {},
   "outputs": [],
   "source": []
  }
 ],
 "metadata": {
  "kernelspec": {
   "display_name": "Python 3",
   "language": "python",
   "name": "python3"
  },
  "language_info": {
   "codemirror_mode": {
    "name": "ipython",
    "version": 3
   },
   "file_extension": ".py",
   "mimetype": "text/x-python",
   "name": "python",
   "nbconvert_exporter": "python",
   "pygments_lexer": "ipython3",
   "version": "3.7.3"
  }
 },
 "nbformat": 4,
 "nbformat_minor": 2
}
