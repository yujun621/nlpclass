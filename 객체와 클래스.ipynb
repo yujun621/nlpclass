{
 "cells": [
  {
   "cell_type": "markdown",
   "metadata": {},
   "source": [
    "### 객체와 클래스\n",
    "\n",
    "객체: 속성과 행동(함수)으로 구성된 대상\n",
    "\n",
    "클래스: 객체를 만들기 위한 도구(문법)"
   ]
  },
  {
   "cell_type": "code",
   "execution_count": 1,
   "metadata": {},
   "outputs": [],
   "source": [
    "class Dog:\n",
    "    def __init__(self, name, color):\n",
    "        self.hungry = 0 #인스턴스 속성\n",
    "        self.name = name\n",
    "        self.color = color\n",
    "    def eat(self): #행동\n",
    "        self.hungry -= 10\n",
    "        print(\"밥먹음\", self.hungry)\n",
    "    def walk(self):\n",
    "        self.hungry += 10\n",
    "        print(\"산책\", self.hungry)"
   ]
  },
  {
   "cell_type": "code",
   "execution_count": 2,
   "metadata": {},
   "outputs": [
    {
     "name": "stdout",
     "output_type": "stream",
     "text": [
      "밥먹음 -10\n"
     ]
    }
   ],
   "source": [
    "choco = Dog(\"choco\",\"black\") #객체 생성\n",
    "jjong = Dog(\"jjong\",\"white\") #객체 생성\n",
    "\n",
    "choco.eat()"
   ]
  },
  {
   "cell_type": "code",
   "execution_count": 5,
   "metadata": {},
   "outputs": [
    {
     "name": "stdout",
     "output_type": "stream",
     "text": [
      "밥먹음 -40\n"
     ]
    }
   ],
   "source": [
    "choco.eat()"
   ]
  },
  {
   "cell_type": "code",
   "execution_count": 6,
   "metadata": {},
   "outputs": [
    {
     "name": "stdout",
     "output_type": "stream",
     "text": [
      "산책 -30\n"
     ]
    }
   ],
   "source": [
    "choco.walk()"
   ]
  },
  {
   "cell_type": "code",
   "execution_count": 7,
   "metadata": {},
   "outputs": [
    {
     "name": "stdout",
     "output_type": "stream",
     "text": [
      "-30\n"
     ]
    }
   ],
   "source": [
    "print(choco.hungry)"
   ]
  },
  {
   "cell_type": "code",
   "execution_count": 8,
   "metadata": {},
   "outputs": [
    {
     "name": "stdout",
     "output_type": "stream",
     "text": [
      "0\n"
     ]
    }
   ],
   "source": [
    "print(jjong.hungry)"
   ]
  },
  {
   "cell_type": "markdown",
   "metadata": {},
   "source": [
    "### 생성자 __init__\n"
   ]
  },
  {
   "cell_type": "code",
   "execution_count": 9,
   "metadata": {},
   "outputs": [],
   "source": [
    "class Dog:\n",
    "    def __init__(self, name, color):\n",
    "        #여기서 속성을 초기화 합니다.\n",
    "        self.name = name\n",
    "        self.color = color\n",
    "        self.__hungry = 0 #private(관례)\n",
    "    def eat(self): #행동\n",
    "        if self.__hungry <= 0:\n",
    "            print(\"배가 너무 불러요\")\n",
    "        else:\n",
    "            self.__hungry -= 10\n",
    "            print(\"밥먹음\",self.__hungry)"
   ]
  },
  {
   "cell_type": "markdown",
   "metadata": {},
   "source": [
    "### 비공개 속성(private attribute)"
   ]
  },
  {
   "cell_type": "code",
   "execution_count": 73,
   "metadata": {},
   "outputs": [],
   "source": [
    "class Dog:\n",
    "    def __init__(self, name, color):\n",
    "        #여기서 속성을 초기화 합니다.\n",
    "        self.name = name\n",
    "        self.color = color\n",
    "        self.__hungry = 0 #private(관례)\n",
    "    def eat(self): #행동\n",
    "        if self.__hungry <= 0:\n",
    "            print(\"배가 너무 불러요\")\n",
    "        else:\n",
    "            self.__hungry -= 10\n",
    "            print(\"밥먹음\",self.__hungry)\n",
    "    def walk(self):\n",
    "        if self.__hungry >= 100:\n",
    "            print(\"움직일 힘이 없어요\")\n",
    "        else:\n",
    "            self.__hungry += 10\n",
    "        print(\"산책\", self.__hungry)\n",
    "    def condition(self):\n",
    "        print(\"{0} 배고픔: {1}\".format(self.name, self.__hungry))"
   ]
  },
  {
   "cell_type": "markdown",
   "metadata": {},
   "source": [
    "외부에서 속성에 접근하지 못하게 차단 속성명 앞에 __ 추가"
   ]
  },
  {
   "cell_type": "code",
   "execution_count": 76,
   "metadata": {},
   "outputs": [
    {
     "name": "stdout",
     "output_type": "stream",
     "text": [
      "배가 너무 불러요\n",
      "산책 10\n",
      "산책 20\n",
      "mery 배고픔: 20\n"
     ]
    },
    {
     "ename": "AttributeError",
     "evalue": "'Dog' object has no attribute '__hungry'",
     "output_type": "error",
     "traceback": [
      "\u001b[1;31m---------------------------------------------------------------------------\u001b[0m",
      "\u001b[1;31mAttributeError\u001b[0m                            Traceback (most recent call last)",
      "\u001b[1;32m<ipython-input-76-dc3eb97f848d>\u001b[0m in \u001b[0;36m<module>\u001b[1;34m\u001b[0m\n\u001b[0;32m      5\u001b[0m \u001b[0mmery\u001b[0m\u001b[1;33m.\u001b[0m\u001b[0mcondition\u001b[0m\u001b[1;33m(\u001b[0m\u001b[1;33m)\u001b[0m\u001b[1;33m\u001b[0m\u001b[1;33m\u001b[0m\u001b[0m\n\u001b[0;32m      6\u001b[0m \u001b[1;33m\u001b[0m\u001b[0m\n\u001b[1;32m----> 7\u001b[1;33m \u001b[0mprint\u001b[0m\u001b[1;33m(\u001b[0m\u001b[0mmery\u001b[0m\u001b[1;33m.\u001b[0m\u001b[0m__hungry\u001b[0m\u001b[1;33m)\u001b[0m\u001b[1;33m\u001b[0m\u001b[1;33m\u001b[0m\u001b[0m\n\u001b[0m",
      "\u001b[1;31mAttributeError\u001b[0m: 'Dog' object has no attribute '__hungry'"
     ]
    }
   ],
   "source": [
    "mery = Dog(\"mery\",\"black\")\n",
    "mery.eat()\n",
    "mery.walk()\n",
    "mery.walk()\n",
    "mery.condition()\n",
    "\n",
    "mery.hungry += 100 #오류"
   ]
  },
  {
   "cell_type": "markdown",
   "metadata": {},
   "source": [
    "###  클래스 속성(class attribute)\n",
    "모든 객체가 공유하는 속성"
   ]
  },
  {
   "cell_type": "code",
   "execution_count": 16,
   "metadata": {},
   "outputs": [],
   "source": [
    "class Dog:\n",
    "    dog_count = 0 #클래스 속성\n",
    "    def __init__(self, name, color):\n",
    "        \n",
    "        self.name = name #인스턴스 속성\n",
    "        self.color = color\n",
    "        Dog.dog_count += 1 #클래스 속성 접근\n",
    "    def dogCount(self):\n",
    "        print(\"총 강아지는:\", Dog.dog_count)"
   ]
  },
  {
   "cell_type": "code",
   "execution_count": 17,
   "metadata": {},
   "outputs": [
    {
     "name": "stdout",
     "output_type": "stream",
     "text": [
      "총 강아지는: 1\n"
     ]
    }
   ],
   "source": [
    "hello = Dog(\"hello\",\"black\")\n",
    "hello.dogCount()"
   ]
  },
  {
   "cell_type": "code",
   "execution_count": 18,
   "metadata": {},
   "outputs": [
    {
     "name": "stdout",
     "output_type": "stream",
     "text": [
      "총 강아지는: 2\n"
     ]
    }
   ],
   "source": [
    "happy = Dog(\"happy\",\"black\")\n",
    "hello.dogCount()"
   ]
  },
  {
   "cell_type": "markdown",
   "metadata": {},
   "source": [
    "### 정적 메서드(static method)\n",
    "\n",
    "클래스에서 바로 호출가능\n",
    "\n",
    "인스턴스 속성, 인스턴스 메서드 접근 불가\n",
    "\n",
    "독립적으로 동작하기 위함"
   ]
  },
  {
   "cell_type": "code",
   "execution_count": 19,
   "metadata": {},
   "outputs": [],
   "source": [
    "class Calc:\n",
    "    @staticmethod\n",
    "    def add(a,b):\n",
    "        print(a+b)"
   ]
  },
  {
   "cell_type": "code",
   "execution_count": 20,
   "metadata": {},
   "outputs": [
    {
     "name": "stdout",
     "output_type": "stream",
     "text": [
      "30\n"
     ]
    }
   ],
   "source": [
    "Calc.add(10,20)"
   ]
  },
  {
   "cell_type": "code",
   "execution_count": 21,
   "metadata": {},
   "outputs": [],
   "source": [
    "a = {1,2,3,4}\n",
    "a.update({5})"
   ]
  },
  {
   "cell_type": "code",
   "execution_count": 22,
   "metadata": {},
   "outputs": [
    {
     "data": {
      "text/plain": [
       "{1, 2, 3, 4, 5}"
      ]
     },
     "execution_count": 22,
     "metadata": {},
     "output_type": "execute_result"
    }
   ],
   "source": [
    "set.union({1,2,3,4},{5})"
   ]
  },
  {
   "cell_type": "markdown",
   "metadata": {},
   "source": [
    "### 클래스 메서드(class method)\n",
    "정적 메서드와 거의 동일\n",
    "\n",
    "클래스 속성에 접근 가능"
   ]
  },
  {
   "cell_type": "code",
   "execution_count": 29,
   "metadata": {},
   "outputs": [],
   "source": [
    "class Calc:\n",
    "    count = 0\n",
    "    @classmethod\n",
    "    def add(self, a,b):\n",
    "        print(a+b)\n",
    "        self.count += 1\n",
    "        print(\"계산된 횟수:\", self.count)\n"
   ]
  },
  {
   "cell_type": "code",
   "execution_count": 30,
   "metadata": {},
   "outputs": [
    {
     "name": "stdout",
     "output_type": "stream",
     "text": [
      "30\n",
      "계산된 횟수: 1\n"
     ]
    }
   ],
   "source": [
    "Calc.add(10,20)"
   ]
  },
  {
   "cell_type": "code",
   "execution_count": 31,
   "metadata": {},
   "outputs": [
    {
     "name": "stdout",
     "output_type": "stream",
     "text": [
      "70\n",
      "계산된 횟수: 2\n"
     ]
    }
   ],
   "source": [
    "Calc.add(30,40)"
   ]
  },
  {
   "cell_type": "code",
   "execution_count": 49,
   "metadata": {},
   "outputs": [],
   "source": [
    "class Car:\n",
    "    Car_count = 0\n",
    "    def __init__(self, name, displacement, production_day):\n",
    "        self.__name = name\n",
    "        self.__displacement = displacement\n",
    "        self.__production_day = production_day\n",
    "        Car.Car_count += 1\n",
    "    def change_car_name(self, change_name):\n",
    "        self.__name = change_name\n",
    "    def display_car_name(self):\n",
    "        print(\"차량 이름은 {}입니다.\".format(self.__name))\n",
    "    def display_car_count(self):\n",
    "        print(\"등록된 차량 개수: {}\".format(self.Car_count))"
   ]
  },
  {
   "cell_type": "code",
   "execution_count": 50,
   "metadata": {},
   "outputs": [],
   "source": [
    "car_1 = Car(\"A1\",100,1999)"
   ]
  },
  {
   "cell_type": "code",
   "execution_count": 51,
   "metadata": {},
   "outputs": [],
   "source": [
    "car_2 = Car(\"A2\",100,1999)"
   ]
  },
  {
   "cell_type": "code",
   "execution_count": 52,
   "metadata": {},
   "outputs": [
    {
     "name": "stdout",
     "output_type": "stream",
     "text": [
      "등록된 차량 개수: 2\n"
     ]
    }
   ],
   "source": [
    "car_1.display_car_count()"
   ]
  },
  {
   "cell_type": "code",
   "execution_count": 53,
   "metadata": {},
   "outputs": [],
   "source": [
    "car_1.change_car_name(\"B1\")"
   ]
  },
  {
   "cell_type": "code",
   "execution_count": 54,
   "metadata": {},
   "outputs": [
    {
     "name": "stdout",
     "output_type": "stream",
     "text": [
      "차량 이름은 B1입니다.\n"
     ]
    }
   ],
   "source": [
    "car_1.display_car_name()"
   ]
  },
  {
   "cell_type": "markdown",
   "metadata": {},
   "source": [
    "### 상속\n",
    "기반이 되는 클래스(부모)를 만들고\n",
    "새로운 클래스(자식)를 만들 때 기반이 되는 클래스 내용을 이어받는다.\n",
    "\n",
    "class 부모클래스:\n",
    "    코드\n",
    "\n",
    "class 자식클래스(기반클래스 이름):\n",
    "    코드"
   ]
  },
  {
   "cell_type": "code",
   "execution_count": 62,
   "metadata": {},
   "outputs": [],
   "source": [
    "#부모 클래스\n",
    "class Animal:\n",
    "    def __init__(self):\n",
    "        self.hungry = 0\n",
    "    def eat(self):\n",
    "        self.hungry -= 10\n",
    "        print(\"밥먹음\",self.hungry)\n",
    "    def walk(self):\n",
    "        self.hungry += 10\n",
    "        print(\"산책\",self.hungry)"
   ]
  },
  {
   "cell_type": "code",
   "execution_count": 63,
   "metadata": {},
   "outputs": [],
   "source": [
    "#자식 클래스\n",
    "class Dog(Animal):\n",
    "    def __init__(self):\n",
    "        super().__init__()\n",
    "    def sound(self):\n",
    "        print(\"멍멍\")\n",
    "        \n",
    "class Cat(Animal):\n",
    "    def __init__(self):\n",
    "        super().__init__()\n",
    "    def sound(self):\n",
    "        print(\"야옹\")"
   ]
  },
  {
   "cell_type": "code",
   "execution_count": 64,
   "metadata": {},
   "outputs": [],
   "source": [
    "dog = Dog()"
   ]
  },
  {
   "cell_type": "code",
   "execution_count": 65,
   "metadata": {},
   "outputs": [
    {
     "name": "stdout",
     "output_type": "stream",
     "text": [
      "멍멍\n"
     ]
    }
   ],
   "source": [
    "dog.sound()"
   ]
  },
  {
   "cell_type": "code",
   "execution_count": 66,
   "metadata": {},
   "outputs": [
    {
     "name": "stdout",
     "output_type": "stream",
     "text": [
      "산책 10\n"
     ]
    }
   ],
   "source": [
    "dog.walk()"
   ]
  },
  {
   "cell_type": "code",
   "execution_count": 67,
   "metadata": {},
   "outputs": [
    {
     "name": "stdout",
     "output_type": "stream",
     "text": [
      "밥먹음 0\n"
     ]
    }
   ],
   "source": [
    "dog.eat()"
   ]
  },
  {
   "cell_type": "code",
   "execution_count": 68,
   "metadata": {},
   "outputs": [],
   "source": [
    "cat = Cat()"
   ]
  },
  {
   "cell_type": "code",
   "execution_count": 69,
   "metadata": {},
   "outputs": [
    {
     "name": "stdout",
     "output_type": "stream",
     "text": [
      "야옹\n"
     ]
    }
   ],
   "source": [
    "cat.sound()"
   ]
  },
  {
   "cell_type": "markdown",
   "metadata": {},
   "source": [
    "### 추상클래스\n",
    "\n",
    "상속받는 클래스의 메서드 구현을 강제"
   ]
  },
  {
   "cell_type": "code",
   "execution_count": 88,
   "metadata": {},
   "outputs": [],
   "source": [
    "#부모 클래스\n",
    "from abc import *\n",
    "\n",
    "class Animal(metaclass=ABCMeta):\n",
    "    def __init__(self):\n",
    "        self.hungry = 0\n",
    "    @abstractmethod\n",
    "    def sound(self):\n",
    "        pass\n",
    "    def eat(self):\n",
    "        self.hungry -= 10\n",
    "        print(\"밥먹음\",self.hungry)\n",
    "    def walk(self):\n",
    "        self.hungry += 10\n",
    "        print(\"산책\",self.hungry)"
   ]
  },
  {
   "cell_type": "code",
   "execution_count": 89,
   "metadata": {},
   "outputs": [],
   "source": [
    "class Dog(Animal):\n",
    "    def __init__(self):\n",
    "        super().__init__()\n",
    "    def sound(self):\n",
    "        print(\"멍멍\")\n",
    "    def eat(self):\n",
    "        super().eat()\n",
    "        print(\"왈왈\")"
   ]
  },
  {
   "cell_type": "markdown",
   "metadata": {},
   "source": [
    "상속받는 클래스의 메서드 구현을 강제"
   ]
  },
  {
   "cell_type": "code",
   "execution_count": 90,
   "metadata": {},
   "outputs": [],
   "source": [
    "#부모 클래스\n",
    "\n",
    "class Animal():\n",
    "    def __init__(self):\n",
    "        self.hungry = 0\n",
    "    \n",
    "    def sound(self):\n",
    "        raise NotImplementedError\n",
    "    def eat(self):\n",
    "        self.hungry -= 10\n",
    "        print(\"밥먹음\",self.hungry)\n",
    "    def walk(self):\n",
    "        self.hungry += 10\n",
    "        print(\"산책\",self.hungry)"
   ]
  },
  {
   "cell_type": "code",
   "execution_count": 93,
   "metadata": {},
   "outputs": [],
   "source": [
    "class Dog(Animal):\n",
    "    def __init__(self):\n",
    "        super().__init__()\n",
    "    def sound(self):\n",
    "        print(\"멍멍\")\n",
    "    def eat(self):\n",
    "        super().eat()\n",
    "        print(\"왈왈\")"
   ]
  },
  {
   "cell_type": "code",
   "execution_count": null,
   "metadata": {},
   "outputs": [],
   "source": []
  }
 ],
 "metadata": {
  "kernelspec": {
   "display_name": "Python 3",
   "language": "python",
   "name": "python3"
  },
  "language_info": {
   "codemirror_mode": {
    "name": "ipython",
    "version": 3
   },
   "file_extension": ".py",
   "mimetype": "text/x-python",
   "name": "python",
   "nbconvert_exporter": "python",
   "pygments_lexer": "ipython3",
   "version": "3.7.3"
  }
 },
 "nbformat": 4,
 "nbformat_minor": 2
}
