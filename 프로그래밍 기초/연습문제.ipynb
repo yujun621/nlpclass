{
 "cells": [
  {
   "cell_type": "code",
   "execution_count": 25,
   "metadata": {},
   "outputs": [
    {
     "name": "stdout",
     "output_type": "stream",
     "text": [
      "5\n",
      "1\n",
      "11\n",
      "12\n",
      "1121\n",
      "122111\n"
     ]
    }
   ],
   "source": [
    "#문자열로 풀이\n",
    "n = int(input())\n",
    "\n",
    "temp_string = \"\"\n",
    "\n",
    "for i in range(n):\n",
    "    if i == 0: # 처음 시작 지정\n",
    "        temp_string = \"1\"\n",
    "        print(temp_string)\n",
    "    else:\n",
    "        current_string = \"\"\n",
    "        count = 0 \n",
    "        string_count = len(temp_string)\n",
    "        check_str = \"\" #문자 초기화\n",
    "        for j in range(string_count): # 문자열 시작 11            \n",
    "            if j == 0:                \n",
    "                check_str = temp_string[j]  # 문자를 체크str에 넣는다\n",
    "                current_string += temp_string[j] # 그 문자를 cureent_string에 넣는다\n",
    "                count = 1\n",
    "                if (string_count-1) <= j:  # 문자열 끝 확인\n",
    "                    current_string += str(count)\n",
    "            else: # 처음 시작이 아닐경우\n",
    "                \n",
    "                if check_str == temp_string[j]: #다음 문자를 체크한다\n",
    "                    count += 1                   #같은 문자일 경우  count ++\n",
    "                    if (string_count-1) <= j:  \n",
    "                        current_string += str(count)\n",
    "                else: #다른 문자일 경우 현재 count 를 추가한다\n",
    "                    current_string += str(count)\n",
    "                    check_str=temp_string[j]\n",
    "                    current_string +=check_str\n",
    "                    count = 1\n",
    "                    if (string_count-1) <= j:  \n",
    "                        current_string += str(count)\n",
    "                    \n",
    "        print(current_string)\n",
    "        temp_string = current_string"
   ]
  },
  {
   "cell_type": "code",
   "execution_count": 18,
   "metadata": {},
   "outputs": [
    {
     "name": "stdout",
     "output_type": "stream",
     "text": [
      "5\n",
      "[1]\n",
      "--------------------------------------------------\n",
      "[1, 1]\n",
      "--------------------------------------------------\n",
      "[1, 2]\n",
      "--------------------------------------------------\n",
      "[1, 1, 2, 1]\n",
      "--------------------------------------------------\n",
      "[1, 2, 2, 1, 1, 1]\n"
     ]
    }
   ],
   "source": [
    "#문제 풀이 해답\n",
    "\n",
    "n = int(input())\n",
    "\n",
    "temp_string = list()\n",
    "\n",
    "for i in range(n):\n",
    "    if i == 0: # 처음 시작 지정\n",
    "        temp_string.append(1)\n",
    "        print(temp_string)\n",
    "    else:\n",
    "        print(\"-\"*50)\n",
    "        next_string = list()\n",
    "        count = 0 \n",
    "        check_str = -1\n",
    "        for idx,val in enumerate(temp_string):            \n",
    "            if idx == 0:\n",
    "                check_str = val\n",
    "                next_string.append(check_str)\n",
    "                count = 1\n",
    "                if idx >= (len(temp_string)-1):\n",
    "                    next_string.append(count)\n",
    "            else:\n",
    "                if val == check_str:\n",
    "                    count+=1\n",
    "                    if idx >= (len(temp_string)-1):\n",
    "                        next_string.append(count)\n",
    "                else:\n",
    "                    next_string.append(count)\n",
    "                    check_str = val                    \n",
    "                    next_string.append(check_str)\n",
    "                    count = 1\n",
    "                    if idx >= (len(temp_string)-1):\n",
    "                        next_string.append(count)\n",
    "        print(next_string)\n",
    "        temp_string = next_string.copy()"
   ]
  },
  {
   "cell_type": "code",
   "execution_count": 16,
   "metadata": {},
   "outputs": [
    {
     "name": "stdout",
     "output_type": "stream",
     "text": [
      "[1, 2, 2, 1, 1, 1]\n"
     ]
    }
   ],
   "source": [
    "# 실수 표시\n",
    "n = int(input())\n",
    "\n",
    "temp_string = [1]\n",
    "\n",
    "for i in range(n):\n",
    "    temp_string=[1, 1, 2, 1]\n",
    "    next_string = list()\n",
    "    count = 0 \n",
    "    check_str = -1\n",
    "\n",
    "    for idx,val in enumerate(temp_string):            \n",
    "        if idx == 0:\n",
    "            check_str = val\n",
    "            next_string.append(check_str)\n",
    "            count = 1\n",
    "            ##------------- 실수 했던 부분 ----  \n",
    "            ##  처음 시작 시 바로 끝나는 경우 생각 못함\n",
    "        else:\n",
    "            if val == check_str:\n",
    "                count+=1\n",
    "                if idx >= (len(temp_string)-1):\n",
    "                    next_string.append(count)\n",
    "            else:\n",
    "                next_string.append(count)\n",
    "                check_str = val                    \n",
    "                next_string.append(check_str)\n",
    "                count = 1\n",
    "                if idx >= (len(temp_string)-1):\n",
    "                    next_string.append(count)\n",
    "    print(next_string)\n",
    "    temp_string = next_string.copy()"
   ]
  },
  {
   "cell_type": "code",
   "execution_count": 37,
   "metadata": {},
   "outputs": [
    {
     "name": "stdout",
     "output_type": "stream",
     "text": [
      "[1, 1, 2, 2, 1, 3]\n"
     ]
    }
   ],
   "source": [
    "temp_string=[1, 2, 2, 1, 1, 1]\n",
    "next_string = list()\n",
    "count = 0 \n",
    "check_str = -1\n",
    "\n",
    "for idx,val in enumerate(temp_string):            \n",
    "    if idx == 0:\n",
    "        check_str = val\n",
    "        next_string.append(check_str)\n",
    "        count = 1\n",
    "        if idx >= (len(temp_string)-1):\n",
    "            next_string.append(count)\n",
    "    else:\n",
    "        if val == check_str:\n",
    "            count+=1\n",
    "            if idx >= (len(temp_string)-1):\n",
    "                next_string.append(count)\n",
    "        else:\n",
    "            next_string.append(count)\n",
    "            check_str = val                    \n",
    "            next_string.append(check_str)\n",
    "            count = 1\n",
    "            if idx >= (len(temp_string)-1):\n",
    "                next_string.append(count)\n",
    "print(next_string)\n",
    "temp_string = next_string.copy()"
   ]
  },
  {
   "cell_type": "code",
   "execution_count": 32,
   "metadata": {},
   "outputs": [
    {
     "name": "stdout",
     "output_type": "stream",
     "text": [
      "fibo test 1: 1\n",
      "fibo test 2: 1\n",
      "fibo test 3: 2\n",
      "fibo test 4: 3\n",
      "fibo test 5: 5\n",
      "fibo test 6: 8\n",
      "fibo test 7: 13\n",
      "fibo test 8: 21\n",
      "fibo test 9: 34\n"
     ]
    }
   ],
   "source": [
    "#피보나치 수열\n",
    "temp = 1\n",
    "before_number = 0\n",
    "current_number= 0\n",
    "\n",
    "def fibo(n):\n",
    "    temp = 1\n",
    "    before_number = 0\n",
    "    current_number= 0\n",
    "    if n <= 1:\n",
    "        current_number = temp\n",
    "    else:\n",
    "        for i in range(n-1):\n",
    "            current_number = temp+before_number\n",
    "            before_number = temp\n",
    "            temp = current_number\n",
    "    return current_number\n",
    "\n",
    "for i in range(1,10):\n",
    "    print(\"fibo test {}: {}\".format(i,fibo(i)))    "
   ]
  },
  {
   "cell_type": "code",
   "execution_count": 36,
   "metadata": {},
   "outputs": [
    {
     "name": "stdout",
     "output_type": "stream",
     "text": [
      "fibo test 1: 1\n",
      "fibo test 2: 1\n",
      "fibo test 3: 2\n",
      "fibo test 4: 3\n",
      "fibo test 5: 5\n",
      "fibo test 6: 8\n",
      "fibo test 7: 13\n",
      "fibo test 8: 21\n",
      "fibo test 9: 34\n"
     ]
    }
   ],
   "source": [
    "def recur_fibo(n):\n",
    "    if n <= 2:\n",
    "        return 1\n",
    "    else:\n",
    "        return recur_fibo(n-2)+recur_fibo(n-1)\n",
    "    \n",
    "for i in range(1,10):\n",
    "    print(\"fibo test {}: {}\".format(i,recur_fibo(i)))    "
   ]
  },
  {
   "cell_type": "code",
   "execution_count": null,
   "metadata": {},
   "outputs": [],
   "source": []
  }
 ],
 "metadata": {
  "kernelspec": {
   "display_name": "Python 3",
   "language": "python",
   "name": "python3"
  },
  "language_info": {
   "codemirror_mode": {
    "name": "ipython",
    "version": 3
   },
   "file_extension": ".py",
   "mimetype": "text/x-python",
   "name": "python",
   "nbconvert_exporter": "python",
   "pygments_lexer": "ipython3",
   "version": "3.7.3"
  }
 },
 "nbformat": 4,
 "nbformat_minor": 2
}
