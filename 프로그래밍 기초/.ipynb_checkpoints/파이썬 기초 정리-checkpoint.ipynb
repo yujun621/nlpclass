{
 "cells": [
  {
   "cell_type": "code",
   "execution_count": 1,
   "metadata": {},
   "outputs": [
    {
     "name": "stdout",
     "output_type": "stream",
     "text": [
      "hello world\n"
     ]
    }
   ],
   "source": [
    "print(\"hello world\")"
   ]
  },
  {
   "cell_type": "markdown",
   "metadata": {},
   "source": [
    "x=10\n",
    "변수 = 자료\n",
    "\n",
    "int 정수\n",
    "float 실수\n",
    "bool 참/거짓\n",
    "str 문자열\n",
    "list 리스트\n",
    "tuple 튜플형\n",
    "set 집합\n",
    "dict 딕셔너리"
   ]
  },
  {
   "cell_type": "code",
   "execution_count": 5,
   "metadata": {},
   "outputs": [
    {
     "name": "stdout",
     "output_type": "stream",
     "text": [
      "<class 'int'>\n",
      "<class 'float'>\n",
      "<class 'bool'>\n",
      "<class 'str'>\n",
      "<class 'list'>\n",
      "<class 'tuple'>\n",
      "<class 'set'>\n",
      "<class 'dict'>\n"
     ]
    }
   ],
   "source": [
    "#정수\n",
    "print(type(10))\n",
    "#실수\n",
    "print(type(10.1))\n",
    "#bool\n",
    "print(type(True))\n",
    "#문자열\n",
    "print(type(\"hello python\"))\n",
    "#리스트\n",
    "print(type([1,2,3,4]))\n",
    "#튜플\n",
    "print(type((1,2,3,4)))\n",
    "#집합\n",
    "print(type({1,2,3,4}))\n",
    "#딕셔너리\n",
    "print(type({\n",
    "    'name':'jihun',\n",
    "    'height':183}))"
   ]
  },
  {
   "cell_type": "markdown",
   "metadata": {},
   "source": [
    "사칙연산\n",
    "+,-,*,/\n",
    "제곱**, 몫 //, 나머지연산 %"
   ]
  },
  {
   "cell_type": "markdown",
   "metadata": {},
   "source": [
    "### 연습문제 1\n",
    "a =7, b = 3.0 초기화\n",
    "a를 b로 나누었을 때 몫과 나머지를 각각 c와 d라는 변수에 초기화한 후 출력하라.\n",
    "그리고 e라는 변수에 a의 b제곱을 초기화하고 출력하라"
   ]
  },
  {
   "cell_type": "code",
   "execution_count": 7,
   "metadata": {},
   "outputs": [
    {
     "name": "stdout",
     "output_type": "stream",
     "text": [
      "2.0\n",
      "1.0\n",
      "343.0\n"
     ]
    }
   ],
   "source": [
    "a,b = 7, 3.0\n",
    "# code 시작\n",
    "c = a//b\n",
    "d = a%b\n",
    "e = a**b\n",
    "\n",
    "print(c)\n",
    "print(d)\n",
    "print(e)\n",
    "# code 종료"
   ]
  },
  {
   "cell_type": "markdown",
   "metadata": {},
   "source": [
    "### 연습문제2\n",
    "\n",
    "반 평균을 구하시오.\n",
    "변수 이름을 학생 이름으로 하고 반드시 정수로 출력\n",
    "mike 80, judy 75, sera 100"
   ]
  },
  {
   "cell_type": "code",
   "execution_count": 8,
   "metadata": {},
   "outputs": [
    {
     "name": "stdout",
     "output_type": "stream",
     "text": [
      "85\n"
     ]
    }
   ],
   "source": [
    "mike, judy, sera = 80, 75, 100\n",
    "avg = (mike+ judy+ sera)/3\n",
    "print(int(avg))"
   ]
  },
  {
   "cell_type": "markdown",
   "metadata": {},
   "source": [
    "str, list, tuple, set, dict 등 요소가 있는 자료형은 요소가 있으면 True, 요소가 없으면 False"
   ]
  },
  {
   "cell_type": "code",
   "execution_count": 3,
   "metadata": {},
   "outputs": [
    {
     "name": "stdout",
     "output_type": "stream",
     "text": [
      "첫 번째 점수를 입력하세요80\n",
      "두 번째 점수를 입력하세요90\n",
      "세 번째 점수를 입력하세요100\n",
      "True\n"
     ]
    }
   ],
   "source": [
    "user_number_1 = float(input(\"첫 번째 점수를 입력하세요\"))\n",
    "user_number_2 = float(input(\"두 번째 점수를 입력하세요\"))\n",
    "user_number_3 = float(input(\"세 번째 점수를 입력하세요\"))\n",
    "\n",
    "if user_number_1>65 and user_number_2>65 and user_number_3>65:\n",
    "    print(True)\n",
    "else:\n",
    "    print(False)"
   ]
  },
  {
   "cell_type": "markdown",
   "metadata": {},
   "source": [
    "비어있는 변수 (Null)\n",
    "\n",
    "None"
   ]
  },
  {
   "cell_type": "code",
   "execution_count": 4,
   "metadata": {},
   "outputs": [
    {
     "name": "stdout",
     "output_type": "stream",
     "text": [
      "None\n",
      "<class 'NoneType'>\n"
     ]
    }
   ],
   "source": [
    "x = None\n",
    "print(x)\n",
    "print(type(x))"
   ]
  },
  {
   "cell_type": "markdown",
   "metadata": {},
   "source": [
    "## 문자열"
   ]
  },
  {
   "cell_type": "code",
   "execution_count": 8,
   "metadata": {},
   "outputs": [
    {
     "name": "stdout",
     "output_type": "stream",
     "text": [
      "Hello, World\n",
      "Hello, World \n",
      "Hello, Python\n"
     ]
    }
   ],
   "source": [
    "first = \"Hello, World\"\n",
    "multi = \"\"\"Hello, World \n",
    "Hello, Python\"\"\"\n",
    "\n",
    "print(first)\n",
    "print(multi)"
   ]
  },
  {
   "cell_type": "markdown",
   "metadata": {},
   "source": [
    "#### 문자열 연산\n",
    "\"과일\" + \"사과\" = \"과일사과\"\n",
    "\n",
    "\"과일\" * 3 = \"과일과일과일\"\n",
    "\n",
    "\\n 엔터 개행\n",
    "\n",
    "\\t 4칸 또는 일정한 칸 개행 \n",
    "\n",
    "\\\\ \\를 출력할 때\n",
    "\n",
    "\\\" \"를 출력할 때\n",
    "\n",
    "\\' '를 출력할 때"
   ]
  },
  {
   "cell_type": "code",
   "execution_count": 9,
   "metadata": {},
   "outputs": [
    {
     "name": "stdout",
     "output_type": "stream",
     "text": [
      "hi \n",
      "friend\n",
      "hi \tfriend\n",
      "hi \\friend\n",
      "hi \"friend\n",
      "hi 'friend\n"
     ]
    }
   ],
   "source": [
    "print(\"hi \\nfriend\")\n",
    "print(\"hi \\tfriend\")\n",
    "print(\"hi \\\\friend\")\n",
    "print(\"hi \\\"friend\")\n",
    "print(\"hi \\'friend\")"
   ]
  },
  {
   "cell_type": "markdown",
   "metadata": {},
   "source": [
    "####문자열 인덱싱\n",
    "\n",
    "s[i] i번째 항 \n",
    "\n",
    "s[i:j] i번째 항 이상 j번째 미만 \n",
    "\n",
    "s[i:j:k] i번째 항 이상 j번째 미만 k만큼 건너 뛰면서 \n",
    "\n",
    "s[-i] -index "
   ]
  },
  {
   "cell_type": "code",
   "execution_count": 11,
   "metadata": {},
   "outputs": [
    {
     "name": "stdout",
     "output_type": "stream",
     "text": [
      "s[0]? h s[6]? w\n",
      "s[:5]? hello s[6:]? world\n",
      "s[::2]? hlowrd s[1:6:3]? eo\n",
      "s[-1]? d s[1:-4:3]? eo\n"
     ]
    }
   ],
   "source": [
    "s = \"hello world\"\n",
    "\n",
    "print(\"s[0]?\",s[0],\"s[6]?\",s[6])\n",
    "print(\"s[:5]?\",s[:5],\"s[6:]?\",s[6:])\n",
    "print(\"s[::2]?\",s[::2],\"s[1:6:3]?\",s[1:6:3])\n",
    "print(\"s[-1]?\",s[-1],\"s[1:-4:3]?\",s[1:-4:3])"
   ]
  },
  {
   "cell_type": "markdown",
   "metadata": {},
   "source": [
    "#### 서식 지정자\n",
    "%s 문자, %d 정수 %f 실수 \n",
    "\n",
    "%.(숫자)f 소수점 이하 자리수"
   ]
  },
  {
   "cell_type": "code",
   "execution_count": 13,
   "metadata": {},
   "outputs": [
    {
     "name": "stdout",
     "output_type": "stream",
     "text": [
      "i am tom!\n",
      "i am tom!\n",
      "i am        tom!\n",
      "i am tom       !\n",
      "i like apple, banana!!\n"
     ]
    }
   ],
   "source": [
    "# \"문자열 %s 문자열\" % \"추가문자\"\n",
    "name = \"tom\"\n",
    "print(\"i am \"+name+\"!\") # +사용\n",
    "print(\"i am %s!\" %name) #서식 지정자 사용\n",
    "\n",
    "# %(공백 level)s 공백추가\n",
    "print(\"i am %10s!\" %name)\n",
    "print(\"i am %-10s!\" %name)\n",
    "\n",
    "# 여러 개의 추가문자\n",
    "f1, f2 = \"apple\", \"banana\"\n",
    "print(\"i like %s, %s!!\" %(f1,f2))"
   ]
  },
  {
   "cell_type": "markdown",
   "metadata": {},
   "source": [
    "#### Format 함수"
   ]
  },
  {
   "cell_type": "code",
   "execution_count": 26,
   "metadata": {},
   "outputs": [
    {
     "name": "stdout",
     "output_type": "stream",
     "text": [
      "I like apple, banana !!\n",
      "Number 1, 3, 2 !!\n",
      "Number 1, 2, 3 !!\n",
      "Number    1!\n",
      "Number 1   !\n",
      "Number 1===!\n",
      "Number --1--!\n"
     ]
    }
   ],
   "source": [
    "# \"문자열 {0},{1} 문자열\".format(값,값)\n",
    "\n",
    "print(\"I like {0}, {1} !!\".format(\"apple\", \"banana\"))\n",
    "print(\"Number {0}, {2}, {1} !!\".format(1,2,3))\n",
    "print(\"Number {}, {}, {} !!\".format(1,2,3))\n",
    "\n",
    "print(\"Number {0:>4}!\".format(1))\n",
    "print(\"Number {0:<4}!\".format(1))\n",
    "print(\"Number {0:=<4}!\".format(1))\n",
    "print(\"Number {0:-^5}!\".format(1))"
   ]
  },
  {
   "cell_type": "markdown",
   "metadata": {},
   "source": [
    "#### f문자열 (python >= 3.6)\n"
   ]
  },
  {
   "cell_type": "code",
   "execution_count": 28,
   "metadata": {},
   "outputs": [
    {
     "name": "stdout",
     "output_type": "stream",
     "text": [
      "수학점수:95 \n",
      "영어점수:----65----\n",
      "과학점수:40\n",
      "수학점수:100 \n",
      "영어점수:----65----\n",
      "과학점수:40\n"
     ]
    }
   ],
   "source": [
    "math = 95\n",
    "english = 65\n",
    "science =40\n",
    "\n",
    "print(f\"수학점수:{math} \\n영어점수:{english:-^10}\\n과학점수:{science}\") \n",
    "print(f\"수학점수:{math+5} \\n영어점수:{english:-^10}\\n과학점수:{science}\") "
   ]
  },
  {
   "cell_type": "markdown",
   "metadata": {},
   "source": [
    "### 연습문제 4\n",
    "a=\"20190505chicken19000\"는 잘못 쓰여진 변수이다.\n",
    "2019는 year이라는 변수에, 그 다음 0505를 day라는 변수\n",
    "chicken을 menu라는 변수에, 19000을 money라는 변수에 인덱싱을 사용하여 각각 저장하고 출력하시오."
   ]
  },
  {
   "cell_type": "code",
   "execution_count": 30,
   "metadata": {},
   "outputs": [
    {
     "name": "stdout",
     "output_type": "stream",
     "text": [
      "2019\n",
      "0505\n",
      "chicken\n",
      "19000\n"
     ]
    }
   ],
   "source": [
    "a=\"20190505chicken19000\"\n",
    "\n",
    "#code 작성\n",
    "\n",
    "year = a[0:4]\n",
    "day = a[4:8]\n",
    "menu = a[8:15]\n",
    "money = a[-5:]\n",
    "\n",
    "print(year)\n",
    "print(day)\n",
    "print(menu)\n",
    "print(money)"
   ]
  },
  {
   "cell_type": "markdown",
   "metadata": {},
   "source": [
    "### 연습문제 5\n",
    "a = \"90:30:80\"이고 :을 기준으로 각각 수학점수, 영어점수, 과학점수이다.\n",
    "문자열 인덱싱을 이용해 각 점수를 각각 \n",
    "math, english, science 변수에 저장하고, average란 변수에 평균값을 저장하고 출력하시오."
   ]
  },
  {
   "cell_type": "code",
   "execution_count": 31,
   "metadata": {},
   "outputs": [
    {
     "name": "stdout",
     "output_type": "stream",
     "text": [
      "66.66666666666667\n"
     ]
    }
   ],
   "source": [
    "a = \"90:30:80\"\n",
    "\n",
    "#code 작성\n",
    "\n",
    "math = float(a[:2])\n",
    "english = float(a[3:5])\n",
    "science = float(a[-2:])\n",
    "\n",
    "average = (math+english+science)/3\n",
    "\n",
    "print(average)"
   ]
  },
  {
   "cell_type": "code",
   "execution_count": null,
   "metadata": {},
   "outputs": [],
   "source": []
  },
  {
   "cell_type": "markdown",
   "metadata": {},
   "source": []
  }
 ],
 "metadata": {
  "kernelspec": {
   "display_name": "Python 3",
   "language": "python",
   "name": "python3"
  },
  "language_info": {
   "codemirror_mode": {
    "name": "ipython",
    "version": 3
   },
   "file_extension": ".py",
   "mimetype": "text/x-python",
   "name": "python",
   "nbconvert_exporter": "python",
   "pygments_lexer": "ipython3",
   "version": "3.7.3"
  }
 },
 "nbformat": 4,
 "nbformat_minor": 2
}
