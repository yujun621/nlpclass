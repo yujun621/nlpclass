{
 "cells": [
  {
   "cell_type": "markdown",
   "metadata": {},
   "source": [
    "# 함수\n",
    "\n",
    "    함수이름(인자):\n",
    "    \n",
    "def func(a,b):              \n",
    "\n",
    "    ~~~~~~~~ 코드블럭\n",
    "    \n",
    "    ~~~~~~~~ 코드블럭\n",
    "    \n",
    "    ~~~~~~~~ 코드블럭\n",
    "    \n",
    "    ~~~~~~~~ 코드블럭\n",
    "    \n",
    "    return val 반환값"
   ]
  },
  {
   "cell_type": "markdown",
   "metadata": {},
   "source": [
    "### 연습문제 1\n",
    "\n",
    "사칙연산 함수 만들기"
   ]
  },
  {
   "cell_type": "code",
   "execution_count": 1,
   "metadata": {},
   "outputs": [],
   "source": [
    "def calc(a,b):\n",
    "    print(a + b)\n",
    "    print(a - b)\n",
    "    print(a * b)\n",
    "    print(a / b)\n",
    "    return"
   ]
  },
  {
   "cell_type": "code",
   "execution_count": 2,
   "metadata": {},
   "outputs": [
    {
     "name": "stdout",
     "output_type": "stream",
     "text": [
      "11\n",
      "-1\n",
      "30\n",
      "0.8333333333333334\n"
     ]
    }
   ],
   "source": [
    "calc(5,6)"
   ]
  },
  {
   "cell_type": "markdown",
   "metadata": {},
   "source": [
    "### 연습문제 2\n",
    "\n",
    "해당값을 모두 찾아 위치를 리턴해주는 함수만들기\n",
    "\n",
    "lis = [1,2,3,1,4,2,1]\n",
    "\n",
    "allindex(lis,1)\n",
    "\n",
    "[0,3,6]"
   ]
  },
  {
   "cell_type": "code",
   "execution_count": 3,
   "metadata": {},
   "outputs": [],
   "source": [
    "def allindex(input_list, find_val):\n",
    "    find_index = list()\n",
    "    for idx, val in enumerate(input_list):\n",
    "        if find_val == val:\n",
    "            find_index.append(idx)\n",
    "    return find_index"
   ]
  },
  {
   "cell_type": "code",
   "execution_count": 4,
   "metadata": {},
   "outputs": [
    {
     "data": {
      "text/plain": [
       "[0, 3, 6]"
      ]
     },
     "execution_count": 4,
     "metadata": {},
     "output_type": "execute_result"
    }
   ],
   "source": [
    "lis = [1,2,3,1,4,2,1]\n",
    "allindex(lis,1)"
   ]
  },
  {
   "cell_type": "markdown",
   "metadata": {},
   "source": [
    "### lambda 함수\n",
    "\n",
    "이름 없는 함수\n",
    "\n",
    "(lambda <인자>:<코드>)(전달인자)"
   ]
  },
  {
   "cell_type": "code",
   "execution_count": 5,
   "metadata": {},
   "outputs": [
    {
     "data": {
      "text/plain": [
       "9"
      ]
     },
     "execution_count": 5,
     "metadata": {},
     "output_type": "execute_result"
    }
   ],
   "source": [
    "(lambda x : x**2)(3)"
   ]
  },
  {
   "cell_type": "code",
   "execution_count": 6,
   "metadata": {},
   "outputs": [],
   "source": [
    "temp_func = lambda x,y:x*y"
   ]
  },
  {
   "cell_type": "code",
   "execution_count": 7,
   "metadata": {},
   "outputs": [
    {
     "data": {
      "text/plain": [
       "27"
      ]
     },
     "execution_count": 7,
     "metadata": {},
     "output_type": "execute_result"
    }
   ],
   "source": [
    "temp_func(3,9)"
   ]
  },
  {
   "cell_type": "code",
   "execution_count": 8,
   "metadata": {},
   "outputs": [
    {
     "name": "stdout",
     "output_type": "stream",
     "text": [
      "1 2 3\n"
     ]
    }
   ],
   "source": [
    "# 인자값에 리스트 사용(언패킹)\n",
    "def func(a,b,c):\n",
    "    print(a,b,c)\n",
    "x = [1,2,3]\n",
    "func(*x)"
   ]
  },
  {
   "cell_type": "code",
   "execution_count": 9,
   "metadata": {},
   "outputs": [
    {
     "name": "stdout",
     "output_type": "stream",
     "text": [
      "1\n",
      "1\n",
      "2\n",
      "3\n",
      "4\n",
      "5\n"
     ]
    }
   ],
   "source": [
    "#가변인수\n",
    "def func(*args):\n",
    "    for arg in args:\n",
    "        print(arg)\n",
    "func(1)\n",
    "func(1,2,3,4,5)"
   ]
  },
  {
   "cell_type": "code",
   "execution_count": 10,
   "metadata": {},
   "outputs": [
    {
     "name": "stdout",
     "output_type": "stream",
     "text": [
      "10012345"
     ]
    }
   ],
   "source": [
    "#가변인수와 고정인수 같이사용\n",
    "def func(a, *args):\n",
    "    print(a, end=\"\")\n",
    "    for arg in args:\n",
    "        print(arg, end=\"\")\n",
    "func(100,1,2,3,4,5)"
   ]
  },
  {
   "cell_type": "code",
   "execution_count": 15,
   "metadata": {},
   "outputs": [
    {
     "name": "stdout",
     "output_type": "stream",
     "text": [
      "이메일: aa@aa.com\n",
      "이름: tom\n",
      "이메일: email\n",
      "이름: name\n",
      "이메일: aa@aa.com\n",
      "이름: tom\n"
     ]
    }
   ],
   "source": [
    "#키워드 인수 & 딕셔너리 언패킹\n",
    "def func(email, name):\n",
    "    print(\"이메일:\", email)\n",
    "    print(\"이름:\",name)\n",
    "\n",
    "func(email = \"aa@aa.com\", name = \"tom\")\n",
    "x =  {\"email\":\"aa@aa.com\", \"name\":\"tom\"}\n",
    "func(*x) #keys\n",
    "func(**x) #values"
   ]
  },
  {
   "cell_type": "code",
   "execution_count": 16,
   "metadata": {},
   "outputs": [
    {
     "name": "stdout",
     "output_type": "stream",
     "text": [
      "이메일: aa@aa.com\n",
      "이름: tom\n"
     ]
    }
   ],
   "source": [
    "#가변 키워드 인수\n",
    "def func(**kwargs):\n",
    "    print(\"이메일:\", kwargs[\"email\"])\n",
    "    print(\"이름:\", kwargs[\"name\"])\n",
    "\n",
    "func(email=\"aa@aa.com\", name = \"tom\")"
   ]
  },
  {
   "cell_type": "code",
   "execution_count": 18,
   "metadata": {},
   "outputs": [
    {
     "name": "stdout",
     "output_type": "stream",
     "text": [
      "이메일: aaaaa\n",
      "이름: tom\n",
      "나이: 20\n",
      "이메일: aabbbb\n",
      "이름: tom\n",
      "나이: 11\n"
     ]
    }
   ],
   "source": [
    "def func(email,name,age=20):\n",
    "    print(\"이메일:\",email)\n",
    "    print(\"이름:\",name)\n",
    "    print(\"나이:\",age)\n",
    "\n",
    "func(email=\"aaaaa\",name=\"tom\")\n",
    "func(email=\"aabbbb\",name=\"tom\",age=11)"
   ]
  },
  {
   "cell_type": "code",
   "execution_count": 20,
   "metadata": {},
   "outputs": [
    {
     "name": "stdout",
     "output_type": "stream",
     "text": [
      "15\n",
      "-13\n",
      "120\n"
     ]
    }
   ],
   "source": [
    "\n",
    "def calc(formula, *args):\n",
    "    result=0\n",
    "    \n",
    "    if formula == \"+\":\n",
    "        for idx, arg in enumerate(args):\n",
    "            if idx == 0:\n",
    "                result = arg\n",
    "            else:\n",
    "                result += arg\n",
    "    elif formula == \"-\":\n",
    "         for idx, arg in enumerate(args):\n",
    "            if idx == 0:\n",
    "                result = arg\n",
    "            else:\n",
    "                result -= arg\n",
    "    elif formula == \"*\":\n",
    "        for idx, arg in enumerate(args):\n",
    "            if idx == 0:\n",
    "                result = arg\n",
    "            else:\n",
    "                result *= arg\n",
    "    else:\n",
    "        print(\"해당 연산자가 없습니다.\")\n",
    "        return result\n",
    "    return result\n",
    "\n",
    "print(calc(\"+\",1,2,3,4,5))\n",
    "print(calc(\"-\",1,2,3,4,5))\n",
    "print(calc(\"*\",1,2,3,4,5))"
   ]
  },
  {
   "cell_type": "markdown",
   "metadata": {},
   "source": [
    "### 연습문제4\n",
    "\n",
    "가변인수를 이용 가장 높은 값, 낮은 값, 평균 값을 구하는 함수 작성"
   ]
  },
  {
   "cell_type": "code",
   "execution_count": 25,
   "metadata": {},
   "outputs": [],
   "source": [
    "def calc(*arg):\n",
    "    max_val = -1000000\n",
    "    min_val = 1000000\n",
    "    sum_val = 0\n",
    "    count = 0\n",
    "    for i in arg:\n",
    "        if max_val < i:\n",
    "            max_val = i\n",
    "        if min_val > i:\n",
    "            min_val = i\n",
    "        sum_val += i\n",
    "        count += 1\n",
    "    print(\"최대값:{0}, 최소값:{1}, 평균값:{2}\".format(max_val, min_val, (sum_val/count)))"
   ]
  },
  {
   "cell_type": "code",
   "execution_count": 26,
   "metadata": {},
   "outputs": [
    {
     "name": "stdout",
     "output_type": "stream",
     "text": [
      "최대값:5, 최소값:1, 평균값:3.0\n"
     ]
    }
   ],
   "source": [
    "calc(1,2,3,4,5)"
   ]
  },
  {
   "cell_type": "code",
   "execution_count": null,
   "metadata": {},
   "outputs": [],
   "source": []
  }
 ],
 "metadata": {
  "kernelspec": {
   "display_name": "Python 3",
   "language": "python",
   "name": "python3"
  },
  "language_info": {
   "codemirror_mode": {
    "name": "ipython",
    "version": 3
   },
   "file_extension": ".py",
   "mimetype": "text/x-python",
   "name": "python",
   "nbconvert_exporter": "python",
   "pygments_lexer": "ipython3",
   "version": "3.7.3"
  }
 },
 "nbformat": 4,
 "nbformat_minor": 2
}
