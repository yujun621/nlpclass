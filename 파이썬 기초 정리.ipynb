{
 "cells": [
  {
   "cell_type": "code",
   "execution_count": 1,
   "metadata": {},
   "outputs": [
    {
     "name": "stdout",
     "output_type": "stream",
     "text": [
      "hello world\n"
     ]
    }
   ],
   "source": [
    "print(\"hello world\")"
   ]
  },
  {
   "cell_type": "markdown",
   "metadata": {},
   "source": [
    "x=10\n",
    "변수 = 자료\n",
    "\n",
    "int 정수\n",
    "float 실수\n",
    "bool 참/거짓\n",
    "str 문자열\n",
    "list 리스트\n",
    "tuple 튜플형\n",
    "set 집합\n",
    "dict 딕셔너리"
   ]
  },
  {
   "cell_type": "code",
   "execution_count": 5,
   "metadata": {},
   "outputs": [
    {
     "name": "stdout",
     "output_type": "stream",
     "text": [
      "<class 'int'>\n",
      "<class 'float'>\n",
      "<class 'bool'>\n",
      "<class 'str'>\n",
      "<class 'list'>\n",
      "<class 'tuple'>\n",
      "<class 'set'>\n",
      "<class 'dict'>\n"
     ]
    }
   ],
   "source": [
    "#정수\n",
    "print(type(10))\n",
    "#실수\n",
    "print(type(10.1))\n",
    "#bool\n",
    "print(type(True))\n",
    "#문자열\n",
    "print(type(\"hello python\"))\n",
    "#리스트\n",
    "print(type([1,2,3,4]))\n",
    "#튜플\n",
    "print(type((1,2,3,4)))\n",
    "#집합\n",
    "print(type({1,2,3,4}))\n",
    "#딕셔너리\n",
    "print(type({\n",
    "    'name':'jihun',\n",
    "    'height':183}))"
   ]
  },
  {
   "cell_type": "markdown",
   "metadata": {},
   "source": [
    "사칙연산\n",
    "+,-,*,/\n",
    "제곱**, 몫 //, 나머지연산 %"
   ]
  },
  {
   "cell_type": "markdown",
   "metadata": {},
   "source": [
    "### 연습문제 1\n",
    "a =7, b = 3.0 초기화\n",
    "a를 b로 나누었을 때 몫과 나머지를 각각 c와 d라는 변수에 초기화한 후 출력하라.\n",
    "그리고 e라는 변수에 a의 b제곱을 초기화하고 출력하라"
   ]
  },
  {
   "cell_type": "code",
   "execution_count": 7,
   "metadata": {},
   "outputs": [
    {
     "name": "stdout",
     "output_type": "stream",
     "text": [
      "2.0\n",
      "1.0\n",
      "343.0\n"
     ]
    }
   ],
   "source": [
    "a,b = 7, 3.0\n",
    "# code 시작\n",
    "c = a//b\n",
    "d = a%b\n",
    "e = a**b\n",
    "\n",
    "print(c)\n",
    "print(d)\n",
    "print(e)\n",
    "# code 종료"
   ]
  },
  {
   "cell_type": "markdown",
   "metadata": {},
   "source": [
    "### 연습문제2\n",
    "\n",
    "반 평균을 구하시오.\n",
    "변수 이름을 학생 이름으로 하고 반드시 정수로 출력\n",
    "mike 80, judy 75, sera 100"
   ]
  },
  {
   "cell_type": "code",
   "execution_count": 8,
   "metadata": {},
   "outputs": [
    {
     "name": "stdout",
     "output_type": "stream",
     "text": [
      "85\n"
     ]
    }
   ],
   "source": [
    "mike, judy, sera = 80, 75, 100\n",
    "avg = (mike+ judy+ sera)/3\n",
    "print(int(avg))"
   ]
  },
  {
   "cell_type": "markdown",
   "metadata": {},
   "source": [
    "str, list, tuple, set, dict 등 요소가 있는 자료형은 요소가 있으면 True, 요소가 없으면 False"
   ]
  },
  {
   "cell_type": "code",
   "execution_count": 3,
   "metadata": {},
   "outputs": [
    {
     "name": "stdout",
     "output_type": "stream",
     "text": [
      "첫 번째 점수를 입력하세요80\n",
      "두 번째 점수를 입력하세요90\n",
      "세 번째 점수를 입력하세요100\n",
      "True\n"
     ]
    }
   ],
   "source": [
    "user_number_1 = float(input(\"첫 번째 점수를 입력하세요\"))\n",
    "user_number_2 = float(input(\"두 번째 점수를 입력하세요\"))\n",
    "user_number_3 = float(input(\"세 번째 점수를 입력하세요\"))\n",
    "\n",
    "if user_number_1>65 and user_number_2>65 and user_number_3>65:\n",
    "    print(True)\n",
    "else:\n",
    "    print(False)"
   ]
  },
  {
   "cell_type": "markdown",
   "metadata": {},
   "source": [
    "비어있는 변수 (Null)\n",
    "\n",
    "None"
   ]
  },
  {
   "cell_type": "code",
   "execution_count": 4,
   "metadata": {},
   "outputs": [
    {
     "name": "stdout",
     "output_type": "stream",
     "text": [
      "None\n",
      "<class 'NoneType'>\n"
     ]
    }
   ],
   "source": [
    "x = None\n",
    "print(x)\n",
    "print(type(x))"
   ]
  },
  {
   "cell_type": "markdown",
   "metadata": {},
   "source": [
    "## 문자열"
   ]
  },
  {
   "cell_type": "code",
   "execution_count": 8,
   "metadata": {},
   "outputs": [
    {
     "name": "stdout",
     "output_type": "stream",
     "text": [
      "Hello, World\n",
      "Hello, World \n",
      "Hello, Python\n"
     ]
    }
   ],
   "source": [
    "first = \"Hello, World\"\n",
    "multi = \"\"\"Hello, World \n",
    "Hello, Python\"\"\"\n",
    "\n",
    "print(first)\n",
    "print(multi)"
   ]
  },
  {
   "cell_type": "markdown",
   "metadata": {},
   "source": [
    "#### 문자열 연산\n",
    "\"과일\" + \"사과\" = \"과일사과\"\n",
    "\n",
    "\"과일\" * 3 = \"과일과일과일\"\n",
    "\n",
    "\\n 엔터 개행\n",
    "\n",
    "\\t 4칸 또는 일정한 칸 개행 \n",
    "\n",
    "\\\\ \\를 출력할 때\n",
    "\n",
    "\\\" \"를 출력할 때\n",
    "\n",
    "\\' '를 출력할 때"
   ]
  },
  {
   "cell_type": "code",
   "execution_count": 9,
   "metadata": {},
   "outputs": [
    {
     "name": "stdout",
     "output_type": "stream",
     "text": [
      "hi \n",
      "friend\n",
      "hi \tfriend\n",
      "hi \\friend\n",
      "hi \"friend\n",
      "hi 'friend\n"
     ]
    }
   ],
   "source": [
    "print(\"hi \\nfriend\")\n",
    "print(\"hi \\tfriend\")\n",
    "print(\"hi \\\\friend\")\n",
    "print(\"hi \\\"friend\")\n",
    "print(\"hi \\'friend\")"
   ]
  },
  {
   "cell_type": "markdown",
   "metadata": {},
   "source": [
    "####문자열 인덱싱\n",
    "\n",
    "s[i] i번째 항 \n",
    "\n",
    "s[i:j] i번째 항 이상 j번째 미만 \n",
    "\n",
    "s[i:j:k] i번째 항 이상 j번째 미만 k만큼 건너 뛰면서 \n",
    "\n",
    "s[-i] -index "
   ]
  },
  {
   "cell_type": "code",
   "execution_count": 11,
   "metadata": {},
   "outputs": [
    {
     "name": "stdout",
     "output_type": "stream",
     "text": [
      "s[0]? h s[6]? w\n",
      "s[:5]? hello s[6:]? world\n",
      "s[::2]? hlowrd s[1:6:3]? eo\n",
      "s[-1]? d s[1:-4:3]? eo\n"
     ]
    }
   ],
   "source": [
    "s = \"hello world\"\n",
    "\n",
    "print(\"s[0]?\",s[0],\"s[6]?\",s[6])\n",
    "print(\"s[:5]?\",s[:5],\"s[6:]?\",s[6:])\n",
    "print(\"s[::2]?\",s[::2],\"s[1:6:3]?\",s[1:6:3])\n",
    "print(\"s[-1]?\",s[-1],\"s[1:-4:3]?\",s[1:-4:3])"
   ]
  },
  {
   "cell_type": "markdown",
   "metadata": {},
   "source": [
    "#### 서식 지정자\n",
    "%s 문자, %d 정수 %f 실수 \n",
    "\n",
    "%.(숫자)f 소수점 이하 자리수"
   ]
  },
  {
   "cell_type": "code",
   "execution_count": 13,
   "metadata": {},
   "outputs": [
    {
     "name": "stdout",
     "output_type": "stream",
     "text": [
      "i am tom!\n",
      "i am tom!\n",
      "i am        tom!\n",
      "i am tom       !\n",
      "i like apple, banana!!\n"
     ]
    }
   ],
   "source": [
    "# \"문자열 %s 문자열\" % \"추가문자\"\n",
    "name = \"tom\"\n",
    "print(\"i am \"+name+\"!\") # +사용\n",
    "print(\"i am %s!\" %name) #서식 지정자 사용\n",
    "\n",
    "# %(공백 level)s 공백추가\n",
    "print(\"i am %10s!\" %name)\n",
    "print(\"i am %-10s!\" %name)\n",
    "\n",
    "# 여러 개의 추가문자\n",
    "f1, f2 = \"apple\", \"banana\"\n",
    "print(\"i like %s, %s!!\" %(f1,f2))"
   ]
  },
  {
   "cell_type": "markdown",
   "metadata": {},
   "source": [
    "#### Format 함수"
   ]
  },
  {
   "cell_type": "code",
   "execution_count": 26,
   "metadata": {},
   "outputs": [
    {
     "name": "stdout",
     "output_type": "stream",
     "text": [
      "I like apple, banana !!\n",
      "Number 1, 3, 2 !!\n",
      "Number 1, 2, 3 !!\n",
      "Number    1!\n",
      "Number 1   !\n",
      "Number 1===!\n",
      "Number --1--!\n"
     ]
    }
   ],
   "source": [
    "# \"문자열 {0},{1} 문자열\".format(값,값)\n",
    "\n",
    "print(\"I like {0}, {1} !!\".format(\"apple\", \"banana\"))\n",
    "print(\"Number {0}, {2}, {1} !!\".format(1,2,3))\n",
    "print(\"Number {}, {}, {} !!\".format(1,2,3))\n",
    "\n",
    "print(\"Number {0:>4}!\".format(1))\n",
    "print(\"Number {0:<4}!\".format(1))\n",
    "print(\"Number {0:=<4}!\".format(1))\n",
    "print(\"Number {0:-^5}!\".format(1))"
   ]
  },
  {
   "cell_type": "markdown",
   "metadata": {},
   "source": [
    "#### f문자열 (python >= 3.6)\n"
   ]
  },
  {
   "cell_type": "code",
   "execution_count": 28,
   "metadata": {},
   "outputs": [
    {
     "name": "stdout",
     "output_type": "stream",
     "text": [
      "수학점수:95 \n",
      "영어점수:----65----\n",
      "과학점수:40\n",
      "수학점수:100 \n",
      "영어점수:----65----\n",
      "과학점수:40\n"
     ]
    }
   ],
   "source": [
    "math = 95\n",
    "english = 65\n",
    "science =40\n",
    "\n",
    "print(f\"수학점수:{math} \\n영어점수:{english:-^10}\\n과학점수:{science}\") \n",
    "print(f\"수학점수:{math+5} \\n영어점수:{english:-^10}\\n과학점수:{science}\") "
   ]
  },
  {
   "cell_type": "markdown",
   "metadata": {},
   "source": [
    "### 연습문제 4\n",
    "a=\"20190505chicken19000\"는 잘못 쓰여진 변수이다.\n",
    "2019는 year이라는 변수에, 그 다음 0505를 day라는 변수\n",
    "chicken을 menu라는 변수에, 19000을 money라는 변수에 인덱싱을 사용하여 각각 저장하고 출력하시오."
   ]
  },
  {
   "cell_type": "code",
   "execution_count": 33,
   "metadata": {},
   "outputs": [
    {
     "name": "stdout",
     "output_type": "stream",
     "text": [
      "2019, 0505, chicken, 19000\n"
     ]
    }
   ],
   "source": [
    "a=\"20190505chicken19000\"\n",
    "\n",
    "#code 작성\n",
    "\n",
    "year = a[0:4]\n",
    "day = a[4:8]\n",
    "menu = a[8:15]\n",
    "money = a[-5:]\n",
    "\n",
    "print(year,day,menu,money, sep= ', ')"
   ]
  },
  {
   "cell_type": "markdown",
   "metadata": {},
   "source": [
    "### 연습문제 5\n",
    "a = \"90:30:80\"이고 :을 기준으로 각각 수학점수, 영어점수, 과학점수이다.\n",
    "문자열 인덱싱을 이용해 각 점수를 각각 \n",
    "math, english, science 변수에 저장하고, average란 변수에 평균값을 저장하고 출력하시오."
   ]
  },
  {
   "cell_type": "code",
   "execution_count": 31,
   "metadata": {},
   "outputs": [
    {
     "name": "stdout",
     "output_type": "stream",
     "text": [
      "66.66666666666667\n"
     ]
    }
   ],
   "source": [
    "a = \"90:30:80\"\n",
    "\n",
    "#code 작성\n",
    "\n",
    "math = float(a[:2])\n",
    "english = float(a[3:5])\n",
    "science = float(a[-2:])\n",
    "\n",
    "average = (math+english+science)/3\n",
    "\n",
    "print(average)"
   ]
  },
  {
   "cell_type": "markdown",
   "metadata": {},
   "source": [
    "#### 문자열 함수 소개 #1\n",
    "\n",
    "len(값) - 문자 길이\n",
    "\n",
    "index(찾을 문자) - index 찾기\n",
    "\n",
    "upper()/lower() - 대문자/소문자 바꾸기\n",
    "\n",
    "replace(바꿀문자, 새문자) - 문자열 바꾸기"
   ]
  },
  {
   "cell_type": "code",
   "execution_count": 34,
   "metadata": {},
   "outputs": [
    {
     "name": "stdout",
     "output_type": "stream",
     "text": [
      "12\n",
      "1\n",
      "APPLE BANANA\n",
      "apple banana\n",
      "Apple Orange\n"
     ]
    }
   ],
   "source": [
    "word = \"Apple banana\"\n",
    "print(len(word))\n",
    "print(word.index(\"p\"))\n",
    "print(word.upper())\n",
    "print(word.lower())\n",
    "print(word.replace(\"banana\",\"Orange\"))"
   ]
  },
  {
   "cell_type": "markdown",
   "metadata": {},
   "source": [
    "#### 문자열 함수 소개 #2\n",
    "\n",
    "count(target 문자) - target 문자 개수\n",
    "\n",
    "strip()/lstrip()/rstrip() - 공백제거\n",
    "\n",
    "split(기준 문자) - 문자열 분리하기\n",
    "\n",
    "join - 리스트에서 문자열로"
   ]
  },
  {
   "cell_type": "code",
   "execution_count": 39,
   "metadata": {},
   "outputs": [
    {
     "name": "stdout",
     "output_type": "stream",
     "text": [
      "3\n",
      "2\n",
      "| Apple banana |\n",
      "| Apple banana    |\n",
      "|    Apple banana |\n",
      "['10', '20', '50', '80', '99']\n",
      "['Apple', 'banana']\n",
      "10,20,50,80,99\n"
     ]
    }
   ],
   "source": [
    "word = \"Apple banana\"\n",
    "print(word.count('a'))\n",
    "print(word.count('p'))\n",
    "\n",
    "word = \"   Apple banana   \"\n",
    "print(\"|\",word.strip(),\"|\")\n",
    "print(\"|\",word.lstrip(),\"|\")\n",
    "print(\"|\",word.rstrip(),\"|\")\n",
    "\n",
    "scores = \"10:20:50:80:99\"\n",
    "score_list=scores.split(\":\")\n",
    "print(score_list)\n",
    "print(word.split())\n",
    "\n",
    "print(\",\".join(score_list))"
   ]
  },
  {
   "cell_type": "markdown",
   "metadata": {},
   "source": [
    "### 연습 문제 6\n",
    "a =\"  90:30:80  \"이고 :을 기준으로 각각 수학점수, 영어점수, 과학점수이다.\n",
    "문자열 함수를 이용해 공백을 제거하고 \n",
    "각 점수를 각각 math, english, science 변수에 저장한 후, average란 변수에 평균값을 저장하고 출력하시오."
   ]
  },
  {
   "cell_type": "code",
   "execution_count": 42,
   "metadata": {},
   "outputs": [
    {
     "name": "stdout",
     "output_type": "stream",
     "text": [
      "66.66666666666667\n"
     ]
    }
   ],
   "source": [
    "a = \"  90:30:80  \"\n",
    "strip_a =a.strip()\n",
    "a_list=strip_a.split(\":\")\n",
    "\n",
    "math = float(a_list[0])\n",
    "english = float(a_list[1])\n",
    "science = float(a_list[2])\n",
    "\n",
    "average = (math+english+science)/3\n",
    "\n",
    "print(average)"
   ]
  },
  {
   "cell_type": "markdown",
   "metadata": {},
   "source": [
    "### 리스트와 튜플 선언\n",
    "\n",
    "리스트 = [값,값,값 ...] # 수정 및 추가 가능\n",
    "튜플 = (값,값,값 ...) # 수정 및 추가 불가능"
   ]
  },
  {
   "cell_type": "code",
   "execution_count": 43,
   "metadata": {},
   "outputs": [],
   "source": [
    "a = [] #빈값 생성\n",
    "a = list() #빈값 생성\n",
    "a = [1,2,3,4,5,6,7]\n",
    "\n",
    "b = ()\n",
    "b = tuple()\n",
    "b = (1,2,3,4,5,6,7)\n"
   ]
  },
  {
   "cell_type": "markdown",
   "metadata": {},
   "source": [
    "Range 함수 - 연속된 숫자를 새엇ㅇ하는 함수"
   ]
  },
  {
   "cell_type": "code",
   "execution_count": 45,
   "metadata": {},
   "outputs": [
    {
     "name": "stdout",
     "output_type": "stream",
     "text": [
      "[0, 1, 2, 3, 4, 5, 6, 7, 8, 9]\n",
      "[1, 2, 3, 4, 5, 6, 7, 8, 9, 10]\n",
      "(0, 1, 2, 3, 4, 5, 6, 7, 8, 9)\n",
      "[-10, -8, -6, -4, -2, 0, 2, 4, 6, 8]\n",
      "[5, 4, 3, 2, 1]\n"
     ]
    }
   ],
   "source": [
    "#range (시작, 끝, 증가폭)\n",
    "\n",
    "a = list(range(10))\n",
    "print(a)\n",
    "a = list(range(1,11))\n",
    "print(a)\n",
    "a = tuple(range(10))\n",
    "print(a)\n",
    "a = list(range(-10, 10, 2))\n",
    "print(a)\n",
    "a = list(range(5,0,-1))\n",
    "print(a)"
   ]
  },
  {
   "cell_type": "markdown",
   "metadata": {},
   "source": [
    "* 리스트, 튜플 형변환\n",
    "\n",
    "list(튜플), tuple(리스트)\n",
    "\n",
    "\n",
    "* 인덱스 접근"
   ]
  },
  {
   "cell_type": "code",
   "execution_count": 48,
   "metadata": {},
   "outputs": [
    {
     "name": "stdout",
     "output_type": "stream",
     "text": [
      "[3, 5, 7]\n",
      "[1, 2, 3, 4, 5, 6, 7, 8] [6, 7, 8, 9, 10]\n",
      "[1, 'a', 'b', 'c', 5, 6, 7, 8, 9, 10]\n",
      "[1, 'a', 'b', 5, 6, 7, 8, 9, 10]\n",
      "[1, 6, 7, 8, 9, 10]\n"
     ]
    }
   ],
   "source": [
    "#증가폭 변경\n",
    "a = [1, 2, 3, 4, 5, 6, 7, 8, 9, 10]\n",
    "print(a[2:8:2])\n",
    "#끝 인덱스\n",
    "print(a[:8],a[5:])\n",
    "\n",
    "# 슬라이스 요소할당\n",
    "a[1:4]=[\"a\",\"b\",\"c\"]\n",
    "print(a)\n",
    "a[1:4]=[\"a\",\"b\"]\n",
    "print(a)\n",
    "\n",
    "#슬라이스 삭제\n",
    "del a[1:4]\n",
    "\n",
    "print(a)"
   ]
  },
  {
   "cell_type": "markdown",
   "metadata": {},
   "source": [
    "### 리스트와 튜플 기능 #1"
   ]
  },
  {
   "cell_type": "code",
   "execution_count": 49,
   "metadata": {},
   "outputs": [
    {
     "name": "stdout",
     "output_type": "stream",
     "text": [
      "True\n"
     ]
    }
   ],
   "source": [
    "#특정값 있는지 확인 in\n",
    "print(1 in a)"
   ]
  },
  {
   "cell_type": "markdown",
   "metadata": {},
   "source": [
    "### 리스트 함수 #1"
   ]
  },
  {
   "cell_type": "code",
   "execution_count": 61,
   "metadata": {},
   "outputs": [
    {
     "name": "stdout",
     "output_type": "stream",
     "text": [
      "[1, 2, 3, 4, 5, 6]\n",
      "[1, 2, 3, 4, 5, 6, 7, 8]\n",
      "[1, 2, 100, 3, 4, 5, 6, 7, 8]\n",
      "[1, 2, 3, 4, 5, 6, 7, 8]\n",
      "[1, 2, 4, 5, 6, 7, 8]\n",
      "2\n",
      "4\n",
      "[3, 3, 3, 3, 2, 2, 1, 1]\n",
      "[1, 1, 2, 2, 3, 3, 3, 3]\n",
      "[3, 3, 3, 3, 2, 2, 1, 1]\n"
     ]
    }
   ],
   "source": [
    "#요소 추가하기 append(값), expend(리스트)\n",
    "a = [1,2,3,4,5]\n",
    "a.append(6)\n",
    "print(a)\n",
    "a.extend([7,8])\n",
    "print(a)\n",
    "\n",
    "#특정 인덱스에 요소 추가 insert(인덱스, 값)\n",
    "a.insert(2,100)\n",
    "print(a)\n",
    "\n",
    "#리스트 요소 삭제 pop(인덱스)\n",
    "a.pop(2)\n",
    "print(a)\n",
    "\n",
    "#리스트 특정값을 찾아 삭제 remove(값)\n",
    "a.remove(3)\n",
    "print(a)\n",
    "\n",
    "#특정값의 인덱스 구하기 index(값)\n",
    "print(a.index(4))\n",
    "\n",
    "#특정값의 개수 구하기 count(값)\n",
    "a = [1,1,2,2,3,3,3,3]\n",
    "print(a.count(3))\n",
    "\n",
    "#순서 뒤집기 reverse()\n",
    "a.reverse()\n",
    "print(a)\n",
    "\n",
    "#정렬하기 (오름차순) sort(), sort(reverse=False)\n",
    "a.sort()\n",
    "print(a)\n",
    "\n",
    "#정렬하기 (내림차순) sort(reverse=True)\n",
    "a.sort(reverse=True)\n",
    "print(a)"
   ]
  },
  {
   "cell_type": "markdown",
   "metadata": {},
   "source": [
    "### 리스트 할당과 복사"
   ]
  },
  {
   "cell_type": "code",
   "execution_count": 71,
   "metadata": {
    "scrolled": true
   },
   "outputs": [
    {
     "name": "stdout",
     "output_type": "stream",
     "text": [
      "[99, 2, 3, 4, 5] | [99, 2, 3, 4, 5] | [8, 2, 3, 4, 5]\n",
      "--------------------------------------------------\n",
      "[[10, 2], [3, 4], [5, 6]] | [[10, 2], [3, 4], [5, 6]]\n",
      "[[10, 2], [3, 4], [5, 6]] | [[1, 2], [3, 4], [5, 6]]\n"
     ]
    }
   ],
   "source": [
    "a = [1,2,3,4,5]\n",
    "b = a #주소 복사\n",
    "c = a.copy() #값 복사\n",
    "\n",
    "b[0] = 99\n",
    "c[0] = 8\n",
    "\n",
    "print(a,\"|\",b,\"|\",c)\n",
    "print(\"-\"*50)\n",
    "\n",
    "# 2차원 이상의 리스트는 copy.deepcopy()를 이용하여 값을 복사\n",
    "import copy\n",
    "a = [[1,2],[3,4],[5,6]]\n",
    "b = a.copy()\n",
    "b[0][0] = 10\n",
    "\n",
    "print(a,\"|\",b)\n",
    "\n",
    "c = copy.deepcopy(a)\n",
    "c[0][0] = 1\n",
    "\n",
    "print(a,\"|\",c)"
   ]
  },
  {
   "cell_type": "markdown",
   "metadata": {},
   "source": [
    "### 딕셔너리\n",
    "딕셔너리 = {키1:값1, 키2:값2, ...} #딕셔너리 생성\n",
    "\n",
    "딕셔너리 = dict(키1=값1, 키2= 값2, ...)\n",
    "\n",
    "딕셔너리 = dict() #비어있는 딕셔너리\n",
    "\n",
    "딕셔너리 = {} #비어있는 딕셔너리"
   ]
  },
  {
   "cell_type": "markdown",
   "metadata": {},
   "source": [
    "#### 딕셔너리 기능 #1"
   ]
  },
  {
   "cell_type": "code",
   "execution_count": 5,
   "metadata": {},
   "outputs": [
    {
     "name": "stdout",
     "output_type": "stream",
     "text": [
      "True\n",
      "False\n",
      "3\n",
      "{'name': 'tom', 'math': 80, 'english': 70, 'age': 20}\n",
      "tom\n",
      "{'math': 90, 'english': 70, 'age': 20}\n",
      "dict_keys(['math', 'english', 'age'])\n",
      "dict_values([90, 70, 20])\n",
      "dict_items([('math', 90), ('english', 70), ('age', 20)])\n",
      "{}\n"
     ]
    }
   ],
   "source": [
    "#키가 있는지 확인\n",
    "score = {\"name\":\"tom\", \"math\": 80, \"english\": 70}\n",
    "print(\"math\" in score)\n",
    "print(\"age\" in score)\n",
    "\n",
    "#키의 개수\n",
    "print(len(score))\n",
    "\n",
    "#키-값 쌍 추가하기 setdefault(키, 값)\n",
    "score.setdefault(\"age\", 20)\n",
    "print(score)\n",
    "\n",
    "#키-값 수정하기 update({키:값})\n",
    "score.update({\"math\": 90})\n",
    "\n",
    "#키로 딕셔너리 항목 삭제 pop(키, 기본값)\n",
    "return_data = score.pop(\"name\") #삭제된 키 값 반환\n",
    "print(return_data)\n",
    "print(score)\n",
    "\n",
    "#모든 키 값 가져오기\n",
    "print(score.keys()) #키 가져오기\n",
    "print(score.values()) #값 가져오기\n",
    "print(score.items()) #키와 값 가져오기\n",
    "\n",
    "#모든 값 삭제 clear()\n",
    "score.clear()\n",
    "print(score)"
   ]
  },
  {
   "cell_type": "markdown",
   "metadata": {},
   "source": [
    "#### 딕셔너리 할당과 복사"
   ]
  },
  {
   "cell_type": "code",
   "execution_count": 7,
   "metadata": {},
   "outputs": [
    {
     "name": "stdout",
     "output_type": "stream",
     "text": [
      "{'a': 0, 'b': 1} | {'a': 0, 'b': 1}\n",
      "{'a': {'c': 0, 'd': 0}, 'b': {'e': 0, 'f': 0}} | {'a': {'c': 0, 'd': 0}, 'b': {'e': 0, 'f': 0}}\n"
     ]
    }
   ],
   "source": [
    "#딕셔너리 복사 copy()\n",
    "a = {\"a\":0, \"b\":1}\n",
    "b = a.copy() #리스트와 마찬가지\n",
    "print(a,\"||||\",b)\n",
    "\n",
    "#중첩 딕셔너리의 경우\n",
    "import copy\n",
    "a = {\"a\": {\"c\":0,\"d\":0}, \"b\":{\"e\":0,\"f\":0}}\n",
    "b = copy.deepcopy(a)\n",
    "print(a,\"||||\",b)"
   ]
  },
  {
   "cell_type": "markdown",
   "metadata": {},
   "source": [
    "### Set(집합)\n",
    "세트 = {값1, 값2, 값3, 값4, ...}"
   ]
  },
  {
   "cell_type": "code",
   "execution_count": 9,
   "metadata": {},
   "outputs": [
    {
     "name": "stdout",
     "output_type": "stream",
     "text": [
      "<class 'set'>\n"
     ]
    }
   ],
   "source": [
    "animal = {\"dog\", \"cat\", \"monkey\", \"horse\"}\n",
    "print(type(animal))"
   ]
  },
  {
   "cell_type": "code",
   "execution_count": 17,
   "metadata": {},
   "outputs": [
    {
     "name": "stdout",
     "output_type": "stream",
     "text": [
      "True\n",
      "{'i', 'm', 'l', 'a', 'n'}\n",
      "{0, 1, 2, 3, 4}\n",
      "--------------------------------------------------\n",
      "{1, 2, 3, 4, 5}\n",
      "{1, 2, 3, 4, 5}\n",
      "--------------------------------------------------\n",
      "{3}\n",
      "{3}\n",
      "--------------------------------------------------\n",
      "{1, 2}\n",
      "{1, 2}\n",
      "--------------------------------------------------\n",
      "{1, 2, 4, 5}\n",
      "{1, 2, 4, 5}\n",
      "--------------------------------------------------\n",
      "True\n",
      "True\n",
      "False\n",
      "False\n",
      "--------------------------------------------------\n",
      "True\n",
      "True\n",
      "True\n",
      "False\n",
      "--------------------------------------------------\n",
      "True\n",
      "False\n",
      "--------------------------------------------------\n",
      "{1, 2, 3, 4, 5}\n",
      "--------------------------------------------------\n",
      "{2, 3, 4, 5}\n",
      "--------------------------------------------------\n",
      "{3, 4, 5}\n"
     ]
    }
   ],
   "source": [
    "#세트에 특정값 확인\n",
    "print(\"cat\" in animal)\n",
    "\n",
    "#set을 사용하여 세트 만들기\n",
    "a = set(\"animal\")\n",
    "print(a)\n",
    "\n",
    "b = set(range(5))\n",
    "print(b)\n",
    "print(\"-\"*50)\n",
    "\n",
    "#합집합 |, set.union\n",
    "a = {1,2,3}\n",
    "b = {3,4,5}\n",
    "\n",
    "print(a|b)\n",
    "print(set.union(a,b))\n",
    "print(\"-\"*50)\n",
    "\n",
    "#교집합 &, set.intersection\n",
    "\n",
    "print(a&b)\n",
    "print(set.intersection(a,b))\n",
    "print(\"-\"*50)\n",
    "\n",
    "#차집합 -, set.difference\n",
    "\n",
    "print(a-b)\n",
    "print(set.difference(a,b))\n",
    "print(\"-\"*50)\n",
    "\n",
    "#대칭 차집합 ^, set.symmetric_difference\n",
    "\n",
    "print(a^b)\n",
    "print(set.symmetric_difference(a,b))\n",
    "print(\"-\"*50)\n",
    "\n",
    "#부분집합 <=, issubset(다른세트)\n",
    "a = {1,2,3,4}\n",
    "print(a <= {1,2,3,4,5})\n",
    "print(a.issubset({1,2,3,4,5}))\n",
    "\n",
    "print(a <= {1,2,3})\n",
    "print(a.issubset({1,2,3}))\n",
    "\n",
    "print(\"-\"*50)\n",
    "\n",
    "#상위집합 >=, issuperset(다른세트)\n",
    "\n",
    "a = {1,2,3,4}\n",
    "print(a >= {1,2,3})\n",
    "print(a.issuperset({1,2,3}))\n",
    "\n",
    "print(a <= {1,2,3,4,5})\n",
    "print(a.issuperset({1,2,3,4,5}))\n",
    "\n",
    "print(\"-\"*50)\n",
    "\n",
    "#겹치는 요소확인 isdisjoint(다른세트)\n",
    "a = {1,2,3,4}\n",
    "print(a.isdisjoint({5,6,7,8})) #겹치는 요소 없음\n",
    "print(a.isdisjoint({2,3,4,5})) # 2,3,4 겹침\n",
    "print(\"-\"*50)\n",
    "\n",
    "#추가하기 add(요소)\n",
    "a.add(5)\n",
    "print(a)\n",
    "print(\"-\"*50)\n",
    "\n",
    "#삭제하기 remove(요소), discard(요소)\n",
    "\n",
    "a.remove(1)\n",
    "print(a)\n",
    "print(\"-\"*50)\n",
    "\n",
    "a.discard(2)\n",
    "print(a)\n"
   ]
  },
  {
   "cell_type": "code",
   "execution_count": null,
   "metadata": {},
   "outputs": [],
   "source": []
  }
 ],
 "metadata": {
  "kernelspec": {
   "display_name": "Python 3",
   "language": "python",
   "name": "python3"
  },
  "language_info": {
   "codemirror_mode": {
    "name": "ipython",
    "version": 3
   },
   "file_extension": ".py",
   "mimetype": "text/x-python",
   "name": "python",
   "nbconvert_exporter": "python",
   "pygments_lexer": "ipython3",
   "version": "3.7.3"
  }
 },
 "nbformat": 4,
 "nbformat_minor": 2
}
